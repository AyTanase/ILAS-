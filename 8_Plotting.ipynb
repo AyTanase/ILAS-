{
 "cells": [
  {
   "cell_type": "code",
   "execution_count": null,
   "metadata": {},
   "outputs": [],
   "source": [
    "from IPython.core.display import HTML\n",
    "def css_styling():\n",
    "    styles = open(\"./styles/custom.css\", \"r\").read()\n",
    "    return HTML(styles)\n",
    "css_styling()"
   ]
  },
  {
   "cell_type": "markdown",
   "metadata": {
    "slideshow": {
     "slide_type": "slide"
    }
   },
   "source": [
    "### BEFORE YOU DO ANYTHING...\n",
    "In the terminal:\n",
    "1. Navigate to __inside__ your ILAS_Python repository.\n",
    "2. __COMMIT__ any un-commited work on your personal computer.\n",
    "3. __PULL__ any changes *you* have made using another computer.\n",
    "4. __PULL__ textbook updates (including homework answers)."
   ]
  },
  {
   "cell_type": "markdown",
   "metadata": {
    "slideshow": {
     "slide_type": "slide"
    }
   },
   "source": [
    "1. __Open Jupyter notebook:__   Start >> Programs (すべてのプログラム) >> Programming >> Anaconda3 >> JupyterNotebook\n",
    "1. __Navigate to the ILAS_Python folder__. \n",
    "1. __Open today's seminar__  by clicking on 8_Plotting."
   ]
  },
  {
   "cell_type": "markdown",
   "metadata": {
    "slideshow": {
     "slide_type": "slide"
    }
   },
   "source": [
    "# Plotting\n",
    "\n",
    "# Lesson Goal\n",
    "\n",
    "To use the Matplotlib Python package to visualise results. "
   ]
  },
  {
   "cell_type": "markdown",
   "metadata": {
    "slideshow": {
     "slide_type": "slide"
    }
   },
   "source": [
    "# Objectives\n",
    "\n",
    "Matplotlib is the most widel used Python module for plotting.\n",
    "\n",
    "It's functionality is huge.\n",
    "\n",
    "Today's objective is to:\n",
    "- introduce the core functionality of Matplotlib as a basis that you can build on. \n",
    "- focus on tasks where plotting *programmatically* can be advantageous over other *computational* plotting methods. \n",
    "\n",
    "Use online resources including the Matplotlib Gallery (http://matplotlib.org/gallery.html), or Github (http://gree2.github.io/python/2015/04/10/python-matplotlib-plotting-examples-and-exercises), as a source of tutorials and sample code for plotting. \n",
    "\n",
    " "
   ]
  },
  {
   "cell_type": "markdown",
   "metadata": {
    "slideshow": {
     "slide_type": "slide"
    }
   },
   "source": [
    "## Why we are studying this\n",
    "\n",
    "Plotting is one of the most important computational tasks used by  engineers and scientists.  \n",
    "\n",
    "Plots are used for:\n",
    "\n",
    "- checking computed results visually\n",
    "- understanding data\n",
    "- presenting data\n",
    "\n",
    "\n",
    "\n",
    "\n"
   ]
  },
  {
   "cell_type": "markdown",
   "metadata": {
    "slideshow": {
     "slide_type": "slide"
    }
   },
   "source": [
    "## Packages\n",
    "We will be using:\n",
    "- Numpy for numerical computation.\n",
    "- Matplotlib to produce figures and animations. \n",
    "- Ipywidgets to make our plots interactive"
   ]
  },
  {
   "cell_type": "code",
   "execution_count": 2,
   "metadata": {
    "slideshow": {
     "slide_type": "slide"
    }
   },
   "outputs": [],
   "source": [
    "import numpy as np\n",
    "\n",
    "# Plotting and animation\n",
    "import matplotlib\n",
    "from matplotlib import animation, rc\n",
    "import matplotlib.pyplot as plt\n",
    "import matplotlib.cm as cm\n",
    "%matplotlib inline\n",
    "\n",
    "# Interactive plotting\n",
    "import sys\n",
    "try:\n",
    "    import ipywidgets\n",
    "except ImportError:\n",
    "    try:\n",
    "        !{sys.executable} -m pip -q install ipywidgets\n",
    "        import ipywidgets\n",
    "    except ImportError:\n",
    "        !{sys.executable} -m pip -q --user install ipywidgets\n",
    "    finally:\n",
    "        !jupyter nbextension enable --py widgetsnbextension\n",
    "        print(\"You will need to refresh your browser page\")\n",
    "from ipywidgets import interact\n",
    "\n",
    "# Viewing animations in the notebook\n",
    "from IPython.display import HTML\n",
    "\n",
    "# Plotting in 3D\n",
    "from mpl_toolkits.mplot3d import axes3d\n",
    "\n",
    "# Viewing .gif animations in the notebook\n",
    "from IPython.display import Image\n",
    "from IPython.display import display"
   ]
  },
  {
   "cell_type": "markdown",
   "metadata": {
    "slideshow": {
     "slide_type": "slide"
    }
   },
   "source": [
    "## Line and Scatter Plots\n",
    "In the last seminar you learnt to use basic line and scatter plots.\n",
    "\n",
    "This section will discusss different ways that you can manipulate the appearance of these plots.\n",
    "\n"
   ]
  },
  {
   "cell_type": "markdown",
   "metadata": {
    "slideshow": {
     "slide_type": "subslide"
    }
   },
   "source": [
    "For a sample data set of values of $x$ and corresponding values of $f$:"
   ]
  },
  {
   "cell_type": "code",
   "execution_count": 3,
   "metadata": {
    "collapsed": true
   },
   "outputs": [],
   "source": [
    "x = [-1, 3, 4, 8 , 10]\n",
    "f = [-1, -2, 7, 13 , 1]"
   ]
  },
  {
   "cell_type": "markdown",
   "metadata": {},
   "source": [
    "We can produce a line plot.."
   ]
  },
  {
   "cell_type": "code",
   "execution_count": 4,
   "metadata": {
    "slideshow": {
     "slide_type": "subslide"
    }
   },
   "outputs": [
    {
     "data": {
      "text/plain": [
       "[<matplotlib.lines.Line2D at 0x7fbb7652ba58>]"
      ]
     },
     "execution_count": 4,
     "metadata": {},
     "output_type": "execute_result"
    },
    {
     "data": {
      "image/png": "[encoded data removed]",
      "text/plain": [
       "<matplotlib.figure.Figure at 0x7fbb8df69cc0>"
      ]
     },
     "metadata": {},
     "output_type": "display_data"
    }
   ],
   "source": [
    "plt.plot(x, f)"
   ]
  },
  {
   "cell_type": "markdown",
   "metadata": {
    "slideshow": {
     "slide_type": "subslide"
    }
   },
   "source": [
    "...or a scatter plot by adding the `formatstring 'o'`..."
   ]
  },
  {
   "cell_type": "code",
   "execution_count": 5,
   "metadata": {},
   "outputs": [
    {
     "data": {
      "text/plain": [
       "[<matplotlib.lines.Line2D at 0x7fbb7640ef98>]"
      ]
     },
     "execution_count": 5,
     "metadata": {},
     "output_type": "execute_result"
    },
    {
     "data": {
      "image/png": "[encoded data removed]",
      "text/plain": [
       "<matplotlib.figure.Figure at 0x7fbb7e3ad320>"
      ]
     },
     "metadata": {},
     "output_type": "display_data"
    }
   ],
   "source": [
    "plt.plot(x, f, 'o')  "
   ]
  },
  {
   "cell_type": "markdown",
   "metadata": {
    "slideshow": {
     "slide_type": "subslide"
    }
   },
   "source": [
    "...or a line plot with data points by adding the `formatstring '-o'`."
   ]
  },
  {
   "cell_type": "code",
   "execution_count": 6,
   "metadata": {},
   "outputs": [
    {
     "data": {
      "text/plain": [
       "[<matplotlib.lines.Line2D at 0x7fbb763acf28>]"
      ]
     },
     "execution_count": 6,
     "metadata": {},
     "output_type": "execute_result"
    },
    {
     "data": {
      "image/png": "[encoded data removed]",
      "text/plain": [
       "<matplotlib.figure.Figure at 0x7fbb7645b160>"
      ]
     },
     "metadata": {},
     "output_type": "display_data"
    }
   ],
   "source": [
    "plt.plot(x, f, '-o')  "
   ]
  },
  {
   "cell_type": "markdown",
   "metadata": {
    "slideshow": {
     "slide_type": "subslide"
    }
   },
   "source": [
    "Notice the statement `[<matplotlib.lines.Line2D at 0x30990b0>]` appears each time (the numbers on your computer may look different). \n",
    "\n",
    "This is a handle to the line that is created with the last command in the code block (in this case `plt.plot(x, y)`). \n",
    "\n",
    "You can avoid printing this by putting a semicolon after the last command in the code block (so type `plot(x, y);`). \n",
    "\n",
    "(It can be useful to store this handle in a variable - we will discuss this later)."
   ]
  },
  {
   "cell_type": "markdown",
   "metadata": {
    "slideshow": {
     "slide_type": "subslide"
    }
   },
   "source": [
    "The `plot` function can take many arguments.\n",
    "\n",
    "Summary so far, `plot` can take:\n",
    " - One argument `plot(y)`, which plots `y` values along the vertical axis and enumerates the horizontal axis starting at 0.\n",
    " - Two arguments, `plot(x, y)`, which plots `y` vs `x`.\n",
    " - Three arguments `plot(x, y, formatstring)`, which plots `y` vs `x` using colors and markers defined in `formatstring`.\n",
    " \n",
    " "
   ]
  },
  {
   "cell_type": "markdown",
   "metadata": {
    "slideshow": {
     "slide_type": "subslide"
    }
   },
   "source": [
    "Using the `formatstring` argument we can chnage:\n",
    " - the colour of the plot\n",
    " - the style of the markers\n",
    " - the style of the line"
   ]
  },
  {
   "cell_type": "markdown",
   "metadata": {
    "slideshow": {
     "slide_type": "subslide"
    }
   },
   "source": [
    "In the example below:\n",
    " - `r` makes the plot red\n",
    " - `x` makes the markers crosses\n",
    " - `-` makes the line solid"
   ]
  },
  {
   "cell_type": "code",
   "execution_count": 7,
   "metadata": {},
   "outputs": [
    {
     "data": {
      "image/png": "[encoded data removed]",
      "text/plain": [
       "<matplotlib.figure.Figure at 0x7fbb76363550>"
      ]
     },
     "metadata": {},
     "output_type": "display_data"
    }
   ],
   "source": [
    "plt.plot(x, f, '-xr');"
   ]
  },
  {
   "cell_type": "markdown",
   "metadata": {},
   "source": [
    "Note the semi-colon when calling the `plot` function."
   ]
  },
  {
   "cell_type": "markdown",
   "metadata": {
    "slideshow": {
     "slide_type": "subslide"
    }
   },
   "source": [
    "Available colours, maker styles and line styles can be found in the matplotlib documentation. \n",
    " - Colour: https://matplotlib.org/2.0.2/api/colors_api.html\n",
    " - Marker style: https://matplotlib.org/api/markers_api.html\n",
    " - Line style: https://matplotlib.org/devdocs/gallery/lines_bars_and_markers/line_styles_reference.html"
   ]
  },
  {
   "cell_type": "markdown",
   "metadata": {
    "slideshow": {
     "slide_type": "subslide"
    }
   },
   "source": [
    "The `plot` function also takes a large number of keyword arguments. \n",
    "\n",
    "For example, to plot a line with width 6 (the default is 1): "
   ]
  },
  {
   "cell_type": "code",
   "execution_count": 8,
   "metadata": {},
   "outputs": [
    {
     "data": {
      "image/png": "[encoded data removed]",
      "text/plain": [
       "<matplotlib.figure.Figure at 0x7fbb7643fb38>"
      ]
     },
     "metadata": {},
     "output_type": "display_data"
    }
   ],
   "source": [
    "plt.plot(x, f, '-xr', linewidth=6);"
   ]
  },
  {
   "cell_type": "markdown",
   "metadata": {
    "slideshow": {
     "slide_type": "subslide"
    }
   },
   "source": [
    "Remeber keyword arguments must always appear after regular arguments when calling the function.\n",
    "\n",
    "Documentation of all available keyword arguments can be found here: https://matplotlib.org/api/_as_gen/matplotlib.pyplot.plot.html#matplotlib.pyplot.plot"
   ]
  },
  {
   "cell_type": "markdown",
   "metadata": {
    "slideshow": {
     "slide_type": "subslide"
    }
   },
   "source": [
    "Other methods such as `legend`, `xlabel`, `ylabel` and `title` can be used to add useful information to a plot."
   ]
  },
  {
   "cell_type": "markdown",
   "metadata": {
    "slideshow": {
     "slide_type": "slide"
    }
   },
   "source": [
    "### Adding labels, legend and title. \n",
    "The location of the legend can be set the the 'best' in terms of not obscuring data. \n",
    "\n",
    "The position of the legend can also be set expllicitly instead. The location codes acan be found here: https://matplotlib.org/api/legend_api.html\n",
    "\n",
    "Using the $ sign can be used to italicise a string.\n",
    "\n",
    "The font size of all strings in the figure can be selected."
   ]
  },
  {
   "cell_type": "code",
   "execution_count": 9,
   "metadata": {
    "slideshow": {
     "slide_type": "subslide"
    }
   },
   "outputs": [
    {
     "data": {
      "image/png": "[encoded data removed]",
      "text/plain": [
       "<matplotlib.figure.Figure at 0x7fbb7627bbe0>"
      ]
     },
     "metadata": {},
     "output_type": "display_data"
    }
   ],
   "source": [
    "# Use the label kwarg to create a name to use in the figure legend. \n",
    "plt.plot(x, f, '-xr', label=\"data 1\")\n",
    "\n",
    "# Legend\n",
    "plt.legend(loc='best', fontsize=12)\n",
    "\n",
    "# Axes labels\n",
    "plt.xlabel('$x$', fontsize=20)\n",
    "plt.ylabel('$f$', fontsize=20)\n",
    "\n",
    "# Title\n",
    "plt.title(\"Simple plot of $f$ against $x$\", fontsize=18);"
   ]
  },
  {
   "cell_type": "markdown",
   "metadata": {},
   "source": [
    "Note the semi-colon when calling the `title` function."
   ]
  },
  {
   "cell_type": "markdown",
   "metadata": {
    "slideshow": {
     "slide_type": "subslide"
    }
   },
   "source": [
    "### Setting the axis limits\n",
    "Example: plot the funstion $sin(x)$ for 100 equally spaced values of x between $0$ and $4 \\pi$ (inclusive). "
   ]
  },
  {
   "cell_type": "code",
   "execution_count": 10,
   "metadata": {
    "slideshow": {
     "slide_type": "subslide"
    }
   },
   "outputs": [
    {
     "data": {
      "text/plain": [
       "<matplotlib.text.Text at 0x7fbb762a4cc0>"
      ]
     },
     "execution_count": 10,
     "metadata": {},
     "output_type": "execute_result"
    },
    {
     "data": {
      "image/png": "[encoded data removed]",
      "text/plain": [
       "<matplotlib.figure.Figure at 0x7fbb764c51d0>"
      ]
     },
     "metadata": {},
     "output_type": "display_data"
    }
   ],
   "source": [
    "num_points = 100\n",
    "x = np.linspace(0, 4*np.pi, num_points)\n",
    "f = np.sin(x)\n",
    "\n",
    "# Plot graph\n",
    "plt.plot(x, f);\n",
    "\n",
    "# Label axis\n",
    "plt.xlabel('$x$')\n",
    "plt.ylabel('$\\sin(x)$')\n",
    "\n"
   ]
  },
  {
   "cell_type": "markdown",
   "metadata": {
    "slideshow": {
     "slide_type": "subslide"
    }
   },
   "source": [
    "The zero on the x axis is offset by an unknown amount. \n",
    "\n",
    "We can improve the appearance of the plot by specifying the $x$ limits:"
   ]
  },
  {
   "cell_type": "code",
   "execution_count": 11,
   "metadata": {
    "slideshow": {
     "slide_type": "subslide"
    }
   },
   "outputs": [
    {
     "data": {
      "text/plain": [
       "(0.0, 12.566370614359172)"
      ]
     },
     "execution_count": 11,
     "metadata": {},
     "output_type": "execute_result"
    },
    {
     "data": {
      "image/png": "[encoded data removed]",
      "text/plain": [
       "<matplotlib.figure.Figure at 0x7fbb7644cdd8>"
      ]
     },
     "metadata": {},
     "output_type": "display_data"
    }
   ],
   "source": [
    "# Plot graph\n",
    "plt.plot(x, f);\n",
    "\n",
    "# Label axis\n",
    "plt.xlabel('$x$')\n",
    "plt.ylabel('$\\sin(x)$')\n",
    "\n",
    "# Use the start and end values in x as x limits \n",
    "plt.xlim(x[0], x[-1])"
   ]
  },
  {
   "cell_type": "markdown",
   "metadata": {
    "slideshow": {
     "slide_type": "subslide"
    }
   },
   "source": [
    "### Multiple Plots\n",
    "Plots can be overlaid by called `plt.plot(...` multiple times."
   ]
  },
  {
   "cell_type": "code",
   "execution_count": 12,
   "metadata": {},
   "outputs": [
    {
     "data": {
      "image/png": "[encoded data removed]",
      "text/plain": [
       "<matplotlib.figure.Figure at 0x7fbb760e2828>"
      ]
     },
     "metadata": {},
     "output_type": "display_data"
    }
   ],
   "source": [
    "# Plot sin(x) and cos(x), and add label for each\n",
    "plt.plot(x, np.sin(x), label=\"$\\sin(x)$\");\n",
    "plt.plot(x, np.cos(x), label=\"$\\cos(x)$\");\n",
    "\n",
    "# Label the x-axis\n",
    "plt.xlabel('$x$');\n",
    "\n",
    "# Add legend\n",
    "plt.legend();\n",
    "\n",
    "# Use the start and end values in x as x limits\n",
    "plt.xlim(x[0], x[-1]);"
   ]
  },
  {
   "cell_type": "markdown",
   "metadata": {
    "slideshow": {
     "slide_type": "subslide"
    }
   },
   "source": [
    "### Saving a Plot\n",
    "A plot can be saved as a file for your to use e.g. in a report.\n",
    "\n",
    "A file name should be given.\n",
    "\n",
    "The file type is specified using the file extension.\n",
    "\n",
    "`/` can be used to seperate the names of nested folders.\n",
    "\n"
   ]
  },
  {
   "cell_type": "markdown",
   "metadata": {
    "slideshow": {
     "slide_type": "subslide"
    }
   },
   "source": [
    "In the example below, the graph is saved as a pdf and a png file in the `img` folder in your directory. \n",
    "\n",
    "Run the code in the cell below then open the folder `img` using the file browser on your computer to verify that the files were generated by noting the time stamp shown for each file. "
   ]
  },
  {
   "cell_type": "code",
   "execution_count": 13,
   "metadata": {
    "slideshow": {
     "slide_type": "-"
    }
   },
   "outputs": [
    {
     "data": {
      "text/plain": [
       "<matplotlib.figure.Figure at 0x7fbb76363cc0>"
      ]
     },
     "metadata": {},
     "output_type": "display_data"
    }
   ],
   "source": [
    "# Save plot to file\n",
    "plt.savefig(\"img/my-plot.pdf\")\n",
    "plt.savefig(\"img/my-plot.png\")"
   ]
  },
  {
   "cell_type": "markdown",
   "metadata": {
    "slideshow": {
     "slide_type": "subslide"
    }
   },
   "source": [
    "__Try it yourself__\n",
    "<br>In the cell below:\n",
    "- create a green line plot of the function $sin^2(x)$ (or $(sin(x))^2$) using the range of $x$ from the last example. \n",
    "- add a blue triangular marker at $x=\\frac{\\pi}{2}, \\pi, \\frac{3\\pi}{2}, 2\\pi, \\frac{5\\pi}{2}, 3\\pi, \\frac{7\\pi}{2}$ and $4\\pi$.\n",
    "- label the axes\n",
    "- save the figure as a .jpg file in the `img` folder in your repository.\n"
   ]
  },
  {
   "cell_type": "code",
   "execution_count": 14,
   "metadata": {
    "collapsed": true
   },
   "outputs": [],
   "source": [
    "# line and scatter graphs\n",
    "x = np.linspace(0, 4 * np.pi, 100)\n",
    "y = (np.sin(x)) ** 2\n",
    "plt.plot(x, y, \"-g\")\n",
    "x = np.array([0.5, 1, 1.5, 2, 2.5, 3, 3.5, 4]) * np.pi\n",
    "y = (np.sin(x)) ** 2\n",
    "plt.plot(x, y, \"^b\")\n",
    "plt.xlabel(\"$x$\")\n",
    "plt.ylabel(\"$\\sin^2x$\")\n",
    "plt.savefig(\"img/sin^2(x).jpg\")"
   ]
  },
  {
   "cell_type": "markdown",
   "metadata": {
    "slideshow": {
     "slide_type": "subslide"
    }
   },
   "source": [
    "## Bar charts and Histograms\n",
    "### Bar charts\n",
    "To represent data as a bar chart, for example, the number of students in each year of a degree program:"
   ]
  },
  {
   "cell_type": "code",
   "execution_count": 15,
   "metadata": {
    "collapsed": true
   },
   "outputs": [],
   "source": [
    "year_groups = ('B1', 'B2', 'B3', 'M1', 'M2')\n",
    "num_students = (500, 332, 425, 300, 200)"
   ]
  },
  {
   "cell_type": "code",
   "execution_count": 16,
   "metadata": {
    "slideshow": {
     "slide_type": "subslide"
    }
   },
   "outputs": [
    {
     "data": {
      "image/png": "[encoded data removed]",
      "text/plain": [
       "<matplotlib.figure.Figure at 0x7fbb75ff4f98>"
      ]
     },
     "metadata": {},
     "output_type": "display_data"
    }
   ],
   "source": [
    "# Create an array with the position of each bar along the x-axis\n",
    "x_pos = np.arange(len(year_groups))\n",
    "\n",
    "# Produce bar plot\n",
    "plt.bar(x_pos, num_students);\n",
    "\n",
    "# Replace the x ticks with the year group name\n",
    "# Rotate labels 30 degrees\n",
    "plt.xticks(x_pos, year_groups, rotation=30);\n",
    "\n",
    "# Add axis labels \n",
    "plt.xlabel('year group');\n",
    "plt.ylabel('number of students');"
   ]
  },
  {
   "cell_type": "markdown",
   "metadata": {
    "slideshow": {
     "slide_type": "subslide"
    }
   },
   "source": [
    "## Histograms\n",
    "\n",
    "We can visualise the distribution of the values using a histogram.\n",
    "\n",
    "In a histogram, data is sorted into intervals (bins) along the horizontal axis. \n",
    "\n",
    "The number of values that fall within a 'bin' is then displayed on the vertical axis."
   ]
  },
  {
   "cell_type": "markdown",
   "metadata": {
    "slideshow": {
     "slide_type": "subslide"
    }
   },
   "source": [
    "To create a histogram we first need a data set. \n",
    "\n",
    "For example we can use Numpy to generate a data set with:\n",
    "- 4000 random values\n",
    "- a mean value of zero \n",
    "- a standard deviation of 1\n",
    "- a __normal__ (Gaussian) distribution (bell curve with 68% percent of values within one standard deviation of the mean)\n",
    "\n"
   ]
  },
  {
   "cell_type": "code",
   "execution_count": 17,
   "metadata": {
    "slideshow": {
     "slide_type": "-"
    }
   },
   "outputs": [],
   "source": [
    "# loc=mean, scale=stddev, size=num samples\n",
    "x = np.random.normal(loc=0.0, scale=1.0, size=4000)  "
   ]
  },
  {
   "cell_type": "markdown",
   "metadata": {
    "slideshow": {
     "slide_type": "subslide"
    }
   },
   "source": [
    "We can visualise how `x` is distributed, using 20 bins. \n",
    "\n",
    "Matplotlib creates 20 bins of equal width, and computes the number of entries in each bin. "
   ]
  },
  {
   "cell_type": "code",
   "execution_count": 18,
   "metadata": {},
   "outputs": [
    {
     "data": {
      "text/plain": [
       "<matplotlib.text.Text at 0x7fbb75d45cc0>"
      ]
     },
     "execution_count": 18,
     "metadata": {},
     "output_type": "execute_result"
    },
    {
     "data": {
      "image/png": "[encoded data removed]",
      "text/plain": [
       "<matplotlib.figure.Figure at 0x7fbb75ff4d68>"
      ]
     },
     "metadata": {},
     "output_type": "display_data"
    }
   ],
   "source": [
    "# Produce histogram with 20 bins\n",
    "n, bins, patches = plt.hist(x, 40, facecolor='green');\n",
    "\n",
    "# Add label\n",
    "plt.xlabel('value')\n",
    "plt.ylabel('frequency')\n",
    "\n"
   ]
  },
  {
   "cell_type": "markdown",
   "metadata": {
    "slideshow": {
     "slide_type": "subslide"
    }
   },
   "source": [
    "To view a list of:\n",
    "- the bin intervals\n",
    "- the number of values in each bin. "
   ]
  },
  {
   "cell_type": "code",
   "execution_count": 19,
   "metadata": {
    "slideshow": {
     "slide_type": "subslide"
    }
   },
   "outputs": [
    {
     "name": "stdout",
     "output_type": "stream",
     "text": [
      "[-3.5143875  -3.17000667 -2.82562583 -2.48124499 -2.13686415 -1.79248331\n",
      " -1.44810247 -1.10372163 -0.75934079 -0.41495995 -0.07057912  0.27380172\n",
      "  0.61818256  0.9625634   1.30694424  1.65132508  1.99570592  2.34008676\n",
      "  2.6844676   3.02884844  3.37322927]\n"
     ]
    }
   ],
   "source": [
    "print(bins)\n"
   ]
  },
  {
   "cell_type": "code",
   "execution_count": 20,
   "metadata": {
    "slideshow": {
     "slide_type": "subslide"
    }
   },
   "outputs": [
    {
     "name": "stdout",
     "output_type": "stream",
     "text": [
      "[   4.    4.   15.   27.   96.  162.  228.  365.  442.  551.  537.  535.\n",
      "  364.  293.  172.   99.   51.   35.   15.    5.]\n"
     ]
    }
   ],
   "source": [
    "print(n)"
   ]
  },
  {
   "cell_type": "markdown",
   "metadata": {
    "slideshow": {
     "slide_type": "subslide"
    }
   },
   "source": [
    "__Try it yourself__\n",
    "<br>In the example above try changing the number of bins and run the cells again to see the change in the bin intervals and number of values in ech bin. "
   ]
  },
  {
   "cell_type": "markdown",
   "metadata": {
    "slideshow": {
     "slide_type": "subslide"
    }
   },
   "source": [
    "## Interactive plots\n",
    "By using interactive plots we can explore the influence that changing different parameters has on an output.\n",
    "\n"
   ]
  },
  {
   "cell_type": "markdown",
   "metadata": {
    "slideshow": {
     "slide_type": "subslide"
    }
   },
   "source": [
    "As a simple example, we will plot\n",
    "\n",
    "$$\n",
    "f(t) = t^{\\alpha} \\sin(\\omega t)\n",
    "$$\n",
    "\n",
    "where $\\alpha$ and $\\omega$ are parameters. \n",
    "\n",
    "We will create two sliders allowing us to change the value of $\\alpha$ and $\\omega$ and observe the change in $f(t)$"
   ]
  },
  {
   "cell_type": "markdown",
   "metadata": {
    "slideshow": {
     "slide_type": "subslide"
    }
   },
   "source": [
    "Interactive plots be can created using module `ipywidgets` module which we imported at the start of the notebook. \n",
    ">```Python\n",
    "try:\n",
    "    import ipywidgets\n",
    "except ImportError:\n",
    "    try:\n",
    "        !{sys.executable} -m pip -q install ipywidgets\n",
    "        import ipywidgets\n",
    "    except ImportError:\n",
    "        !{sys.executable} -m pip -q --user install ipywidgets\n",
    "    finally:\n",
    "        !jupyter nbextension enable --py widgetsnbextension\n",
    "        print(\"You will need to refresh your browser page\")        \n",
    "from ipywidgets import interact\n",
    "```\n",
    "\n"
   ]
  },
  {
   "cell_type": "markdown",
   "metadata": {
    "slideshow": {
     "slide_type": "subslide"
    }
   },
   "source": [
    "We write the code to generate the plot as usual.\n",
    "\n",
    "(To generate symbols α or ω type `\\omega` or `\\alpha`, pressing  `Tab` key at the end.)"
   ]
  },
  {
   "cell_type": "code",
   "execution_count": 21,
   "metadata": {},
   "outputs": [
    {
     "data": {
      "text/plain": [
       "<matplotlib.text.Text at 0x7fbb75d61e48>"
      ]
     },
     "execution_count": 21,
     "metadata": {},
     "output_type": "execute_result"
    },
    {
     "data": {
      "image/png": "[encoded data removed]",
      "text/plain": [
       "<matplotlib.figure.Figure at 0x7fbb75c810b8>"
      ]
     },
     "metadata": {},
     "output_type": "display_data"
    }
   ],
   "source": [
    "ω=1\n",
    "α=0\n",
    "t = np.linspace(0, 2*np.pi, 200)  \n",
    "\n",
    "plt.plot(t, (t**α)*np.sin(ω*t))\n",
    "\n",
    "plt.xlabel('$t$')\n",
    "plt.ylabel('$f$')\n",
    "plt.title(r\"$\\alpha$ = {}, $\\omega$ = {}\".format(α, ω))\n",
    "\n",
    "\n"
   ]
  },
  {
   "cell_type": "markdown",
   "metadata": {
    "slideshow": {
     "slide_type": "subslide"
    }
   },
   "source": [
    "We encasulate the code to generate the plot within a function.\n",
    "\n",
    "The parameters we want to vary are given as function arguments."
   ]
  },
  {
   "cell_type": "code",
   "execution_count": 22,
   "metadata": {
    "collapsed": true
   },
   "outputs": [],
   "source": [
    "def plot(ω=1, α=0):\n",
    "    \"A plot of the function f(t)= (t**α)*np.sin(ω*t)\"\n",
    "    t = np.linspace(0, 2*np.pi, 200)  \n",
    "    \n",
    "    plt.plot(t, (t**α)*np.sin(ω*t))\n",
    "    \n",
    "    plt.xlabel('$t$')\n",
    "    plt.ylabel('$f$')\n",
    "    plt.title(r\"$\\alpha$ = {}, $\\omega$ = {}\".format(α, ω))\n",
    "    \n",
    "    \n"
   ]
  },
  {
   "cell_type": "markdown",
   "metadata": {
    "slideshow": {
     "slide_type": "subslide"
    }
   },
   "source": [
    "The `interact` function, takes the following arguments:\n",
    "- the plotting function \n",
    "- a tuple for each variable parameter:\n",
    " - maximum value (inclusive) \n",
    " - minimum value (inclusive) \n",
    " - step size between each possible value"
   ]
  },
  {
   "cell_type": "code",
   "execution_count": 23,
   "metadata": {},
   "outputs": [
    {
     "data": {
      "application/vnd.jupyter.widget-view+json": {
       "model_id": "afd2d30ce2ab4cbea7f68ca795eecec5",
       "version_major": 2,
       "version_minor": 0
      },
      "text/html": [
       "<p>Failed to display Jupyter Widget of type <code>interactive</code>.</p>\n",
       "<p>\n",
       "  If you're reading this message in the Jupyter Notebook or JupyterLab Notebook, it may mean\n",
       "  that the widgets JavaScript is still loading. If this message persists, it\n",
       "  likely means that the widgets JavaScript library is either not installed or\n",
       "  not enabled. See the <a href=\"https://ipywidgets.readthedocs.io/en/stable/user_install.html\">Jupyter\n",
       "  Widgets Documentation</a> for setup instructions.\n",
       "</p>\n",
       "<p>\n",
       "  If you're reading this message in another frontend (for example, a static\n",
       "  rendering on GitHub or <a href=\"https://nbviewer.jupyter.org/\">NBViewer</a>),\n",
       "  it may mean that your frontend doesn't currently support widgets.\n",
       "</p>\n"
      ],
      "text/plain": [
       "interactive(children=(FloatSlider(value=1.0, description='ω', max=10.0, min=-10.0, step=0.25), FloatSlider(value=0.0, description='α', max=2.0, step=0.25), Output()), _dom_classes=('widget-interact',))"
      ]
     },
     "metadata": {},
     "output_type": "display_data"
    }
   ],
   "source": [
    "interact(plot, ω=(-10, 10, 0.25), α=(0, 2, 0.25));"
   ]
  },
  {
   "cell_type": "markdown",
   "metadata": {},
   "source": [
    "You can now adjust the values by moving the sliders.\n",
    "\n",
    "The new values appear as the title to the plot."
   ]
  },
  {
   "cell_type": "markdown",
   "metadata": {
    "slideshow": {
     "slide_type": "slide"
    }
   },
   "source": [
    "## Animated Plots\n",
    "\n",
    "Plotting can be a very useful way to visualise what is happening in a dynamic physical system. \n",
    "\n",
    "Matplotlib can be used to create animated plots showing the change in a system over time."
   ]
  },
  {
   "cell_type": "markdown",
   "metadata": {
    "slideshow": {
     "slide_type": "subslide"
    }
   },
   "source": [
    "We will use the `animation` and `rc` subpackages.  \n",
    "\n",
    ">from matplotlib import animation, rc\n",
    "\n",
    "We will also use a package to allow us to view the animated output within jupyter notebook.\n",
    "\n",
    ">from IPython.display import HTML\n",
    "\n",
    "These packages were imported at the start of this notebook."
   ]
  },
  {
   "cell_type": "markdown",
   "metadata": {
    "slideshow": {
     "slide_type": "subslide"
    }
   },
   "source": [
    "Let's start with a simple example to learn how to build an animation.\n",
    "\n",
    "We will then move onto an example of a physical model that you may study in one of your other subjects. \n",
    "\n"
   ]
  },
  {
   "cell_type": "markdown",
   "metadata": {},
   "source": [
    "The set of steps to build an animated plot is:\n",
    "1. Create a figure window\n",
    "1. Create axes within the window\n",
    "1. Create object(s) to animate e.g. a line or point\n",
    "1. Define an animation function for the change you want to see at each timestep\n",
    "1. Use the function `animation.FuncAnimation` to create your animation and give it a name.\n",
    "1. Call the animation name to play it.\n",
    "1. (Save the animation)"
   ]
  },
  {
   "cell_type": "markdown",
   "metadata": {},
   "source": [
    "Example: An animated sine wave. "
   ]
  },
  {
   "cell_type": "code",
   "execution_count": 30,
   "metadata": {
    "scrolled": true
   },
   "outputs": [
    {
     "data": {
      "image/png": "[encoded data removed]",
      "text/plain": [
       "<matplotlib.figure.Figure at 0x7fbb75b68a58>"
      ]
     },
     "metadata": {},
     "output_type": "display_data"
    }
   ],
   "source": [
    "# 1. Create a figure window. \n",
    "fig = plt.figure()\n",
    "\n",
    "# 2. Creates axes within the window\n",
    "ax = plt.axes(xlim=(0, 2), ylim=(-2, 2))\n",
    "\n",
    "# 3. Empty object (no data opints) to animate e.g. a line \n",
    "# Name must end with a `,` comma.  \n",
    "line, = ax.plot([], [], lw=2)\n",
    "\n"
   ]
  },
  {
   "cell_type": "code",
   "execution_count": 32,
   "metadata": {
    "collapsed": true,
    "slideshow": {
     "slide_type": "subslide"
    }
   },
   "outputs": [],
   "source": [
    "# 4. Animation function: called sequentially\n",
    "# i = frame number.\n",
    "# Sine wave generated, phase shift proportional to i\n",
    "def animate(i):\n",
    "    x = np.linspace(0, 2, 1000)\n",
    "    y = np.sin(2 * np.pi * (x - 0.01 * i))\n",
    "    line.set_data(x, y)\n",
    "    # single return arguments should be given as a tuple with one value\n",
    "    return (line,)\n",
    "    \n"
   ]
  },
  {
   "cell_type": "markdown",
   "metadata": {},
   "source": [
    "When returning a single argument (e.g. `line`) it is returned as a tuple with one value i.e. `(line, )`."
   ]
  },
  {
   "cell_type": "code",
   "execution_count": 33,
   "metadata": {
    "slideshow": {
     "slide_type": "subslide"
    }
   },
   "outputs": [
    {
     "data": {
      "text/html": [
       "<video width=\"432\" height=\"288\" controls autoplay loop>\n",
       "  <source type=\"video/mp4\" src=\"data:video/mp4;base64,AAAAHGZ0eXBNNFYgAAACAGlzb21pc28yYXZjMQAAAAhmcmVlAABeT21kYXQAAAKuBgX//6rcRem9\n",
       "5tlIt5Ys2CDZI+7veDI2NCAtIGNvcmUgMTQ4IHIyNzQ4IDk3ZWFlZjIgLSBILjI2NC9NUEVHLTQg\n",
       "QVZDIGNvZGVjIC0gQ29weWxlZnQgMjAwMy0yMDE2IC0gaHR0cDovL3d3dy52aWRlb2xhbi5vcmcv\n",
       "eDI2NC5odG1sIC0gb3B0aW9uczogY2FiYWM9MSByZWY9MyBkZWJsb2NrPTE6MDowIGFuYWx5c2U9\n",
       "MHgzOjB4MTEzIG1lPWhleCBzdWJtZT03IHBzeT0xIHBzeV9yZD0xLjAwOjAuMDAgbWl4ZWRfcmVm\n",
       "PTEgbWVfcmFuZ2U9MTYgY2hyb21hX21lPTEgdHJlbGxpcz0xIDh4OGRjdD0xIGNxbT0wIGRlYWR6\n",
       "b25lPTIxLDExIGZhc3RfcHNraXA9MSBjaHJvbWFfcXBfb2Zmc2V0PS0yIHRocmVhZHM9MSBsb29r\n",
       "YWhlYWRfdGhyZWFkcz0xIHNsaWNlZF90aHJlYWRzPTAgbnI9MCBkZWNpbWF0ZT0xIGludGVybGFj\n",
       "ZWQ9MCBibHVyYXlfY29tcGF0PTAgY29uc3RyYWluZWRfaW50cmE9MCBiZnJhbWVzPTMgYl9weXJh\n",
       "bWlkPTIgYl9hZGFwdD0xIGJfYmlhcz0wIGRpcmVjdD0xIHdlaWdodGI9MSBvcGVuX2dvcD0wIHdl\n",
       "aWdodHA9MiBrZXlpbnQ9MjUwIGtleWludF9taW49MjUgc2NlbmVjdXQ9NDAgaW50cmFfcmVmcmVz\n",
       "aD0wIHJjX2xvb2thaGVhZD00MCByYz1jcmYgbWJ0cmVlPTEgY3JmPTIzLjAgcWNvbXA9MC42MCBx\n",
       "cG1pbj0wIHFwbWF4PTY5IHFwc3RlcD00IGlwX3JhdGlvPTEuNDAgYXE9MToxLjAwAIAAABL7ZYiE\n",
       "AC///vau/MsrRwuVLh1Ze7NR8uhJcv2IMH1oAAADAADVayF8oYJVUBjgvNA9NyX0pOD8+0aEKaS/\n",
       "W+kRxFrWNzf+eSO4TQp9X9rSQjTItyhp18FcAAFYwPSb9MNj7345mZM2SCpqc/4dq8TkXuq00M8Q\n",
       "OvVEaAcaB8dFKy0nxv6lS/KsJVTGkw7kt4VpUBgOXNkT5vbbHpQLGFTaisacVyNWLNCImwHFb8yP\n",
       "CePMeSBVDHNL2XEMBl5TMwvoCjHau9D7RwBgcKfh2rz+BOgXuunyP8n78SBHX2YS9/lTVsUPVMzG\n",
       "LNxfvZecE5fhiqSuvtFQDPgaVLXZbeoO85oh4ZAnrx8itOqWDDaRmiI0BFP8Sq6+LZ0CjvnoE7/S\n",
       "DZjm5DXL3c1fWFQQWXF3enmOeIfPtNwAABGHNGPtgy+Op+pATlL/x7pbX3TbzLm5jX7zDnXsPT9C\n",
       "Ezy0T5J9vl0L81Nz1wcjuuAAANlC66FoXlsClhtzbcUtq8DImZZbTpnxmjoJ8+OVhb6V5OJGLw6o\n",
       "rtUXNVslFxPb4pLFAN1T6/3VSVgg4rExc6fp7b6ZA/rwh1zncBQeC+BPwWWGZWjKT520x8pMfUSi\n",
       "OUU1dOEPrsefWBB62d02HffLPASIU3KYcuVLGP9/AlkV+d7HQI7tH+Tup1aGArUFHb5qLfzKLsTF\n",
       "UjahiNVIMErlGfCKhNztvSsYyHNO6c+Fqdz7Y/ot9ghWeMksuj+9qGEzxIvovPXKBqMbEsombUwn\n",
       "kc4DqbrkZbK4gLDWjgeBTQbIw5Z9JvAruoDMmK7M1bWCfpt5u87a9zBSuVyOzaW29hxzgHP5B7ls\n",
       "KId2xuTTuSaHMHvZHLpi3JabgWaS+NN7a3+89ky0MUK3lq1uyRSl29LYCD/QviFKh7D1wfeYoxEJ\n",
       "tv5juWmZJyVamy1Y3L44+Jdg4MDrv0Hc4y1TtkGFlTJFWyd2DYONbmXqfp7TjjYc126bHXun2vDr\n",
       "LuP3nGLzQ+3fSlX5QZBMBBNxqmeFR9pfPzdv6tGFr4ZRf9PTnyTOcDUKQO9KekOzdHruh7DGhG8A\n",
       "2QPkDDuPscywFNfAFaepkeYPl42ARmpqOukvK4wcXWbJ1P8PspfN326rpK/kWPGQloStsMm5t8mq\n",
       "oUv4M1LSABlfoclQ1iZFwVf8HVqKPUkRI+e1v8KnhnA0ivFqqk1OUutb2bGvKcETlEEb7PfOZGsy\n",
       "gSyOfl2rruFIeBzmrFj8XIuofWycOAKQz0xqFLVt/RPfJpgwKKwGh0t07XPZpsDQt7srRKXdKvAu\n",
       "uQuzLXcGzTWRmPoxarrP418Lz9QvO2kz9GutMP0vKNnUo2IECMRQeqfTl2Dp4zYyF2qK9vUwhw/+\n",
       "mFZkgEIatWa9ZyHozf+z5YRc+RDu7dz7Hb2DMzd1NyR1II9Yz46bODpVaOL/qW514gJ7kpoHQUkT\n",
       "Iw5xdJs9gLQpqNhENWPeldqaznFXPvV/yVQGzOl98gGaM6SpsB3Oww3b3mUEsLREn7cDE6zqGg4a\n",
       "dluZj52Z0py+bdZWBc/3zVcuAfeVfDPFT17joDXPDePe4BLqW62OhGZh0PYgYAJs7QRPdUOkfDgf\n",
       "FnpYDJR4MFsX9B4B2tZ7u9pNOYO578j7L+xGnUXrjNmmkdql6FQFYPhpYmcu/iRrz1vhKudIRF8s\n",
       "kBhjW48DI74gVwJfCRv+1piKe2RLWxcUcp3Z+wG1nZCpz+o77JED4/w5YN6KC8tYnk8JkHOwzsy0\n",
       "GiNaWPR7LHUzIZwlwZDsH2v9ZoMkHy9PXwPCz91y5AxLDwRkVhsJRNTMsK+segyW9pYnVxPyYpiv\n",
       "rxTul0gegIBot8S35piaICJSKydEayA6Jfl5LN1nf/zTeL04ozqrGsN2Hbo2FGgbkRWY9FfpPxn2\n",
       "rOZH329qDANcvGD69lVnsDtIc8888DiMtRsNnQzynKWMrAndLq7KgbvXKkV5oVBsVPuqCiF0hbCz\n",
       "qGjN6kXo3pvlYE9uyhbQhfqGo+kPb9lNDYG5EvMC0oNCX/UUO+ZuWARHMakWFFnLwpeBVQIs0h69\n",
       "SJ1jOCcsbgF4CWhpiPRowBkLrFJ6JC7g5oNwKydbYma0x5x+A39PHG7xcwDYXxxSEiGqZgr1UT93\n",
       "kNhr601VNriuR1hvOQ2K89TZW7PUTSsK5AmDXkcnfhMyS+gvENFetvvw/SgFL6b0G8mLqnbtYIC5\n",
       "5xopNXyA326XOM83IBBxco4thil0VQJTTE3dYjZDJ4zx3NDcTy1Ft2y+t+5sRFh1I2wk4+uRNVt4\n",
       "fmE2R32+0r2dcrsut8bq//BZO19WGVaH/YHm9dH7vYui7wu6v3hHHV9UpZmN9TbH68oYEMa9Yr9/\n",
       "DvwM0R3EzCLAMUzLXqfQgRwqg2ILi42N+yClUFq4knFCxl+2lzWGAZWJRQNTMz7+nTlENYhpMjYu\n",
       "g0Cu/lG8eJbSvIVAMbE0p9tb1vvNZx5r8laPwp+PHpEuOhBmToSbFZE/Aw87tHP1MWuGDGpVujkG\n",
       "SQ9oeu5Iakifn308/Li6CCsXIbKGbokCQ4bb3E9crVdn/dqQqKreaNo2fXXqvsWLHnbC3mAVKtd7\n",
       "AtluCNCKYN1rvjM/dzYd9HRFBRnUIysxVs3wU2qwUcQ3HFwOXvXB/HLpAJMFWuib7AiSunBC0/1S\n",
       "oHBjNJLHFbMv+aeaTlHXrVjGITgIsJ3Y12EW8z5DWo8PmdxXrkOKLEM0i/8zLtq4Lkq+hVDL7B8w\n",
       "pNSjcemqoOHnHb+BZ8MCPsqAPceEUOC5XdzxDvcOqEfmT1n7slUuphwWTyl605Nux3zj8PN8+AlY\n",
       "kk/yrbFDbL7OVbXPjKqOpq38bcrQ1XiCShw+Ofzv2U/FCa/TVYqrk5cEUeaWoE3FMSIzJRk54OG6\n",
       "D70SMXxVe8uFzUj2odZ+58If5MbEwyL2pLOn8zuDsZIrmGYbmsa36ztvR6/u0t66ejXDWi9p/2rD\n",
       "vFGUc/XOWQsty3ACpaFtv/OgAsQoxPdubdHTArv+IiDgjKV+1JlziWLdrQfGJsb7wv2qhZcCGP7W\n",
       "jdQRzFMv6Z6EsL0+RlUQRegu7ctrQ+LLByVA6NM8SLtWV4nRuXtcWdCFEf7tzkRp1zgxnKo8R60W\n",
       "OcyLlhA/c/BwASzwaZfJ8AX5703I9ntuCIRyXMFgGXXvF8aW2EPThfGX2MpHlnhqBvNpyXMV0ut5\n",
       "vAjO2AkTbS8U6NfyyrNTEhVo0WVJOHDvayIWoNVrhEuje7l5/HHBYhtPV79FQN7FhGI4RWebJZ/g\n",
       "YS3NFXIA175XPSGd0+a6+qKVLsrdhCamPrn+vhuN1gpCasMLuQYqv7yTv2pam6jd/0/hGt9GG4VU\n",
       "bQlLH7TxZT/tyjCbxh9DMPqBroW1v9LQGkF5C9pYx11hj+84Bqx4eURspAebKRU7l+Jbxl81+mTe\n",
       "paC8pkG3Olq88Xa4KAjYej5x+uKZpDfKSD/R26lR9vdUz1VpjoZ0U+qd+SwBvQtpL7yuHMf552a2\n",
       "pLQWyjF8KKGr0A68WLrfT8eKCIvs/ULsqe4v+Ofwf4PXV30uPdbNxPtbGElAYEUnC3Iv6I0NpP6o\n",
       "FHbE4rVWt8fCgXX2XOcHmTHv3SRk0BwiS0j5GYq11mvONgAM4Y/pZkRq5xwDjh98tlztfMDUAU5a\n",
       "c5H4IY4ozkC6a5yoPCpz9q6gF5pFpSij7EcZ1SZuecGnVxcCPUP+80JN2axgEpwRhDOLyTMcD9bR\n",
       "/enW0a48A45l0m/cSr83NTvnSN0H2HjZ+QtlpUqHzkFj55fXIBSg2fvT9HUyNmnEk3MXxdet30Cu\n",
       "vu8d8L/Nmyl6QqI2l/z4z7XJAiBLGzPhgK1TGV/plhq8snfwHfX/3yAJFAAqbAfKJ+mgrrlqmWJL\n",
       "LtjD0g1/4OSfvVGYj4aASAMXJsSnx4A2xsxMBG65t5zMyFv6nzLNF18vCVzocTyQJXGj27v2iB3+\n",
       "O4H86L4/hswJgT1abAgRBBH6bvHn69Bv+oFfeHPSVMGCvCT/HoTnTeXHnhNOT6/ifrreotMraMFj\n",
       "EdY89EXoGVvrA4eoXHljz9rvFKgP5xH+TrdNuJ5yjGwgioSneN/k13VPO7FbxDc8Jh/NjFnXe6x/\n",
       "1lKiBlRuxhMVKGdGgUE0B7/HXUtVHdbQXwBS8R16dKcChXrk6s3wAsWtuxEQgkeWypax3qCqXL1F\n",
       "vLbTFzoQIG87qStCoVnGQYGa3xaK6wk7h4bxLM/nHmoNCwPtt+gAANS4WTnTOlQ6Ub5/h/Umy1SD\n",
       "FmAQlL5cG4xvwGnANtmRZCj7zEat/5l+Z4aOKX6+JquJPumX5DhvoqS5/cFQjfTDkX1bZJVaSu8K\n",
       "RPis4Byjr2ThVxEoD8r740NAR8YMTriHJ8RznDPJL8h8+HCwfRMwXSHMoNje9I2xRkSD+4f+iNtZ\n",
       "KXegTJ7gvkcF3HSSSUlF/CfkPnfW7+omQk//417lR91LBEJBzOZvYsE6gjZIWk2EdxxDrmlr4nHO\n",
       "NCG3+LPoVXtA8hftM6qY4nmLlqnOPPS+EyOKNSnp9g9z/tm65sVeDk+waykPmvPjP2kEjs7rIILd\n",
       "Y/+lBxdOGRnc1WZ6+cP0rdcFXzZLcIBntTaw48zGPW84qFYwFwsu4VBj6WNUKZGn/hE8cfsrrzFw\n",
       "RE+L8HuwfXo5j1vy6Lza/8Xu8oowe2iVlnPt2bpbcfkKPgNzgbdGUZjhaDeduT1Hqp1nt5bZricR\n",
       "C7Enz2WkRLF+fjSRzYEC7bJuOyGk4H6akPB0dJSjcz7p1U16cFgL1FX7dVFFGH/ecanjfmbT6WX3\n",
       "7GO+ATEg2OhswyMn1vLSFDyx1veT2G7u6JezLN4+E+5GiBvJGoFVXITIVRnnGdCv5K4r9lCay/A2\n",
       "t/akAY+YSWO02od5z2roPAdYKiGM9bt5Fq34/IVo/rCKYPkP9hjaARHMfgzubhlqSJjPbfTo5Ayv\n",
       "JCML5n9KYRe1x+KAoGpv3HmEft6PvM9uc9cW0ix99MBdCoYLce8Y/yEuhFtpSMohBmR9nThLAYVk\n",
       "7b3m27GcGpcYWqsxo7W1q1QNKLSgFk5TeLamn3JGY/vcKBr9n+GaBCptXnfDfFM8ZZwrQt17HLAk\n",
       "F0PbAQURR+in33BsSlKbL6PItN3jtAj094aa6jHKI11k8i8Eia8BXqGHORWk8Vnd5A5S1LzEsGXl\n",
       "vuEDlJJbykx4nBruddIz+o5sVPJ29BrdmIyBJ8PZXtSseMyMzK0f4IpC5AZzBChEq61dRKRXcJp9\n",
       "i+cSgkrApbAfMbBhpueg8ZcyGiwIerIb6gPOuGUTV96RZbZLd+n6PfRE2HIEJQB6bN+K95p74+5c\n",
       "BvyKIcAd110F01H+Ka0NilKUcnvt+iLkgt3bumQHE/6lWV8Wdzl81rpXP7aRO5tqI1UATjDlJLN5\n",
       "gkNjKiV0HOqg8G+fCSgw/YsL9u57o3klIJrKUwxz1h43nv3UCD0OY8SROzYdHRpLm7gGM8brE1zl\n",
       "S2GSzKWXtb30klJ/CkQlmVhVk4grtXUAilZKeoKHW+KAVwuWfzLs1P5KGZdkbvSkX4N591ZhdRz8\n",
       "r8D+41FNPnnSvMRXknM/GM/0ba/4Jpb7QfV4AcEepP3U0PgaZUdLZMzvXIJI+cUPnawZsw0//WKi\n",
       "mln29Nqot+89OZ7kQzleDs5d85XhGbl+Ep1FkynXZ7+yBg55/3p83L65EmVqPJFeP10ZGUM9LGvv\n",
       "jO5dgMc2paVOtfT8dzVQ8jKJJLmUv0SGL5pn8uC6r8nDdm/cUsxsTc/6B96Ng8r4iQLfIz9RlT7R\n",
       "vb9dZiYniSq07V5zkAMzYkZWiG1SnNP4muvSZYRqZuC90rKpv2d3KQ5mrp2gvoFcCWMJUK5g1rMw\n",
       "AEOij5Xi/DhbgskpRJztU6fpVVjQ1+qlEO97xoRS9YkHGkWwKCHaaE4hDzph3vUg9puaaFdd0zOW\n",
       "j9fi8dsjmkuHZjxJrvFBlvIIhBXDHOtlwaZujOipMaVQU8lhhE6G5XlL4Ahq1TQZZ8RJr59/3QUt\n",
       "s0HxyBJCe4ETUmTAlnimHqp9QPPcjY4KhIDHs+mcjcKJ2JSdihh2hM2IUIAuxogn7SBj0c00Tys3\n",
       "Z3gcXjJh4Ht//GPrR3HKoE+5KzvOk3CMe+D9Yu0+Xe0uLtGk5WuaAeExtBbFPFHPMp3mGc3OfIRD\n",
       "0+Sl0m0xUcBfKdoATIXDgl8XgfBqRa+zt+9jmX62BgzuRz0ZU/9VxCoJU0e0yC1ZUDFFuTPAOLLP\n",
       "SLn9KFamxeKKcoDjJ0/2DgOZ4sWRWoGST0DfvMOJoW1qZc8lzs4E48W9BN51xC7Nu6uStUG+rAXj\n",
       "cjA4oDuJRwtUPDe31IJ8M0bZ8FNMhRyMEl6K6J8Ite4QRZesiqkxliHvXnezsD9S/iXEguQfNqpH\n",
       "/elDyL718S6zDV4JEoAza2XZIRgC4xnefiWdS0x9K5wPIYdMX47SaOx3/Rk2urL56y2O/12AAAMK\n",
       "Pg4MFbxRX/vUjsEAAAGHQZojbEL//oywA3lbkALVn2SM41ftpb1akY3rfJtPI37WZnq2wnjAGoV0\n",
       "QAFZJdZxCu/p/pibMH2ngH3gJfSToyUq4CNJ5TPeB7F4B2NhCu4kGh3i1hf4I8g33oOYu9BXobJp\n",
       "eJv5SqX+hHgYTZKiHp7u7plTguiJJNu/tWkZVT8DBQtho76yyfnr3kWM3Lwkm6X9F8MjyZMCftS7\n",
       "ACUQ+fPco6up3Ah5/JrBEIfq42MtbgaXQpJF82RwK93X0wEWsV4rEq47+jUJYNydix5SG/r00LMB\n",
       "IhabpILU6rFxaoT0aQB93rZ7gt4js9oScZrUOM7/2plVSK62+7u3Uo97ERkjUxacr4lg24YSpP22\n",
       "5HDjqRCxq4er3aaXd7g9KJu60Vno5oo7zNAVKUm8lkSST5cUxwc3IdjeSWGPwMx/A51O9gau9b0M\n",
       "8mWlWu4PD5ziqKTU3lfdGiyPtheIqJV4DRYXa5EWoetD32bBr//CCV4pZ9jl7zn9KMWf8CmSCNR3\n",
       "gD2B9hkBJwAAAKBBnkF4hH8AR2Dv1N5/xHFzD0BzGCnKaEyRw9oIDJfTaR44xyuilvcRn3KOdoV1\n",
       "gWKjT8y0VWWLUcfACc/D5hwvsJMVTOJsgSJytCI3n31rr2OejXHJXonDCddJYevIVIGSqczTbOJJ\n",
       "TpoOs9qC4cSYfhf+N4zCNlO1drywy1dTj4qgykFvIwmf3PmVJf/S1zKjj9Dj5I/rsew8tjPUq8CB\n",
       "AAAAkwGeYmpH/wBpn+3AaDJGL4do1+QwPOiPNIekSu5sOidhRQpFySVfmVQoIqqcxVBGbAR7EOoV\n",
       "zLSoaKeQL9DsfXvIoKhwxYkYQR4NlP8Cwb0VUPjZRBIBEflIzj9SYjIjlZg2PQqySgCljaVeRvV5\n",
       "ZLZFBZhSK+3pTHlGMZO2Bh4JMXAcGBiUhhvZH6V/sdhIXP0FJAAAAXRBmmdJqEFomUwIX//+jLAA\n",
       "3j26IBNKKeqgwBKW7nRczYbsACQwbFhvkFIUQomW+MJi5On+ULdrlf5B61NgxEsZqOVirOxnNkRK\n",
       "qHBmSiTK9w5ba1TjRmqz6MqB4ZfFtCG2rjagIqE4SJ01FawL3h6NJPOyo4XZgFTatC7Gy3vXSukg\n",
       "SA3Uh4G4ycNvsBITTdJ3nF4jSBQc657j1UuX5jBDf0ztGCUa7IeSomc5gyrMz/is9FJ+6p+SacsK\n",
       "BYG2nPAut1pX/heHdH3E4DKYxJN3l5jbXE5n6Yp9oKDslRRVyFD7AsAos9iBsM1pfb3WWWcGoJgc\n",
       "ab4/fZ6OhjXVZlfbLUR2BZRTLcV/b00w2XDSUvVttAGUFuB5dTNLGQCP3czS8taO0r9fcxry1h5a\n",
       "qrdM8/W+pxe0gejt+15/m9K3FVSOjer93MIIMYmWoW0JN92RRJVyV/0IIwVsmkumotyMlvgDxg+n\n",
       "pn1z/IfoBFFg/tJdMtEAAACvQZ6FRREsI/8AQVcb4ebdoi5jIoSxPBpGeqNBJjMA+jSpeLbexhI1\n",
       "jeCTB5tAndMJWYFKQ7R2kykJLihzAjWFa3pqsMNhYOZ+LOn24l3FQt3Modo2HhaXcYbYi7zypmlp\n",
       "CnZPzhUgjSKGnTjMCwPde/Ku4kXjOy9R16WexMnUOF8yjh2SBic+PKzoJAL9JH95x5SzA6XzbIbn\n",
       "xuptEA4dYh8tggRjeBXSX7zBlP2O2wAAAGkBnqR0R/8AaY14VjL58pFFAPhvVpr40gULXU9SO5OW\n",
       "NcX2NnVAgNvcTAlrKcEysp81VWmWIpY4ATejJTKrOLgbMRBRdhXH3Pk7HV542LBF2+048Nv3SUTY\n",
       "68htYTcvVC+6xgsV7nOFjUEAAAB9AZ6makf/AGlx+iVTscdBSxFk1oSpQjqAA0F4mBB0IVXPJIkF\n",
       "60Y/Dj2HDmGrWoIT6HlYUylzADNuwYWQLDBLRzZt0uMvU0BRPyknZQAfhOI8PAwsi6yh+ZVlGrSp\n",
       "7ma6dvqd9X1rLNjZIvWbX9fcDrF9KioIf2HUKZ0roacAAAE8QZqqSahBbJlMCF///oywANBwnPc5\n",
       "lsu1lH2qG6KaXgRKb6bqA07YygmoEIQpsIGRNHzg3i0cYjK+cUSXB7PmtnRHb9yrAX7BrLPrWuW3\n",
       "5Cb26X7xZZff/TPR4IiaxLDIO9tu2Ko2zk28pNnHsqLjSsCAWnfxmh8jioa54k505FW1mXPFWcwa\n",
       "PHFygjMi1fDbDdGxVwYwzpA6Hx/myH6UYp1ADm+FwjmrDL6KROjizfK9H+OMiCj1AlOKCX6CAMf5\n",
       "/3Y9MIt7UeJWdCRqiaunrkQGS5/UffO0YnXAcOG9oMuYH1GLWfhAhmjwxFj81SlCzJcjq0Lm1JdT\n",
       "2u1qI3ohBib7WcM/5HdR5a8ID3Y5raQYCD1nznFt59GPU1ZOZZBZ7II+wDkOtGaRToXKYi5P7d+4\n",
       "C8ieyT8cilSsYAAAAJZBnshFFSwj/wBBVxvj/kgcbayPrcHLfMY7emAnCxLmvFONF2NWg3BXK4zd\n",
       "9UGAJZPY/pqiLDm548AKj3OhoywAy+wSyAjDuh8r5vfj+RdmDM2GfbO52olBpuXoHugGyU4pFAS9\n",
       "z1NV07Z19Y36I8x6K5heZNyNNEykq7vIYtw+rC1IIkYOlPf4VeuOV3UQ9EacCJfcywQAAACPAZ7p\n",
       "akf/AGl5DHf9eJR6H1I0zs8fTgSn3Xzb/rDn2wfBZi0PQ3OyD/KVYPc6ZtXyBTlrdm/TpFv/eWuX\n",
       "Gw72DVUoN92ZSEhpafX8yawAfhDt4hsgYT5hXjLRmpY44kBD2zJ9b01JCSHu8tQia0bFs4rG2yNf\n",
       "b5NBInUCvIUQk1GB2H8I2d3802fdpwSp5GEAAAEaQZrtSahBbJlMCGf//p4QAMjawAP8yoApCeRp\n",
       "gl5obktpG6m/WygAh9QLHEFdVI+jTzTOHT9I7c1bwPfk0YvQW7hKwynCEDziMOBJX5Sbv8RxCo3K\n",
       "rjQctaZ4MhQUjzKf37e2PfENImUD4lv25+ASRku6useJLnB2hvO34zLwjioQItbOQP/u/ztCQhHF\n",
       "KGWGaiXhTt5EfBbzrVwx4JgYWxSEqH8amnAwbL7iX8gly7RqEJyJSRp0C3SRX9jMwXPKKvWdDtKs\n",
       "2hSJ33hlGBblXkQ4nFSmkbEY7sowcdBfUkWtiVQnMEnv5uQCOz+6MijeWTiPDrqmozB0xz5MfA0z\n",
       "4EkMVB3ZuMEn+8yRllj10q+8f3y3xM9e7BiAAAAAnUGfC0UVLCP/AD94mVKl5xALm4lU6cI+Dvrr\n",
       "K3kPJWVVbh/fSA3rpqNMpPpUFQZb15zSjOEAuV3az2FUy1N/+QOJqQ1D5tM1jxd8iKmpAC2kl7wl\n",
       "vqpBJInaZzcjBcFnM9K4zgRByf/mf09fvjj3RhX/C2doZGhkWrZWGGtfQmwj1ff6QP9XGGIdyJ6t\n",
       "/zkzRyZRCxKjHUAHlC5j+SEAAAB/AZ8sakf/AGbx+QdKWkqNB1a/pMZS+rYfZy0N/xtpV9H3DeSK\n",
       "Du/LaWs4HNAISSyXapRd585xsUYXGG/lbCoprX2j4euP7KTiYxUNtR4Py0nZ6YlczPniR4hU9tsF\n",
       "LFhLmZykbmyIa1XAeCWOKAMfdto6JprlDetV3V0YOvD1vQAAAU5BmzFJqEFsmUwIX//+jLAAyiyO\n",
       "nhTaAC9ELMORiXbpZP0ZZL/Pe/c6/g8cDYDTCNZHoH9EcDGLiuOwBKXpScQxNc1xien7CBE7kOlq\n",
       "Lcr7RmCRm/TEaYaicganqVXxnzlCF2ykmueBqZGryrtUd/iKKh6B74yUTkfX1BoKBCPbY3VnSQSx\n",
       "cC/NOhlhvuGedZLU8r/NAoTca5/+fLojhKJxuTsiEmfg+V7pxeqKhJjSlRgSqJZDk3DIQeC1u6fa\n",
       "uUB3CSO0H+7tQqYeQjDzuY3oUPJ1hAAA4e89LuEDJ/2wHiaDriyaoV5MDlVLcP6BwAghHHOwEr3L\n",
       "FCa4KDMjByOP3UJY9lpvHeda+w9nwLiW5v4F9sOZic6JQBDyh9FVe6Gjw9WjB2t8Uxpcks6bubrw\n",
       "A7P5nTNblZVXYkeAt+PyuA2YnwZ0q8vw/cuAvnLBAAAAnEGfT0UVLCP/AD+N0EELSWjac8/f2HoJ\n",
       "r1CNoPlP3zKd9aRadkX92jtIJL0gYGONnF6j8rzvR08BxRieg9A6TnzLbxUDoFRVAfuAcM64vGhO\n",
       "hoNk5UAUZob6ADpxd2ZQKz/cqu12QvqMr+5fjR6zJf3rMWke7AAcTAAAAwAF7QxubiaO9vliZRDs\n",
       "1iebbmGVA3NHbGfWLuuCbtNabQAAAGMBn250R/8AZw14VjMGK7efdQCcu4DSuYuNUgy4pWgwfXkJ\n",
       "pi3LPqPy+IpmSrGVM2RsBM24v/e5bAPaFGmrQpoD+c/qJy4EonUKx0EI99RRfaXE80thJ0/oYmkh\n",
       "6AtK/GyBl9AAAABnAZ9wakf/AGbx+tI8zqd3PQ0lGqO2/PC3sn3dENRpjTxyNn8Jl8/BfH8y5yW0\n",
       "pbfjo6oidljWSp/wlWOcIkpKlH7kWqllMcdpSIhi3zaiGSQei+zKDrNVlwGfMDGoDkRRfL2L3iWh\n",
       "KgAAAThBm3RJqEFsmUwIZ//+nhAAyfCc6z/8eZu8WexgDFt4ua/jS9AEmZYTYgt52imvMndIxe4A\n",
       "iwpbHi5oWRthWDLtmzrjLEsWNzPuDkpe6hLjZGN1Fpjt4XS/Rjd84pT6XCx4ZhluJXEzCEJEPXV9\n",
       "FVLedH2bo6esgSxTfb8/hn+5ZbxG/i3ky/pRr2bgmPWpAg+Da8x2KS9aplQ7SyXAD9yrqzI6z3c8\n",
       "LvkTD58Ujce0Mfsxv5sLLDPbfdID7xeqSL5rhMMlAi0OPauFzIgnQ/KOdcjTpRLVrZljCfa+Wc3R\n",
       "9Rvtxv72d0NQemXLfDP/U1pGpVKbnNDY7zSRufRzO2iiWOh9cgcUmfFR0jmaLLNq1Joqkm3+etfU\n",
       "m2lB5BQ3RTmzGXrCR0zkRXl/m+cQwQKkOxlp+Z5pG8EAAAB7QZ+SRRUsI/8AP46KXUfX3bZlN1V/\n",
       "HBav/SRS6Z5HIHK4VYL9vXVoCgFfpiJ7LFYZSGa3iPQnnuVLbY10q9Yjr9h7ysmqJuQoN0CT+akE\n",
       "liAFAHX+6X37O2tnyXGnIeBrivAS1Yr+0JFOJlRNIqySGqUn6BiP0GRqqPqEAAAAiQGfs2pH/wBm\n",
       "/ZAXgsO/N6BS0GX+CnBlpti42fNkCeepmUqOv7WhFDhgAwNdRj5Fo+YS6oZh5Mhfyv+XtGCccnqj\n",
       "SnOwBomM57lIKJCzUDnprlZmPNh5X1RDThPrtxRdsGV6UJ99JNUG9+NN7fbAAfh4k7+7s01pa0DI\n",
       "IfxBbEq65YR+0mMhhQSUAAABcEGbuEmoQWyZTAhn//6eEADDz6HVzo/A+AOM0zHrufscSCZQxkAJ\n",
       "tYGIBxT4uBi9W21f7md10JSa6SNZ4FU3bK8KK3l7OdN067eCEoccLGs+mrQmHcfnRn6JRe/6EAAE\n",
       "QRfTdA9it/9D/sMt0J562SL6uWE/+90Z9bg9/OJG2VXcUNZGUtgIz0MpQKeuRIV5/zgHNCAP7cGF\n",
       "UbdR/oAb2Qsr0zDe7nV8rO9414gPkJv9Vxr/0d36LvsPk/vkfyWWZods9yxurIrdI/U1yCwezxRy\n",
       "HJZc2hyW/g416tqr3s2rXEchbeYz8iiNc39cu/uKRUgv/WZAa7FFdtoYMmgxZSbDZi5AQpGFPvXG\n",
       "vDHQvYK2885uguFTeMBp0mooTOr4gNEKrsccUy6O5qPQ9vPg7ZDsWxAp03mzfKwQzx0qOTH6JtHq\n",
       "LFPWwulr7u4w2d20kgykIomrYWZvLJnc3N+oZJ/eZKHBAYl6y8t/anvtFj5hAAAAukGf1kUVLCP/\n",
       "AD4YtXvO20ajEvOaFNOzbHcl+VJ8KSgwANRMZxenLUxGRnRrM1ejPclsTrqb7SrpW87DAj0c52qB\n",
       "TulyeUSOSrfT9/KttrZwnowfIW2o+521Arh6Vhjy8a61Ws1XzFxmuWPPrdzfXOPV6kEbE3dwBqU9\n",
       "bBsbNCIrXNwqMU+8woMtxfyyQiv4Xr00f5PXQQM+u5iylbVNBfOg7FSEDyuf9VMv7NexM4LSm8En\n",
       "m6Q01gWy0AAAAHEBn/V0R/8AZGlzxHds77Uagb8l6vszDRZCMlRiNi70Q7HmeVslKMVV1wBuNXpw\n",
       "KmZ0Wut6Hq5r1yy94OUMCBub7jVYNxiWqHFEKM0olOIoekhPwcANbbi4HXMYKsT1Pf1EQgej07KS\n",
       "gGPIvyNlRk+nbQAAAGgBn/dqR/8AZLpOnp5zu3LRz/QhQ3Muf41TaX8IJkfmOHsJR8E4N4t7eGfb\n",
       "Umz334loyPgBVhvQ++8RD0ovVPlXg9qXhAcg9MROG2jasxVolOTwsTohd8LqP8ZVYdlaKKXGJW/s\n",
       "bPM1AwAAAXtBm/xJqEFsmUwIZ//+nhAAw9rEWUq7uHBBVoAOHcWC/gBVdZJfokv0nVQQODBFqhGq\n",
       "d//SqBkPIn/GC/yZk/GLVuuc4GbFm41WRqxLTuoAAAMAFcJ5kmo/tWS02UxDZ15ciBn0lrfr7Yqf\n",
       "mDcB/Z1iVySMwRIXzOuiKNpaz+TkoNg/loZBgupQSiQI7CxDqHGfEZnYGV8fgRcn87BdfVRWgpxi\n",
       "x5aZiZWABknI8m2IvRnognN36kR3n+FLMq1WFuljKAM3ocCOdjIFezFmZdFN9894xqDEpbL+fToh\n",
       "zk+jeuB6bXZ9x8yL30sgMpcl3NaylOYrmDTHnulg7w3gaKTDlK/ahktu/gAAG0MMkCCmi2GQsFBm\n",
       "1VxNKdkXCQTlG1stxaTajAQmNOe5Qwf+03ODkmzgXstRA8flZCe1mULEhGePC9RC3LWGB90gKfLB\n",
       "fWtGaryIddJKr4KE3bCQPD4TYxC+76C6oMx7reMSk4Db3z8zGCImbEOu/IE9AAAAfkGeGkUVLCP/\n",
       "AD4YmYueuxoNheO96zoInXl7GqUPgbWRsQ4dPRiFfKKH5veL/o5WRc/RR87/PBJX5jLzQQvGvTV6\n",
       "Ls8wuwZW+qh5jR6SAwGPNLKu0TvwEdfgBUsLxh8AcZVF8pWj71qbtoc4tSRjTZSJQzVG7zVfQjta\n",
       "qof03QAAAFMBnjl0R/8AZI14VjMFq/E52Ua9Gb8AEgFt+hXD73hCZn40EFtG+GZA4pbjaScMQXn+\n",
       "hhsFm1nGrMy5C0x+6wzKy5IDcXZ64pfve33gn3lYRieSkAAAAHEBnjtqR/8AZHH6IwIkZEbaMCuG\n",
       "SFOHn4oPwsgaiHuYo1OUGaEZyKfeOmL05IRzmkTWqjQxL5AKRD1OxqyNQBfFVvyqFc41ajMG4zla\n",
       "gJxKvVPxP+2f8U1VmOmSztKnuX4hPhEpsv3jxmOXBJislfVDIQAAAZZBmiBJqEFsmUwIX//+jLAA\n",
       "xnCc/bMwpgBm1gTemHFsB6jkGUREIOnhOfm8jZwhn3CBp8eh6KYklNXerv/O3MswXQFh/YjwDYSe\n",
       "z+Cuvq6qgZ9wAAADAtsANDA3uzVYTNkzS2fyk0BQsV2n9+mTq6CrUSFsxGklak6AFC7nC0N6MSBU\n",
       "RUBxufT8x58X0IAFIN3ZqivMfVvqFmAWhk0E+EI6a08IwkZQwdeoAgi6nRf+HLf+iXxQaWzY8tBh\n",
       "NGGOz+WUQOosYCt9JdOPaWJ4nKbwfoQM2ScHJ+HuIm4R2jTVht2w5Im0zUhiAoUDi2GHVehdoIT6\n",
       "JH233e9eJlbKQoVH3HiB0ZXe0g+X73cFKq3SIYqCGikN5//s13ShElYwXYrGkBK1rN9K02XdPc3v\n",
       "JYzzgiilFyJEyNMIdFxBBWE3Z7EiwaeftdNQ5vXAowqokBPQL8Ep9a+a+bRYERJtVxL4O6qzG6vP\n",
       "wgfcmZx8gtHHKdM8OXs1G/3WX6t/r5KRVVg5QPUogYsRa82SiBrCs5ncIAdYUhnhAAAAhkGeXkUV\n",
       "LCP/AD4f+Yc9RaZX4szVJEliGx4d7DN2HeLyIzUN8E1bQCrrt5XaQ7iN7VZen4/PMzB/SWRiAkIz\n",
       "kfvFUoUHPorgHCw5iOO2WtqNN9N6q3NSn9xF6t6zwpVFbWP+/IwAs9e4eJDorKW20R6P8MEwKjSX\n",
       "oVSSzC0rCQJHx1r3RXxwAAAAUgGefXRH/wBkcCrb7sS30G8C9LMZti1jjX3BMGAvCk72dcvyV7cH\n",
       "Rgs0IBQzZM/tLY2bEOe7MGjCfXG3z8VmpDGs3/ZpElIiQVpuoaEoUUpTZowAAABoAZ5/akf/AGHx\n",
       "+QcyzTh+B/5u6CZwvmUIQUQiCXVgfB8GJ9493qhRDVh2ob/Y4bAuKkKCGatxOWszqg7UEJb44a8W\n",
       "uRXxfpGIRndw6ECcFEcFiKO4r0MRlR5gKWBI7G35uE1yL9dvE5cAAAFlQZpjSahBbJlMCGf//p4Q\n",
       "AL6u9f7B5Z7De7T0uxq3AYgCJfINplDIDziW10nqDPKDGa3sWKMZdy9dyHjWMJP2LKqOkUSLOAY0\n",
       "ARWvvC3DBil3WN1lRJakpWn9nFV/8Ldaa9KzoNKVLmFlwKv6p6OVa5JJWpWr1oQUakgPJZgg+uV/\n",
       "I6diofvjasJeOOqILqlmwMVgNZGvSMyqzVxVyv1+Wq1/uNwhtPf7d0LaDsanJXiS+72Z0BhNgNQ2\n",
       "wJ/jbVW6U3dq38MheDIQ/5eUBrwdZJgmXq89tImvDObfEXF4aFkzsMGyohEqDufFkIavJfVQApIP\n",
       "+KpGwCjf93QMo1+n1oDaBJGalAv0No7GUkjfy9PHyLJyNOsPwwTorM/zDD0F98wuSMK+9OEPxMDw\n",
       "CZZoApWpN4pMJh4t65lJa7H5krI4bwvGs3pqrGTBfGhbXzoaBRMlSCB/NwOIwLztNJO5HZ5xCa7g\n",
       "AAAAjUGegUUVLCP/ADzOil1H1++vqlicCLFzatx4Cse8hETCQY50Jyh5CTFgrVOzwoMMoGBmtBil\n",
       "nFp4dUkLqjcEUF+JopPji9aoHfB6I6eVBF1EEhPQ+kGLwYmorGeGeIBkL6NhLG8FAjfJrGNqSMoI\n",
       "ggNbgAC217iiIuMa85dyrrvDZHEPKihHTt7JUQ6CzQAAAHwBnqJqR/8AYfH5BzLNL4Tfu5n3l1im\n",
       "I9D+qHbndHVw5SvDwH4v/qDpoemQs597B9DPY9+sv8DQNFLqRQYjStVivV4lzMNeLkIcl20l2QTV\n",
       "V0eNVUs0oyYcR+QjeVxuoJx+pDe0b6LYEM4xgLf2idKsjjj/xgNiY4dy0WFkAAABr0Gap0moQWyZ\n",
       "TAhf//6MsADBcJz9sy203Ga4hWyVYEHPzdzwBx+AQMFVYAAdQ3dsp4iyVhL7Mh0DgXrQuouGDMJC\n",
       "2w2tydYtnU71SdGVret0POFimnwwgSptGl+7MOIjqp9PwMzCpUG84bFcVIgUdmhNVkc0aZNq7fP0\n",
       "cnSpYfu8s69swzs0RU/7LssbY76xpf3LIKOdxXM7OKzcPJv+nvWwpphdXFL8h5Yl7woa5VKhhdXu\n",
       "EcU/lXSyDLNPFq1jdjfEooNC1AqhwmAgPLchC+8nqckm/YQ4UsXy9f/c/0ezHxiM0VTHM78KrYml\n",
       "MlmrLTVRSx9zBnY6ZLikYcpvoXTlR6deHK0ICvPC6RNFXmrxX6lTIhEI63azAdS4dVfbsAVK/PGr\n",
       "ZEmuFpMYjDkZg3vbaZhvKL5R0Qe5OwtvA9V5mQtLHt/B/gWMqIvBatW0abyTeWX//eGwPT/1V1YA\n",
       "bgpal8WyGQ3pFfzqO53HfVWqeThBno/EKyQFNzTFs4Gl2lk3ovZR9MS+WV4ctZ0ri4CDVM/G3Rtm\n",
       "o996Hs68gRwcxNMWqQwW1yrR93zHiCWXAAAAoEGexUUVLCP/ADy4tXvrKjk2ZiSp43XibU2ncWnZ\n",
       "hWe0nwA3MOkrtjMZmPySx2glPX1iZveIO7ZckoPFvdPoGXjAo85hJr/dwsthSYzUIf35WtSwnNp4\n",
       "QZIBg7nb3OIHaAvSvtJqRQBbUwny8CxTWCKlLOwZyiHO/DbD/qKNbZfDZle8NA/idr5ASY9PQnA7\n",
       "k3PWl+vC96SKuP5VpHTeBUMAAABfAZ7kdEf/AGImGZ5oanckQqajInNDtTy8btfxHGHGdaaK9Fzv\n",
       "C/pxog3NcvIDC9YDwHQ/gNWrQZRf4jjgQR7AH/NSKTBJMqvDqisKeCPlSIU+fElEBoYTVB6Y+JYO\n",
       "jZEAAABjAZ7makf/AGH+Op1PTChwSLBRZFUTye7GEgvH1/13Nd7wNRa2VcrmJCMEZxV4gLCG8wie\n",
       "w/hpPO4++m9OwgiPFW78dg08yY7wggJu58a0JcbR/bpn9w9C4+Nalzj0B2kwz2XdAAABMEGa6kmo\n",
       "QWyZTAhn//6eEAC51vX+we4VI/JtkCEEAH+RkKg1nLAjMBkwHJSGWUyQEyUo6+3DgwW8KZNavWQ6\n",
       "s3yHsI/2kCO56LxG4Zo8aT8OeWjaY+TGUcHJhn9RbCIRTxLljOI6EQ7bGl73nHYapNE4OWMEe/KF\n",
       "5KCyR5dJcj0BrffcaMR3hnguKhorZWG5EVgAaaqaQW7++oPIsVCjINroBxmTp298al+SKjtT3w6p\n",
       "3xcHEc5xQYPpzJRnRyrzFEWgpjftsSRjZ5eDgIJ8Qz/FWNdF5pFIavDbYikobzPgvQPYiu1vSmEi\n",
       "PjKV6bhldfE2/AB2gJeaK3FQ3tYdBbKwPZkRx0ODPC+ulPMXKPEi64jvhsPyvcZRSwcvJUC5aO2E\n",
       "LYrJtcuk7OjcFOlUZsAAAAB/QZ8IRRUsI/8AO26KeV2irSY0yrwM3CWvMB6xzRBm/htOhrmwJTET\n",
       "boWoIyhA5KaCb3ryYgR6Y7SBGsA1NehUA/CRI3d0k6a3n9k+Frg+76XhQ2N46miX8FIMSCH19y3c\n",
       "Uxu4LkquGcViJlKrAQrE2eJ/RbgPsXqLvXPOFOSBVAAAAH8BnylqR/8AX5/tFQJbGMur45qjaFkb\n",
       "NxyA9/sptM4ITXS+2cnHz/IX9yVo+i+NU69+hoilH4wRxLi6gADavDty+7OSSPLn6ZjM3ACauhdd\n",
       "AZa+tZDFQHzh9hbtyM2a13CHF4OkYOTi7HzJjD/86XGke9DzBtTeo9fSQt2Cf7mBAAABhkGbLkmo\n",
       "QWyZTAhn//6eEAC596HkyAGplSXYBo9PPNvdp6BpcBn6F+zrhstTbUeihe6A5jLneFSd1Mzhe5DM\n",
       "AEXcAAqqhkWIpYql+zp3yekdj71asGusQm05EsG1TyAB6pxkYkgsNAIX1jQOna89bqoPCe2ntNTi\n",
       "d88/zVatz7NjZHoSjQrl14dUPhH9YRfHPO3rS8dyMArCbBTpWWQ0luh/cqjJ+AzUQkHEDH9NyZ74\n",
       "AXHBAHGMIzrcyRXRBcVOXzHPbB2JfCN6bOLvmiza9K8GPSgppEVW+H0gtrCUUWRAH3NjHPxVLJyL\n",
       "IJNuoEn0+PumAmHd2rnSMvu6lqzR2LHrr5QFAxyzuwph5iC4FklrNRqPNWsQvJ+WBKSExmJ4/rws\n",
       "APf1ov+Gaw0fWMef89gjesdlhrzKEvLlCrm6sxeIylezUAVtF7+mWPxw44h9Pj3R4zpPn+MFML1M\n",
       "6QN0ehmszBo+Lz7QsepLjWKBMZp/Y9mNj7+U6fiGqipZ3zTt7KGeYDjNgAAAAK1Bn0xFFSwj/wA7\n",
       "bdyZC3APDWUlBaSfNa6JeOoLgDqiexz2cbjJVbYjJJiMvWfTeaQqCEUYUnkzwAqrs/qo2MzSEK6R\n",
       "mK7kIGfU1Zt1YFmcsdI9wglbBh7cmWRq9ThQ9Jvo7B+7x9fw5ox3/eGb7HHwJmdAaLsPfvh5x/g1\n",
       "WZwXpDDs/EBo6qV47d4eCTyncPz0oRn6HzdHEzx7J2zbydFH+hf+fn/wzdrVtdwoFAAAAGUBn2t0\n",
       "R/8AX414VjMGGREAJidyV+wVAJ1kSO32NlAL8uQ12rAidTJK99orvrEuGN/CYE2NOKvzPsS4pIGk\n",
       "V1IAJxewu0UYlUMGxfRUWU4UzJ3g9OCD++4BZlzLzyl6l2PlTTBTDQAAAHoBn21qR/8AX3H6JV4U\n",
       "pP277RwjUkl8kJbR0BDUNarzIoKmHsKpkKSOcDEc+LRH1vqoyuytTCVxpF5kGXxTmi/9FP0nYDwj\n",
       "nkeP/paFuowxDJiI9+TLPJpnpWQUkZd5BwU7pIjn0/sWtoWj5Yi4H+CStNCuTrOjKIITcQAAAWJB\n",
       "m3JJqEFsmUwIZ//+nhAAuvMud84hTjHtvR58BQRgEpMaRi3U1cFQKK+ilHg6BFiPv8IXbr6dyuRR\n",
       "RwT+NGk78ugUAIxxmrvFOHNHdxS8xp67I9ZLIr7NEn0hd3QYNxwoxwcnH+Wk5gsDVW2bhFu11i8g\n",
       "yXB1p6fAnecLYhDaBL1M5ISAShv+DFxMl9ApOQ4zsbAVIjRpV9ZxydcpZyxem77kJuec1s3TNDye\n",
       "e0Tc6HOoWtzzv8+wzv7Gus3cyvVsSb437Lvp3+xfL7/LtLWb5UFByD7P4TROGnoolN9Kupcsv9zU\n",
       "V8/2WePdimUcFwXgtAFbOGx0WhBbqfSJc0TC0XNJd/VaeLqYZHKwfl4UYyBeoKLSmubt3+LdUYQs\n",
       "sijjckZ1sXr5ZkPbqoor0241gzg4hVAZ2InC44J8S7lDUEYMHJeP1cZFrAJwyuaXvMNIGMpxuLTR\n",
       "T3jIih0KvZto2YEAAACaQZ+QRRUsI/8AO1/GGuL9c8YxXReIwheZ7N/etIsp9FxrW8SNSOsVoi2f\n",
       "RWbQWUd8a0EAwqILixJoYzwGGA5owQgn/njvwoALqLgL5q/Sec62+iQ+eY4DarZ0uka5X+W+cFWk\n",
       "YCMnbP171q5XMqHKyuRiGMuI3ACmdFXcHkoltKhJmW2ZzHU0Gej3GBa8q1EXj1HFtIzTtr9XOAAA\n",
       "AGkBn690R/8AX6YZICzkmrCgVOv8KQue+3nxHXxDBP5Y5rM4AKgN6gQRuC99OKCv+Bw5pIzwsmG/\n",
       "QiTwghpCnvwWlmkEiZg23Ewp+nY23/5xUIa2yRGtXVtwlxmRBa0/mi0DLT/Reyy4s4AAAABuAZ+x\n",
       "akf/AF0IZf0jrSVGg6+VgtHlUgHFSYgJ2znTmHwuefKUVDwmGx26yS+OuXeYrgEtLen97KgWpaOR\n",
       "u5KeTwo47/WpzBNxiqYERXK962eaKZ7kPfgXpEDf0Pe+CfyI8To/uclVJKIje1u+px0AAAGsQZu2\n",
       "SahBbJlMCGf//p4QALWCxD/oADo+QL2hCkwr93lSgIU1tMH1s1ln4y3P5rR8verR/afhSvdx50gT\n",
       "/aiHEcz3pCmar6bSnUZk5I9BI+U9TTkSIPfE6/F7kAog7qX0vBQPkR00GPXEvAFgCwgF1PycQBUC\n",
       "anlKDdBYad05+HvpJ9qdcFYRfd/8PYJ1+DoEs+sVwVFoKEp0dmeFu90gXfBhymu7289o4LbUAc9H\n",
       "0b3/NahUk+F6PFUvkQ5v78c9bMq/PdF2VYLPpdB7ugjbjx6dkzhvba/MeQsW542e7CTMSftKpfEc\n",
       "XwxziriqIG0KKKH7sC+3feayu/hbdtpe5axYBPurYEDsWg16UObFz9n6obMWjsa3d3JH64TMyGWI\n",
       "KXdl5psExovPRuiPRgXa3ZFVLrZBOJ1wBtRTyy0gvB6pGUZdxN2m8iw3mhYCRhQID12YtVUZVaRr\n",
       "2xs9KWC0AAADAAJMFdxQoCr7+U9kIgmYeVDVaYBEj18rD0I1PqmVKkzDBK453xKHHxTsMg89Xi9V\n",
       "ryFOeAKmiSHEJmYkJwv7zyG3cAPK82+jiFYAAACUQZ/URRUsI/8AOfi1UxQPiM72AhcL5IL7Wn8y\n",
       "GUo2KymQ8COdgmC+Nkq15Ww2oRaGbQmaMlJi2fINmSRfEjACD4qdv7Ed0WDYNU3XEtwUblJdjTUw\n",
       "qwhoJ1C30cR6GkmwPdgRgArb+IUqETnRgZg1aiToUVpbenWOXQEnCSPXQ8GgZqZU/AdS88CqMTBM\n",
       "JI9crMHYaAAAAGUBn/N0R/8AXSCGpNlcK/E52IGGiDeloRhitB9BhjB8hF4U/9K0GJlbAxgAJ20u\n",
       "AxgHCTlj4AwLyC15DaaARkeFrvxCAbFecHIit7cWWaZbpc82ztYfYoae7vmGHK5Ea5m9HJxn7QAA\n",
       "AH8Bn/VqR/8AXQhmvm/JooYgqUwWrjPrC55uNX6xKSS3g5L7yRGew7opaDgxb3sjvOtroU6ASiR4\n",
       "UyAB/OxTZNIWTcKE5uxq3F5VwrU/tSeYcTc0nJP9t720ymMRgAqtcK6vr/1I9JSmt5e9kZvkWfdp\n",
       "eoLcUSQbgnHAkKJxBEAZAAABgkGb+kmoQWyZTAhn//6eEAC2cy51pDWPOilPvXbQA+8GwCWJt21V\n",
       "V8Ytznh24KQUGPspeKVrqAOJHX8bMkQ/wvbhzA6yQ/fLw1YwAbUQ6j5dMzVP3P3Wj7ZjVCLXvKDY\n",
       "ikuTWs/pLCld5cC71nmaetGb4MepA69RJHRfcX7jxxPoCMEvxHLTCnTJP++l2ghXe6GyHp0p36A3\n",
       "H8Jo83ihHsi7K5IFLHMBYzjUciSe5y1rcT2jyctBUVu3b0l58wgYQx8qrUiSU53AnkKjvOH4hTkz\n",
       "G8u5lv5N/yp8K1x/jaq9eCsKYdvhst/6VF9GSAT6NfbF6Eg0R9S3FMhPWLXz6/SYrh7tcpFh2opP\n",
       "cZyCd3aDNwSMIkuGZ4/CkwCh6VvYZX9Vi5QecvKz33COMjefQjW7kABEfHr1p/rJDBs9X9NJKhSM\n",
       "5DRVjriNyqYoEI21sMZJb/JQtn2udxDLYq78JZ/yhf4Ja2FtqQ/W8+0PbshgxRmKo6j4+CdMl6lS\n",
       "Aq9fZ85hAAAAf0GeGEUVLCP/ADoN0ED2sA8NL5gmQuA3J8N704iSZrLfxzOXh0J7AG6+AEtSjR5m\n",
       "qP3u+sEIQEsupDSkaPVcyVQMJHvomn1kWsq1dChIspYptue4Y6Rx/unVPDPDZsuP619HiTyTV6L5\n",
       "10YLp1hgNWpgrAC2bI/fjsBOr/DvP+EAAAB4AZ43dEf/AFz/XSopgR5QugnKHodWwSM78sU9J6CB\n",
       "EJoguMkPCXPy4NdkvkehlsFIKZi5APembmV/dcrJAu0oUVan9W1i3l2aDG94K85n+J3aLMSfVElO\n",
       "rGVYtfNvKgOiKBJwxJbGB2FFAk4afJrhrpjhU0HYDGEQAAAAdgGeOWpH/wBdE3qdT0wocEeKN5/M\n",
       "i++7+ayIisu5497JsBDSvJBvTqdWSTq7wGrOOB/UZR3v8tcT1MOMQbsG2xV3IYslxjZsTYm8FU0K\n",
       "ZfDX4gk6M4m0QHfmpx2NTRK7A3mAIolA77AlAcZIe6zKCaIR0XD+L98AAAFYQZo+SahBbJlMCGf/\n",
       "/p4QALGq9EJqNcIZfhQQBywx4ZDWBXCl8fTbYOfz52nmxT8Grj+H2e3vlYFlqKu+yLbg7/z+4vxq\n",
       "o4g/R/qEcUjpGXrbyzdOSPUGwrmNW9PMW7mfA1EIW5wGijfyUD+9hv18ZYUlD+drt0kEp2naggHL\n",
       "IhrfpD+mquu24X7mbd9n6gmHaBSqMOvN5LPyf9uOReNPKawiGgx1I/GVyvOM2VAVY7930l8IMgNY\n",
       "1w/NBzgmRxBri2Gax9wULkTeC5T0q09pqxavrlx4HUvqyWzz55+szbS85a9GdnZ7GaJecF2kt6tj\n",
       "FVcjj+NTvYkkBrXl2Uqpudd2i7gZ9YjWkKl4pOXbXJuSBa9cWZFJwJmiSQnATbsRtMEcAfM6IDqm\n",
       "pxOAf9AMJuXS7P2IdiE7yqfJEZ70KmEdUdf3GVMl1k7xPtrY4njkFil4z/7LMuEAAACZQZ5cRRUs\n",
       "I/8AOLZDnd7CW64yutA9WWyXRjSLloWuD1dhwJkBhKJAq8rio0+9Ohv1AAE4dK4JHUkeFunlhUlb\n",
       "5aWaFNcGoZ1kU3NoaoUlhiiW7G+7QFiDqClMGl51uNa9EKL9AYMBvp+onC7gzDUSDFtF2ZHkCnAE\n",
       "xEBaAZHG56pIbVENWslPSgjZcFMe/Nof1uQ/MXoZDLrHAAAAgAGee3RH/wBav1zcdUf3OoXgypzi\n",
       "XzD0fI1kkYi962GvZh7sACZyJmbHYR3BmRLWaFett5Xlr87Co73xGt5netuOuRWSdt463WSlbzT1\n",
       "F1RDgN+px3Cx8S3+cgbCMprw9y2h6bFsjA36dhlHiqY5HaPMMlBA1bhyyBZV+Xt3ErfNAAAAdAGe\n",
       "fWpH/wBayOmC/2XGMBhXYODRFH8LIkKQ79lRv+TIN3EhbsbhQEk8BLrfY2KBRLUe7SkXHTnZIRRK\n",
       "4iutsNnaEbIUfiGS7nC5axCdyfjxa+njRJ74/U9hQe+mI+AgmJ0QvnfMbrwxNZTiJnHrDaibFWKA\n",
       "AAABdUGaYkmoQWyZTAhf//6MsACyef6mfQQPBds/vlF/9dK+P14YBM8qD6afgbbaPWiw9H3t9WaG\n",
       "9Usa6K8HvSpg9AG6PrMKjUWtNQUPiS4tTMR8z7OiJuo9ZENAp10P0P74VQAl19CEZdE3vuTL4Fkg\n",
       "5PWcRww+XvAAHjZjkzta8mktvqRiW8zcjap9lmuOSsKQDGRhuTdJ3auin1ZOIXp9QmJOGi6Yl2vO\n",
       "tlKHoK/25eM3ktJtXSMfpuvBk0fX0qcwpcCxXOCFv73enhjDqVtUgIFjdxYAbnEJlG3MWnGDGUJz\n",
       "M06zx4P2Zs1ssjhw/aEDdyosdG+XwRdb1aquiH2gUCz4gv7mBuXEvzyNA9re5gAAAwCU6i0YB+/R\n",
       "MdkQM0LzKOokRaP5EJhtl+CuXLXG8PwIgIAAOFJfMrORwe43w5ihhFMYYVXsJw0IHmNkvqk7Ggg1\n",
       "eMZzWi/ZaPaoUo1+rleHAegDyEUnL8Qy7B82+YY9yo52TLIAAACjQZ6ARRUsI/8AOJiZUqTPbo5R\n",
       "ktfD8dtIAiyySVAuEx/gDdqXLRqey37/J1rgBnjTGa3lRf6VszGgFkDaSaVCMcPA+oR3Y8frZiQx\n",
       "vgv1PTtwvSn2VwBBDFGdkKoEanh9IPR8PMwFG7fUzOjXMBmO7ycstdsz7N6zJreQ2aMOqNVRQ0O9\n",
       "S0muJ+cTPULb7Fc/YHhJFF9CfKBKDDaSuF8GiWp+QQAAAGIBnr90R/8AWuCGpNlbq9M/R1dDTioK\n",
       "ezSJ45fRyL6hvNBBJMT04MRlRKzVlqKCV0EL8pgN+yrZ55RAxYOKARX/7+eI+qumNVJFAjPtXUwA\n",
       "hC8MGmU576EJjKUHmHT4SAGTsAAAAG4BnqFqR/8AWshl/RhBR1h7fmychE2U5nD3zqXZaEi9OoPA\n",
       "3W8Cj1rj5GUOAbnpd6o3Q+bF687zeMmLpgABwIOTOIgWAN8uwuztXIv0dhlcVYnMvsVE3ZvaVaJ5\n",
       "iUuHL249CWawKPJzExLnpdttqQAAAWpBmqVJqEFsmUwIZ//+nhAA17zowAmroY+ND0k4QMUJVmmf\n",
       "LDIPMgYIpYTxWdSTUZ0kEbyML0x4fbbkXS2x6n+v6adiwSrLck+hjoaeIPw2I+IYvU0mBPc7eZ3Y\n",
       "m6IUcNvGumKVbMke/bKQRQCCfA2gwBvXEhWTtcJ3Py8kxzFp/r74ZEwn4+5CoUgPSZsGxmVcFl+k\n",
       "3d8hlx2bqPFVBPzkwFlrP1l4DivA10rSMWDRriqJwmYet5eIIQM5gGa3LF+WYRBDeLbGr4aLof4M\n",
       "KqC4yreAp+fDX45DLtauhdpIkvweQqY9q3VjI00ZxjixdgfYdgBASCYB4Yj8EguDZ5TiXFXGPLds\n",
       "03MrxNgKM2r07EyvWPjpTEdBk0Rc1f1FXezIRoKoX06bGJAfTtkKAFVGYatBcIJzStR3PqkQoQ0j\n",
       "jjq07ujiXuEUZLU5DOz7Zi0MT4jFiPixa15BmHwFZOiQpP7Mc2z/pRUWvwAAAIFBnsNFFSwj/wBF\n",
       "eWcSQwJqxhjDKl/HQjJezlPWjxOXy3cCf9dIsSX8JxPtQZrkxvGaxqm64xOBxbKGYR+F4XVuHdfx\n",
       "cQtIJ0ioIAK68u0eP5zzQYjRs0OVtS2ol5Z5Ri74B22QZq8boReCvNJchxjY+Tfq65nlBILLQzs4\n",
       "cGqsJ1UAAACBAZ7kakf/AG20CYsUAE7c4/jzry7+t0QSLW+j5kx3nE+VGMd3gvD9Gu53Msl5AWPL\n",
       "RxR3zwkBAGHug4BjPm5d8FKc9xCV8l1eqMerT8e7quU9cqPnVfp2eXNTL1KZhMnlOutsAz3EsV+l\n",
       "3dnZyzs1xU04Wa+EM/dhdz968Bh4C5QPAAABikGa6UmoQWyZTAhn//6eEADX1BhgAnF7HxoeYPDu\n",
       "ORNIP04mPlhOY6tzfJQjRvwiDvS/rw1BGT42Wn4toQaOGL6VlI2MmLeRdRkeiIMXiBrumCX5rEA8\n",
       "AmWaPvvieE1HXyV3aykgPFTLRE/J2nHySbFXDtXBLn2Od45xWpT7nn6w4h5MCifgqvnvTSPKTU+t\n",
       "+2GxI1z9b05TjunzdDUAQf061taHUMEdEsGX1rrktXBQhyrycMgLNSUX85sXn3jQ7+CbFZmAVVoF\n",
       "t72GyEi0nStt9uwY02dx143I7tT8mCUiW+slWq/Skcv+ORAt7eZ45kaNkNNJAUxtmwic8mm3+yUL\n",
       "OJjz3WTab87/p8e5BEWPmgGw87tUhrx/ZvDJN6F848VLhRo0OHS9t5dfTxJ3o+hCNQegzNdTY99o\n",
       "kQe5b10C4N+XptiNAC6J27quVZm5T56qcenyMKBcPX2Xs+QwUMxy5DgJTfyF50kgVhvd7/AX+E7D\n",
       "0ndEo0w/4I6qgOs/sl5nLpXpCQh9Z4EAAAChQZ8HRRUsI/8ARLY9LsDdhagAJTBdJ/dtAVdm1EPV\n",
       "Blr+0QTFgE6vaoWd2G+mrR9dLvRzYYCxGnHv4yeY7uqCK3xRnQOzlzppq+N8UNkT41f8UD9kqW5S\n",
       "ya0M0moqcn8kc+DDmykz+8RjrZnS48Z+Th5+Tyuvm+CTxNG9BEHwXxyPrPyMVbHVWz6od8+/GOGp\n",
       "rrMuSG0p7fywBGcDI/Bv0OkAAABuAZ8mdEf/AG2wDfe9IATVbPcokoAb8Kz1uU5LiHJelbOtXezu\n",
       "52PI4bgLFJi4sbTn5XgdaL903X9ATdvODm9wTI4FLLimnOHw0yXsbIF3zwQfsM06AnoU16MRiod7\n",
       "nvpS/02zk23/Vp3/NyMkmAQAAABcAZ8oakf/AG1AitqkfFmTTqTx0+rjcSufdXl/FHxU6BRANpFp\n",
       "Hko8t3GNxDcEcFUWI6QYqrA1buMq8HFsS2dlnKWXFBrJYlMcD5VyIyI3pE8d0VBR84bvobc/YoAA\n",
       "AAFFQZstSahBbJlMCF///oywANkZq94H3qAA3k7OTY+PVJQR9GyKuXd7aeDDdLHXCSnNQ8FfCk60\n",
       "SMOrvT6bzzSAEZawSTAACXlh1FAuSuANdSLxjhcGssRmTeIGjFGOWETmM/2Khiv1nSQLFOZUv88B\n",
       "XNDo7NCyvSYWvICyhDPuIi4ODB6X+XDWGgrNFn2urUmgf/C+q1cGE6aQ7w7TaNOHeILJ+CUBASZQ\n",
       "SX660BckkD4xA6R0Edhx0szHZLtgQpYYaNiz0/fJLRPO/QRHwr7lYyMGLehzISSTbSotf2acPLcj\n",
       "KHeWJ0cvxD9QojY98tUGHyeXY8RTNtpmgPuBDuodwETagACFTTyN11KKcYnVD8MhRPZAiXDZc4s4\n",
       "3fy053CIXOi0dgK7TomffgmGh6Ouu8SGXBVRjr8Qr2gNEa3RAvmrohMN7QAAAG1Bn0tFFSwj/wBF\n",
       "NB3QmEy/KZef2kHqGK3F9kgtIaLTVRaOJXWYKgxAUSywYOxDUKim7AYEHCEB1Ur5ieZ4FKm0qG7H\n",
       "tU9ZyYHm52UeFXf+Q94zIeaxe14WCq4RhdVY67Eh6/pfECOnD+Cr3lEmAAAAZAGfanRH/wBuQIYU\n",
       "iAF6gwshKIz8uA+ZCUrjTosgSXJ62jubSp9dGeGeQnGVGw1xbAyTVUA4XfsTnhMLGe35QTUrTyjX\n",
       "P+hNLPAR1b3IKxIW9yO8DumjhTaMr+yLzYkX0tvznaEAAABkAZ9sakf/AG5Cv0BaFGXnyAqAj60L\n",
       "bURPfQ9buCHbtct9oTMWPH0RE0uAXS2+1oNjZ6n0pyajvyqtr7FMuYlY+IdKDwoAqOYCSCyNOFVL\n",
       "2T9qGQS2lEsC8VypPzfZ/DGPQYY7GQAAAWFBm3BJqEFsmUwIX//+jLAA2TydgBtY3DM3zDDj1P6c\n",
       "51hVkvCrbtPNiBLcR5B9N6H2kEGCfa3uKyRNlEcMQ2b3TyxaZzvSNp8Y3/Q3WCNc6PHuv6R0vaTd\n",
       "x1a8fcy/Bue6jvpFAo3KLLclhe7+IL6NhAHIhsWgibVdan+/lt8az4gkUOtw+qmKIz4p2F8Uc66i\n",
       "qzYUccDYPhQyZN/DJoT2/3ttYCoeQ2kgCYVyp/19vQ2jnyEdkckGjsTclZM8BE276ib37zpZ3edG\n",
       "IoIJxdANKyeDngekaxIu8WcLb5Re7QiFsTZIbmg5lhbrQ/D0BkXjHix7oKTNrYnNGP1d0A4fOnZ5\n",
       "wnBN0/I6eUHXn1Kk8ycPzjd37T5SR57S4Po8PUjk2LSb0neldQNpJ4A0OUHoB9GBVP1g1yICSFtw\n",
       "4/uwg7EC4hPqCbOtfkBA8satsEbbVEHpRLrJZgsrxQRTJdbyvwAAAGZBn45FFSwj/wBDdaPLYfvf\n",
       "Z4h9osmQGPfk4iVdBBTU5n/Is0u1/JreiPsKVl3NpMQAcJNJrYYNu7idnjoGtuhn/b944sawska1\n",
       "guVbY91BIzkZS7Nwcrmr/zos7x2I/u5o93GnmncAAAB0AZ+vakf/AGvx+uPHjs9WCeoP9zG5jZTv\n",
       "fAYSzUUvW+041jnyzGhdPN9cl3KkBg8mwrmnDYU9MO2CIBXrgW/PXuQd9fIo4qqe/q3iStop5n5O\n",
       "rv1hhy/GtffJXZnHyKT4Xr+2iAXhqocPBFMf1lrs7NBMCjAAAAFeQZu0SahBbJlMCF///oywANnF\n",
       "gIUaoAC4ubbYZoFp4AzjQB7J1OSnoc1f1nGi6MwC2DJg6R25mg21zO2zNUiqh0ZYjZ0/Fzrbq+8p\n",
       "KEoOA7o8imrQtFx7g/0e3yc6GtnZ5WH5cAk5tI+dQvzxRe6ox7XkpEr97X04tdmk2GE8fH4nif/x\n",
       "dgDBSiqlY7sn1FO8hMwrQR81BcxYXry68ZbK/qQa50T00ers5FQTgPhXrGzMQj5Hp9JOXcK6RG6k\n",
       "qMTT8ZwoF27GMx+yPsKjD43Wumxo+ktP2JrfX5XqOX1by/mfh0S22fcQX80JD7r+bbx/oHwFP5lq\n",
       "Hide0wplLbye38Y1ok4/RzlkgU8V6G2P4xsODq1CBlY7L3qvLeMTshB+6TnvWL+f83oM86B5WrC1\n",
       "DQjhOHqWiKV8qUl4XdG5rgDjRGHB/VDNe2guZm9MFyvyp920tMMrme9JdGJ8f4AAAACdQZ/SRRUs\n",
       "I/8ARTQcqkQAJ27nTblBsqFKNKC/O8BBVGhgdBECNNA6cJu7VoYJeFXI4Hb0iObt8DJ6eJ20zPWd\n",
       "89fAl5u1nCljZeNpB0T9UtPSip9P8TI+/OPL3qNyUTKym90e9AQ31nq1mjBmLFItWSXe0upCtxtF\n",
       "lyC5fZ+il/ts20iF2zV4WNGdzamwir38FJh0GDTteiz9kNdYgQAAAIABn/F0R/8AbbA10gIAJsGo\n",
       "bWtcXCfTGb3Q+70UU6yW8YUOuzI2q44fe6IijFwSsJmFXIATZLG/u9c6OYUBvjMvHLCU/vJXzi1Z\n",
       "/Q4BdyoOuou5wQeEusPxDoWq0tx3cgefD0PH/7I5aaePna9j8oJ6ea0iEU0nExFIl8Dj8n1gCAAA\n",
       "AHcBn/NqR/8AbZKL8vHsAB/GUraRKK44dNIpVUeC9+NcHoXJfxxgxlRlDZsPhJ8rgvyHPEEs2UVU\n",
       "fjJQzUMbobcKhZcVeBmv6AXFGmlBGUX7i3oNX4JCTp4dsT0qv9y14P3hyjie98/vdOGNFA5L9441\n",
       "8wNLg9pyoQAAASZBm/hJqEFsmUwIX//+jLAA2Y9OeqwAcb1J30OVmIgVOiu5o1ylbmkGAuWlnnRf\n",
       "wPO5LLkhf8No68oM+0nqQ/TzBTCaSmYlP0tR1X8hz/VAGB/e+Heod+0RuLwZHXzLDtTXJuKXmZUs\n",
       "0/IcbkVcS+qF1ecdVA4+zrghqRiWw+8SJVAui7JPXjgiBQaGqJeslVcGETiej0CtmoE6XUstSfuT\n",
       "V1aWUfJFatJpWj89HEGIEH6ZPlRAWeJUvq8+KjLwBmpx96YQTcieGFRGHSPHmCIu4p0Ujq46Ulfx\n",
       "cmyMjux51B+I/lC0gTidSPCTcVyy1+34XPeJCoY/U8gWSnOMa+7TKx8zFkxmvc0U3O2f716JriVt\n",
       "pz5v82pc3V9jtGTxJwJEoVLNeTcAAABsQZ4WRRUsI/8ARTQXna9DpSV1BYNE9JmfDQX4um1uh/g6\n",
       "g7r31UoshbMktfjwV2Q3t6OO7hDjnrUhpddLqJNiOBi7+HfoBb6vY4HOh0g47SGgn5UibLFVXQcI\n",
       "DsOn/5/3HLTPrxBSLV5ZX5NwAAAAcQGeNXRH/wBt7qb3THnShSMNcuHASEdXPCxK2tBxee57vGBY\n",
       "wZMO7qk9Ut90xYTpQgDW9XYLEtDbRqeOK+tiOpixGJV4PD655iRVel3rz2fUby0or3FYxMdV2Y/A\n",
       "VRFP1oOoYlKBw6MrX0vb315vTSYxAAAAZgGeN2pH/wBtV0hSyVYZ/kd4LvKSyO/gB+RuO1S4YctR\n",
       "7ASN50Q6mJA0Eg9xDMjBISo2B/jkMrFkxEYRIERilJCciARRXMmL2zlYgvX+Q0H3d3ONksu7naNb\n",
       "Y/jhcR9wUojAoSNOjwAAAPRBmjtJqEFsmUwIX//+jLAA2Z8pNYEAbxT9KVVFs0/dT0/ruHaq9eza\n",
       "PFLY0eBhoZ/GuJlTzCWsV7+N1JmRik2Upgu/Y7wAAAMBqkzOhAXpLFH5u0zutv/qjvKxxEYrU+ls\n",
       "Swd2vkdeCCyfIkWJUagWr275/+8y2n9ahjnSNF0K9OaPIdeoRv/LbeLyya1jP8OI8HzRWYEUWaCx\n",
       "kNQDBgN2STJUmXdJhmP+POWoACKBgqh0iURSoHp395HYEuIrJOd3KH+fJDobSVfahO7bfnRm9/w2\n",
       "saxzjECjKO9MfEFw3EPnXNPe5J2meHYnElfLrWf7RmGnAAAAi0GeWUUVLCP/AERz+CJR28ThWu/k\n",
       "4smS0DqIf3uwR4EfaXPeSmB+gJQCvLXvW/q1rBRid07jmowf4p/LuWSp5TQdhT0zczTaiRAsIrOj\n",
       "in+fLbEyobGvnTC11YvbOIe4O9YJENMrTUKoidyY9RwEt5SguTP58NzncerFVuLItiistSx3lqU4\n",
       "mwE0DWEAAAB9AZ56akf/AG59kBN/wOcXPiUFlvR+AuuC5z6CzUxlZgWobxMAjRCm1hsM0D1acGNY\n",
       "hjw/iRACXt7XqzLXGxfRMhG32BhQgFbeENOMTBiwpkyrLEu2UoIFjB8eEgAagY81QgYUJpiZdM6t\n",
       "G7eWONgo2AqZoaXRhgbrX+uGySgAAADnQZp/SahBbJlMCFf//jhAAzZ5wlJcjVZgCBHZX+c/PPXD\n",
       "bjUuLsOsXwjr6SXDBXU2F/3G5uIpLqCs47MsTDFnm5YNUL7f/HkpkXlq6zScsRO6+GN8K7jPlKJO\n",
       "Yu4Tei4DvpzBIMDUPdqPU+9SNEG+10Ema7k7ea/HsD047XEAWCr6l7Tcn7KQqkVdvyHWMlOBXR6P\n",
       "lnGxB2/EebWUkaeaWvSK7kui/lpiVvkhHeQcfgAAAwAPxq7K6mxf9XKWtjAMWJgRsaMFTVasGzii\n",
       "WyHgTB4XKHssqejQBDPlXulEwODi+7oxwoB5AAAAo0GenUUVLCP/AEN0pnJIqvOGA6f2JTQ3LVt/\n",
       "s4DJvp9hiVCzlLKWIz/Y8ae8hBDj+I91poAJ21hz7HsSc3U0epBNcMhvXbOqrVGpGk0nOboquKdz\n",
       "zdWoQsEZ8qQmJhjThRRqCsI6sDtuBO4S/pzWUjicD8oVHo1kJet+GuDV83Cco9SiDf4Ld701cf9Z\n",
       "3Z8raf2HvV1DEmlb/EGMiaSyVYDcZXUAAABqAZ68dEf/AGwmGaHSeWw0AeouY4OL1MCROa//KkeN\n",
       "O7SP8W6+7zkXdAABOL14L6V+/NqOmQ3Ez6vs2P2fgbpzx4wuqRJEbULl368hrYK0U8uofAP83vkz\n",
       "m3wMoAfoRW9vew4STcjOLRuNuAAAAG0Bnr5qR/8AbDpOnp5ztHYe/Q/NcddkqRx6Uwv/SjMAEMaf\n",
       "YjsWNp3gAE1FWHgZAeGQcSYDVWKu+qge9tI5uIDGgHkXRTE35KStO9U8bswMNc7g5Y/lUDA8skuQ\n",
       "2F9TUejWnn1m82gbWl8v0PLIAAAAkEGao0moQWyZTAj//IQAMPL0+BYStbhyHdprnZ2qjQbiW7KZ\n",
       "sf5tBtngbNy5evVLFcMFuzCDArQI5Z1H+5If4QwAmroXfRptM9nxwaKSdOi6c/reCeBOYweR57RL\n",
       "o2jmsvEDrXQ39qYNkczdj3ygCYbUPZr7TMiqzimdzC5wnvrEdCvILrP89+FsxksJQRsE9QAAAH9B\n",
       "nsFFFSwj/wBDV2vx4JwiXdz74PTuXnksczrVEn18u/O9+COO01P0sBhExaGLEFm3c6fQdps5sGPQ\n",
       "EnFluJIYn/4gBZyCKCv1wy6p/t4bZE8eoS8oaRuW5L+sK03E3SeErI9qr4uemokFoB7yOgxuI7gE\n",
       "lQypq1Le4yp0asC6AAAAeQGe4HRH/wBr6XPEgEEdPRnNwW8YsWzCMLnd3/mEthDfcm4NS64HqiC0\n",
       "3qKMJa0eM2SbxjeVC8ietWKybAOFBPmx+Nlrneikvo3H+Fw2Hc4aHMy+vG3OUjUegAy/8xUSEuVq\n",
       "Sd7qtuylxBHHSLosL33pBX/Gz+tNK1EAAABiAZ7iakf/AGwfo1k9Pn34GkKT134Dscwb+dG7viH1\n",
       "aS8CqmYw994JdgswmlFvNqRzxDOa+dLq/oZ7nnwjra0CcvZpcufqFI2oNx1GhLqMk+aVjNGq77Rg\n",
       "64flfA8F7hVYpHQAAAeWbW9vdgAAAGxtdmhkAAAAAAAAAAAAAAAAAAAD6AAAB9AAAQAAAQAAAAAA\n",
       "AAAAAAAAAAEAAAAAAAAAAAAAAAAAAAABAAAAAAAAAAAAAAAAAABAAAAAAAAAAAAAAAAAAAAAAAAA\n",
       "AAAAAAAAAAAAAAAAAgAABsB0cmFrAAAAXHRraGQAAAADAAAAAAAAAAAAAAABAAAAAAAAB9AAAAAA\n",
       "AAAAAAAAAAAAAAAAAAEAAAAAAAAAAAAAAAAAAAABAAAAAAAAAAAAAAAAAABAAAAAAbAAAAEgAAAA\n",
       "AAAkZWR0cwAAABxlbHN0AAAAAAAAAAEAAAfQAAACAAABAAAAAAY4bWRpYQAAACBtZGhkAAAAAAAA\n",
       "AAAAAAAAAAAyAAAAZABVxAAAAAAALWhkbHIAAAAAAAAAAHZpZGUAAAAAAAAAAAAAAABWaWRlb0hh\n",
       "bmRsZXIAAAAF421pbmYAAAAUdm1oZAAAAAEAAAAAAAAAAAAAACRkaW5mAAAAHGRyZWYAAAAAAAAA\n",
       "AQAAAAx1cmwgAAAAAQAABaNzdGJsAAAAs3N0c2QAAAAAAAAAAQAAAKNhdmMxAAAAAAAAAAEAAAAA\n",
       "AAAAAAAAAAAAAAAAAbABIABIAAAASAAAAAAAAAABAAAAAAAAAAAAAAAAAAAAAAAAAAAAAAAAAAAA\n",
       "AAAAAAAAGP//AAAAMWF2Y0MBZAAe/+EAGGdkAB6s2UGwloQAAAMABAAAAwGQPFi2WAEABmjr48si\n",
       "wAAAABx1dWlka2hA8l8kT8W6OaUbzwMj8wAAAAAAAAAYc3R0cwAAAAAAAAABAAAAZAAAAQAAAAAU\n",
       "c3RzcwAAAAAAAAABAAAAAQAAAuhjdHRzAAAAAAAAAFsAAAABAAACAAAAAAEAAAQAAAAAAgAAAQAA\n",
       "AAABAAAFAAAAAAEAAAIAAAAAAQAAAAAAAAABAAABAAAAAAEAAAQAAAAAAgAAAQAAAAABAAAEAAAA\n",
       "AAIAAAEAAAAAAQAABQAAAAABAAACAAAAAAEAAAAAAAAAAQAAAQAAAAABAAAEAAAAAAIAAAEAAAAA\n",
       "AQAABQAAAAABAAACAAAAAAEAAAAAAAAAAQAAAQAAAAABAAAFAAAAAAEAAAIAAAAAAQAAAAAAAAAB\n",
       "AAABAAAAAAEAAAUAAAAAAQAAAgAAAAABAAAAAAAAAAEAAAEAAAAAAQAABAAAAAACAAABAAAAAAEA\n",
       "AAUAAAAAAQAAAgAAAAABAAAAAAAAAAEAAAEAAAAAAQAABAAAAAACAAABAAAAAAEAAAUAAAAAAQAA\n",
       "AgAAAAABAAAAAAAAAAEAAAEAAAAAAQAABQAAAAABAAACAAAAAAEAAAAAAAAAAQAAAQAAAAABAAAF\n",
       "AAAAAAEAAAIAAAAAAQAAAAAAAAABAAABAAAAAAEAAAUAAAAAAQAAAgAAAAABAAAAAAAAAAEAAAEA\n",
       "AAAAAQAABQAAAAABAAACAAAAAAEAAAAAAAAAAQAAAQAAAAABAAAFAAAAAAEAAAIAAAAAAQAAAAAA\n",
       "AAABAAABAAAAAAEAAAQAAAAAAgAAAQAAAAABAAAFAAAAAAEAAAIAAAAAAQAAAAAAAAABAAABAAAA\n",
       "AAEAAAUAAAAAAQAAAgAAAAABAAAAAAAAAAEAAAEAAAAAAQAABAAAAAACAAABAAAAAAEAAAUAAAAA\n",
       "AQAAAgAAAAABAAAAAAAAAAEAAAEAAAAAAQAABQAAAAABAAACAAAAAAEAAAAAAAAAAQAAAQAAAAAB\n",
       "AAAEAAAAAAIAAAEAAAAAAQAABQAAAAABAAACAAAAAAEAAAAAAAAAAQAAAQAAAAABAAAFAAAAAAEA\n",
       "AAIAAAAAAQAAAAAAAAABAAABAAAAABxzdHNjAAAAAAAAAAEAAAABAAAAZAAAAAEAAAGkc3RzegAA\n",
       "AAAAAAAAAAAAZAAAFbEAAAGLAAAApAAAAJcAAAF4AAAAswAAAG0AAACBAAABQAAAAJoAAACTAAAB\n",
       "HgAAAKEAAACDAAABUgAAAKAAAABnAAAAawAAATwAAAB/AAAAjQAAAXQAAAC+AAAAdQAAAGwAAAF/\n",
       "AAAAggAAAFcAAAB1AAABmgAAAIoAAABWAAAAbAAAAWkAAACRAAAAgAAAAbMAAACkAAAAYwAAAGcA\n",
       "AAE0AAAAgwAAAIMAAAGKAAAAsQAAAGkAAAB+AAABZgAAAJ4AAABtAAAAcgAAAbAAAACYAAAAaQAA\n",
       "AIMAAAGGAAAAgwAAAHwAAAB6AAABXAAAAJ0AAACEAAAAeAAAAXkAAACnAAAAZgAAAHIAAAFuAAAA\n",
       "hQAAAIUAAAGOAAAApQAAAHIAAABgAAABSQAAAHEAAABoAAAAaAAAAWUAAABqAAAAeAAAAWIAAACh\n",
       "AAAAhAAAAHsAAAEqAAAAcAAAAHUAAABqAAAA+AAAAI8AAACBAAAA6wAAAKcAAABuAAAAcQAAAJQA\n",
       "AACDAAAAfQAAAGYAAAAUc3RjbwAAAAAAAAABAAAALAAAAGJ1ZHRhAAAAWm1ldGEAAAAAAAAAIWhk\n",
       "bHIAAAAAAAAAAG1kaXJhcHBsAAAAAAAAAAAAAAAALWlsc3QAAAAlqXRvbwAAAB1kYXRhAAAAAQAA\n",
       "AABMYXZmNTcuNTYuMTAx\n",
       "\">\n",
       "  Your browser does not support the video tag.\n",
       "</video>"
      ],
      "text/plain": [
       "<matplotlib.animation.FuncAnimation at 0x7fbb75aee208>"
      ]
     },
     "execution_count": 33,
     "metadata": {},
     "output_type": "execute_result"
    }
   ],
   "source": [
    "# 5. Animates the data; 100 frames, 20ms delay between frames, blit=True : only re-draw the parts that have changed.\n",
    "anim = animation.FuncAnimation(fig, animate, frames=100, interval=20, blit=True)\n",
    "\n",
    "# Set the animation display format to html which the non-Python parts of this notebook are written in.\n",
    "rc('animation', html='html5')\n",
    "\n",
    "# 6. Play the animation \n",
    "anim\n",
    "\n",
    "# 7. Save the animation as a .mp4 file\n",
    "# 15 frames per second\n",
    "# 1800 bits of data processed/stored per second\n",
    "writer = animation.writers['ffmpeg'](fps=15, bitrate=1800)\n",
    "anim.save('img/sin_movie.mp4', writer=writer)"
   ]
  },
  {
   "cell_type": "markdown",
   "metadata": {
    "slideshow": {
     "slide_type": "subslide"
    }
   },
   "source": [
    "### Simulating Physical Systems: Spring-Mass System\n",
    "If you are studying an engineering-related subject, you will most likely study simple harmonic motion; a type of periodic motion or oscillation motion.\n",
    "\n",
    "For this oscillation to happen, the restoring force is:\n",
    "- directly proportional to the displacement\n",
    "- in the direction opposite to the displacement.\n",
    "\n",
    "\n",
    "\n"
   ]
  },
  {
   "cell_type": "markdown",
   "metadata": {
    "slideshow": {
     "slide_type": "subslide"
    }
   },
   "source": [
    "A typical example of this is a mass attached to a spring.\n",
    "\n",
    "<img src=\"img/spring_mass_system.gif\" alt=\"Drawing\" style=\"width: 500px;\"/>\n",
    "\n"
   ]
  },
  {
   "cell_type": "markdown",
   "metadata": {
    "slideshow": {
     "slide_type": "subslide"
    }
   },
   "source": [
    "If we assume that:\n",
    " - the spring is ideal (it has no weight, mass, or damping losses)\n",
    " - there is no friction \n",
    " \n",
    "we can use a simple equation to give the position of the mass, $x$, as a function of time, $t$:\n",
    "\n",
    "$x(t) = A cos(\\omega t - \\phi)$ \n",
    "\n",
    "where:\n",
    "<br>$A$: Maximum amplitude (displacment from initial position), defined by the initial conditions of the system.\n",
    "<br>$\\phi$ : Phase (the initial angle of a sinusoidal function at its origin)\n",
    "<br>$\\omega$ : Angular frequency (frequency of oscillation expressed in radians)\n",
    "\n"
   ]
  },
  {
   "cell_type": "markdown",
   "metadata": {
    "slideshow": {
     "slide_type": "subslide"
    }
   },
   "source": [
    "Angular frequency\n",
    "\n",
    "$\\omega=2\\pi f = \\sqrt{\\frac{k}{m}}$\n",
    "\n",
    "where\n",
    "<br>$k$ : spring constant\n",
    "<br>$m$ : mass (kg)\n",
    "<br>$f$ : frequency (Hz)"
   ]
  },
  {
   "cell_type": "code",
   "execution_count": 28,
   "metadata": {
    "slideshow": {
     "slide_type": "subslide"
    }
   },
   "outputs": [
    {
     "data": {
      "text/plain": [
       "<matplotlib.animation.FuncAnimation at 0x7fbb7617c208>"
      ]
     },
     "execution_count": 28,
     "metadata": {},
     "output_type": "execute_result"
    },
    {
     "data": {
      "image/png": "[encoded data removed]",
      "text/plain": [
       "<matplotlib.figure.Figure at 0x7fbb760ace80>"
      ]
     },
     "metadata": {},
     "output_type": "display_data"
    }
   ],
   "source": [
    "# 1. Create a figure window.\n",
    "fig = plt.figure()\n",
    "\n",
    "# 2. Create axes within the window\n",
    "ax = plt.axes(xlim=(-2, 2), ylim=(-3.5,3.5))\n",
    "\n",
    "# 3. Two objects to animate\n",
    "line,   = ax.plot([2,1], [4,3], marker=\"\" , ls=\"-\")  # a line\n",
    "point, = ax.plot([1], [1], marker='o', ms=40)        # a point\n",
    "\n",
    "# Spring data\n",
    "k = 100\n",
    "m = 20\n",
    "w = np.sqrt(k/m)\n",
    "phi = 2\n",
    "A = 2\n",
    "\n",
    "# Position of mass as function of time\n",
    "def fun(t):\n",
    "    return A*np.sin(w * t + phi)\n",
    "\n",
    "# 4. Animation function\n",
    "def animate(i):    \n",
    "    x = fun(i/10)\n",
    "    line.set_data([0,0], [4, -x])\n",
    "    point.set_data(0, -x)  \n",
    "    return line, point\n",
    "  \n",
    "# 5. Create animation; 500 frames, 50ms delay between frames, blit=True : only re-draw the parts that have changed.\n",
    "anim = animation.FuncAnimation(fig, animate, frames=500, interval=50, blit=True)\n",
    "\n",
    "# 6. Play animation\n",
    "anim\n",
    "\n",
    "# 7. Save animation\n",
    "# writer = animation.writers['ffmpeg'](fps=15, bitrate=1800)\n",
    "# anim.save('img/spring_movie.mp4', writer=writer)\n"
   ]
  },
  {
   "cell_type": "markdown",
   "metadata": {
    "collapsed": true,
    "slideshow": {
     "slide_type": "slide"
    }
   },
   "source": [
    "## Visualising 2D Arrays\n",
    "\n",
    "Two-dimensonal arrays can be visualized with the `plt.matshow` function.\n",
    "\n",
    "Each square cell represents one element of the array.\n",
    "\n",
    "A colour scale (`plot.colorbar`) is used to indicate the value of each cell.\n",
    "\n"
   ]
  },
  {
   "cell_type": "markdown",
   "metadata": {
    "slideshow": {
     "slide_type": "subslide"
    }
   },
   "source": [
    "Note that the first row of the matrix (with index 0), is plotted at the top, which corresponds to the location of the first row in the matrix."
   ]
  },
  {
   "cell_type": "code",
   "execution_count": 34,
   "metadata": {},
   "outputs": [
    {
     "data": {
      "text/plain": [
       "<matplotlib.colorbar.Colorbar at 0x7fbb762e80f0>"
      ]
     },
     "execution_count": 34,
     "metadata": {},
     "output_type": "execute_result"
    },
    {
     "data": {
      "image/png": "[encoded data removed]",
      "text/plain": [
       "<matplotlib.figure.Figure at 0x7fbb75b16a20>"
      ]
     },
     "metadata": {},
     "output_type": "display_data"
    }
   ],
   "source": [
    "x = np.array([[8, 7, 6, 8],\n",
    "              [8, 7, 6, 3],\n",
    "              [6, 6, 5, 2],\n",
    "              [4, 3, 2, 1]])\n",
    "plt.matshow(x, cmap=\"plasma\")\n",
    "\n",
    "plt.colorbar(cmap=\"plasma\")"
   ]
  },
  {
   "cell_type": "markdown",
   "metadata": {
    "slideshow": {
     "slide_type": "subslide"
    }
   },
   "source": [
    "The default colour map is used (it is called `viridis`).\n",
    "\n",
    "The highest value in the array is mapped to yellow.\n",
    "<br>The lowest value is mapped to purple. \n",
    "<br>The number is between vary between blue and green. \n",
    "\n"
   ]
  },
  {
   "cell_type": "markdown",
   "metadata": {
    "slideshow": {
     "slide_type": "subslide"
    }
   },
   "source": [
    "There are many other colour maps available.\n",
    "\n",
    "Doumentation of availble colour maps can be found here: http://matplotlib.org/users/colormaps.html. \n",
    "\n"
   ]
  },
  {
   "cell_type": "markdown",
   "metadata": {
    "slideshow": {
     "slide_type": "subslide"
    }
   },
   "source": [
    "To change the color map, the `matplotlib.cm` package is used, which we imported and renamed at the strt of the notebook. \n",
    ">`import matplotlib.cm as cm`\n",
    "\n",
    "Specify the name of any of the available color maps with the `cmap` keyword. "
   ]
  },
  {
   "cell_type": "code",
   "execution_count": 35,
   "metadata": {
    "slideshow": {
     "slide_type": "subslide"
    }
   },
   "outputs": [
    {
     "data": {
      "image/png": "[encoded data removed]",
      "text/plain": [
       "<matplotlib.figure.Figure at 0x7fbb76087f98>"
      ]
     },
     "metadata": {},
     "output_type": "display_data"
    }
   ],
   "source": [
    "plt.matshow(x, cmap=cm.Wistia)\n",
    "plt.colorbar();"
   ]
  },
  {
   "cell_type": "markdown",
   "metadata": {
    "slideshow": {
     "slide_type": "subslide"
    }
   },
   "source": [
    "The keywords `vmin` and `vmax` can be used to explicitly set the maximum and minimum value for the colour scale. "
   ]
  },
  {
   "cell_type": "code",
   "execution_count": null,
   "metadata": {
    "collapsed": true
   },
   "outputs": [],
   "source": [
    "plt.matshow(x, cmap=cm.bone, vmin=0, vmax=20)\n",
    "plt.colorbar();"
   ]
  },
  {
   "cell_type": "markdown",
   "metadata": {
    "slideshow": {
     "slide_type": "subslide"
    }
   },
   "source": [
    "The standard colormaps also all have reversed versions. They have the same names with `_r` tacked on to the end."
   ]
  },
  {
   "cell_type": "code",
   "execution_count": 36,
   "metadata": {},
   "outputs": [
    {
     "data": {
      "image/png": "[encoded data removed]",
      "text/plain": [
       "<matplotlib.figure.Figure at 0x7fbb75aace80>"
      ]
     },
     "metadata": {},
     "output_type": "display_data"
    }
   ],
   "source": [
    "plt.matshow(x, cmap=cm.bone_r, vmin=0, vmax=20)\n",
    "plt.colorbar();"
   ]
  },
  {
   "cell_type": "markdown",
   "metadata": {
    "slideshow": {
     "slide_type": "subslide"
    }
   },
   "source": [
    "__Try it yourself__\n",
    "<br>Find a colour map you like using the link provided. Change the colours of the examples above to colours that you prefer."
   ]
  },
  {
   "cell_type": "markdown",
   "metadata": {
    "slideshow": {
     "slide_type": "slide"
    }
   },
   "source": [
    "## 3D Plotting\n",
    "An advantage of plotting compuationally is that we can easily produce more complex figures such as 3D plots.  \n",
    "\n",
    "This can be useful, for example, when visualiing the form of a function with two independent variables.\n",
    "\n"
   ]
  },
  {
   "cell_type": "markdown",
   "metadata": {
    "collapsed": true,
    "slideshow": {
     "slide_type": "subslide"
    }
   },
   "source": [
    "Many different styles of 3D plot are available.\n",
    "\n",
    "A number of examples can be found here: https://matplotlib.org/examples/mplot3d/index.html "
   ]
  },
  {
   "cell_type": "markdown",
   "metadata": {
    "slideshow": {
     "slide_type": "subslide"
    }
   },
   "source": [
    "Today, we will go through just one example. \n",
    "\n",
    "You can then explore further, using today's seminar as a basis."
   ]
  },
  {
   "cell_type": "markdown",
   "metadata": {
    "slideshow": {
     "slide_type": "subslide"
    }
   },
   "source": [
    "We will plot the function: \n",
    "$$\n",
    "f(x, y) = \\sin(x) \\cos\\left(\\frac{xy^2}{10}\\right)\n",
    "$$\n",
    "as a 3D surface."
   ]
  },
  {
   "cell_type": "markdown",
   "metadata": {
    "slideshow": {
     "slide_type": "subslide"
    }
   },
   "source": [
    "Plotting in 3D requires another package which was imported at the start of this notebook. \n",
    ">`from mpl_toolkits.mplot3d import axes3d`"
   ]
  },
  {
   "cell_type": "markdown",
   "metadata": {
    "slideshow": {
     "slide_type": "subslide"
    }
   },
   "source": [
    "First we create points in the $x$ and $y$ directions at which we want to evaluate the function: "
   ]
  },
  {
   "cell_type": "code",
   "execution_count": 28,
   "metadata": {},
   "outputs": [],
   "source": [
    "N = 25  # 50 points in each direction\n",
    "x = np.linspace(-np.pi, np.pi, N)\n",
    "y = np.linspace(-np.pi, np.pi, N)"
   ]
  },
  {
   "cell_type": "markdown",
   "metadata": {
    "slideshow": {
     "slide_type": "subslide"
    }
   },
   "source": [
    "Next, we use NumPy to create a 'grid' of $(x, y$) points: "
   ]
  },
  {
   "cell_type": "code",
   "execution_count": 29,
   "metadata": {},
   "outputs": [],
   "source": [
    "X, Y = np.meshgrid(x, y)"
   ]
  },
  {
   "cell_type": "markdown",
   "metadata": {
    "slideshow": {
     "slide_type": "subslide"
    }
   },
   "source": [
    "When printing you may want to round the value of each element.\n",
    "\n",
    "You can do this using the `np.around` function. \n",
    "\n",
    "Example:\n",
    "<br>`print(np.around(X,2), np.around(Y,2))`\n",
    "<br>rounds each value to 2 decimal places."
   ]
  },
  {
   "cell_type": "markdown",
   "metadata": {
    "slideshow": {
     "slide_type": "subslide"
    }
   },
   "source": [
    "__Try it yourself__\n",
    "<br>The easiest way to visualise how `meshgrid` work is to:\n",
    "- try making `N` smaller (fewer points along each axis) in the cell above.\n",
    "\n",
    "<br>\n",
    "In the cell below:\n",
    "- print `X` and `Y` using <br>`print(np.around(X,2))`<br>`print(np.around(Y,2))`<br><br>\n",
    "- print the shape of `X` and `Y` using<br>`print(X.shape)`<br>`print(Y.shape)`<br><br>\n",
    "- What happens if N is different for `X` than for `Y`?"
   ]
  },
  {
   "cell_type": "code",
   "execution_count": 30,
   "metadata": {},
   "outputs": [
    {
     "name": "stdout",
     "output_type": "stream",
     "text": [
      "[[-3.14 -2.88 -2.62 -2.36 -2.09 -1.83 -1.57 -1.31 -1.05 -0.79 -0.52 -0.26\n",
      "   0.    0.26  0.52  0.79  1.05  1.31  1.57  1.83  2.09  2.36  2.62  2.88\n",
      "   3.14]\n",
      " [-3.14 -2.88 -2.62 -2.36 -2.09 -1.83 -1.57 -1.31 -1.05 -0.79 -0.52 -0.26\n",
      "   0.    0.26  0.52  0.79  1.05  1.31  1.57  1.83  2.09  2.36  2.62  2.88\n",
      "   3.14]\n",
      " [-3.14 -2.88 -2.62 -2.36 -2.09 -1.83 -1.57 -1.31 -1.05 -0.79 -0.52 -0.26\n",
      "   0.    0.26  0.52  0.79  1.05  1.31  1.57  1.83  2.09  2.36  2.62  2.88\n",
      "   3.14]\n",
      " [-3.14 -2.88 -2.62 -2.36 -2.09 -1.83 -1.57 -1.31 -1.05 -0.79 -0.52 -0.26\n",
      "   0.    0.26  0.52  0.79  1.05  1.31  1.57  1.83  2.09  2.36  2.62  2.88\n",
      "   3.14]\n",
      " [-3.14 -2.88 -2.62 -2.36 -2.09 -1.83 -1.57 -1.31 -1.05 -0.79 -0.52 -0.26\n",
      "   0.    0.26  0.52  0.79  1.05  1.31  1.57  1.83  2.09  2.36  2.62  2.88\n",
      "   3.14]\n",
      " [-3.14 -2.88 -2.62 -2.36 -2.09 -1.83 -1.57 -1.31 -1.05 -0.79 -0.52 -0.26\n",
      "   0.    0.26  0.52  0.79  1.05  1.31  1.57  1.83  2.09  2.36  2.62  2.88\n",
      "   3.14]\n",
      " [-3.14 -2.88 -2.62 -2.36 -2.09 -1.83 -1.57 -1.31 -1.05 -0.79 -0.52 -0.26\n",
      "   0.    0.26  0.52  0.79  1.05  1.31  1.57  1.83  2.09  2.36  2.62  2.88\n",
      "   3.14]\n",
      " [-3.14 -2.88 -2.62 -2.36 -2.09 -1.83 -1.57 -1.31 -1.05 -0.79 -0.52 -0.26\n",
      "   0.    0.26  0.52  0.79  1.05  1.31  1.57  1.83  2.09  2.36  2.62  2.88\n",
      "   3.14]\n",
      " [-3.14 -2.88 -2.62 -2.36 -2.09 -1.83 -1.57 -1.31 -1.05 -0.79 -0.52 -0.26\n",
      "   0.    0.26  0.52  0.79  1.05  1.31  1.57  1.83  2.09  2.36  2.62  2.88\n",
      "   3.14]\n",
      " [-3.14 -2.88 -2.62 -2.36 -2.09 -1.83 -1.57 -1.31 -1.05 -0.79 -0.52 -0.26\n",
      "   0.    0.26  0.52  0.79  1.05  1.31  1.57  1.83  2.09  2.36  2.62  2.88\n",
      "   3.14]\n",
      " [-3.14 -2.88 -2.62 -2.36 -2.09 -1.83 -1.57 -1.31 -1.05 -0.79 -0.52 -0.26\n",
      "   0.    0.26  0.52  0.79  1.05  1.31  1.57  1.83  2.09  2.36  2.62  2.88\n",
      "   3.14]\n",
      " [-3.14 -2.88 -2.62 -2.36 -2.09 -1.83 -1.57 -1.31 -1.05 -0.79 -0.52 -0.26\n",
      "   0.    0.26  0.52  0.79  1.05  1.31  1.57  1.83  2.09  2.36  2.62  2.88\n",
      "   3.14]\n",
      " [-3.14 -2.88 -2.62 -2.36 -2.09 -1.83 -1.57 -1.31 -1.05 -0.79 -0.52 -0.26\n",
      "   0.    0.26  0.52  0.79  1.05  1.31  1.57  1.83  2.09  2.36  2.62  2.88\n",
      "   3.14]\n",
      " [-3.14 -2.88 -2.62 -2.36 -2.09 -1.83 -1.57 -1.31 -1.05 -0.79 -0.52 -0.26\n",
      "   0.    0.26  0.52  0.79  1.05  1.31  1.57  1.83  2.09  2.36  2.62  2.88\n",
      "   3.14]\n",
      " [-3.14 -2.88 -2.62 -2.36 -2.09 -1.83 -1.57 -1.31 -1.05 -0.79 -0.52 -0.26\n",
      "   0.    0.26  0.52  0.79  1.05  1.31  1.57  1.83  2.09  2.36  2.62  2.88\n",
      "   3.14]\n",
      " [-3.14 -2.88 -2.62 -2.36 -2.09 -1.83 -1.57 -1.31 -1.05 -0.79 -0.52 -0.26\n",
      "   0.    0.26  0.52  0.79  1.05  1.31  1.57  1.83  2.09  2.36  2.62  2.88\n",
      "   3.14]\n",
      " [-3.14 -2.88 -2.62 -2.36 -2.09 -1.83 -1.57 -1.31 -1.05 -0.79 -0.52 -0.26\n",
      "   0.    0.26  0.52  0.79  1.05  1.31  1.57  1.83  2.09  2.36  2.62  2.88\n",
      "   3.14]\n",
      " [-3.14 -2.88 -2.62 -2.36 -2.09 -1.83 -1.57 -1.31 -1.05 -0.79 -0.52 -0.26\n",
      "   0.    0.26  0.52  0.79  1.05  1.31  1.57  1.83  2.09  2.36  2.62  2.88\n",
      "   3.14]\n",
      " [-3.14 -2.88 -2.62 -2.36 -2.09 -1.83 -1.57 -1.31 -1.05 -0.79 -0.52 -0.26\n",
      "   0.    0.26  0.52  0.79  1.05  1.31  1.57  1.83  2.09  2.36  2.62  2.88\n",
      "   3.14]\n",
      " [-3.14 -2.88 -2.62 -2.36 -2.09 -1.83 -1.57 -1.31 -1.05 -0.79 -0.52 -0.26\n",
      "   0.    0.26  0.52  0.79  1.05  1.31  1.57  1.83  2.09  2.36  2.62  2.88\n",
      "   3.14]\n",
      " [-3.14 -2.88 -2.62 -2.36 -2.09 -1.83 -1.57 -1.31 -1.05 -0.79 -0.52 -0.26\n",
      "   0.    0.26  0.52  0.79  1.05  1.31  1.57  1.83  2.09  2.36  2.62  2.88\n",
      "   3.14]\n",
      " [-3.14 -2.88 -2.62 -2.36 -2.09 -1.83 -1.57 -1.31 -1.05 -0.79 -0.52 -0.26\n",
      "   0.    0.26  0.52  0.79  1.05  1.31  1.57  1.83  2.09  2.36  2.62  2.88\n",
      "   3.14]\n",
      " [-3.14 -2.88 -2.62 -2.36 -2.09 -1.83 -1.57 -1.31 -1.05 -0.79 -0.52 -0.26\n",
      "   0.    0.26  0.52  0.79  1.05  1.31  1.57  1.83  2.09  2.36  2.62  2.88\n",
      "   3.14]\n",
      " [-3.14 -2.88 -2.62 -2.36 -2.09 -1.83 -1.57 -1.31 -1.05 -0.79 -0.52 -0.26\n",
      "   0.    0.26  0.52  0.79  1.05  1.31  1.57  1.83  2.09  2.36  2.62  2.88\n",
      "   3.14]\n",
      " [-3.14 -2.88 -2.62 -2.36 -2.09 -1.83 -1.57 -1.31 -1.05 -0.79 -0.52 -0.26\n",
      "   0.    0.26  0.52  0.79  1.05  1.31  1.57  1.83  2.09  2.36  2.62  2.88\n",
      "   3.14]] [[-3.14 -3.14 -3.14 -3.14 -3.14 -3.14 -3.14 -3.14 -3.14 -3.14 -3.14 -3.14\n",
      "  -3.14 -3.14 -3.14 -3.14 -3.14 -3.14 -3.14 -3.14 -3.14 -3.14 -3.14 -3.14\n",
      "  -3.14]\n",
      " [-2.88 -2.88 -2.88 -2.88 -2.88 -2.88 -2.88 -2.88 -2.88 -2.88 -2.88 -2.88\n",
      "  -2.88 -2.88 -2.88 -2.88 -2.88 -2.88 -2.88 -2.88 -2.88 -2.88 -2.88 -2.88\n",
      "  -2.88]\n",
      " [-2.62 -2.62 -2.62 -2.62 -2.62 -2.62 -2.62 -2.62 -2.62 -2.62 -2.62 -2.62\n",
      "  -2.62 -2.62 -2.62 -2.62 -2.62 -2.62 -2.62 -2.62 -2.62 -2.62 -2.62 -2.62\n",
      "  -2.62]\n",
      " [-2.36 -2.36 -2.36 -2.36 -2.36 -2.36 -2.36 -2.36 -2.36 -2.36 -2.36 -2.36\n",
      "  -2.36 -2.36 -2.36 -2.36 -2.36 -2.36 -2.36 -2.36 -2.36 -2.36 -2.36 -2.36\n",
      "  -2.36]\n",
      " [-2.09 -2.09 -2.09 -2.09 -2.09 -2.09 -2.09 -2.09 -2.09 -2.09 -2.09 -2.09\n",
      "  -2.09 -2.09 -2.09 -2.09 -2.09 -2.09 -2.09 -2.09 -2.09 -2.09 -2.09 -2.09\n",
      "  -2.09]\n",
      " [-1.83 -1.83 -1.83 -1.83 -1.83 -1.83 -1.83 -1.83 -1.83 -1.83 -1.83 -1.83\n",
      "  -1.83 -1.83 -1.83 -1.83 -1.83 -1.83 -1.83 -1.83 -1.83 -1.83 -1.83 -1.83\n",
      "  -1.83]\n",
      " [-1.57 -1.57 -1.57 -1.57 -1.57 -1.57 -1.57 -1.57 -1.57 -1.57 -1.57 -1.57\n",
      "  -1.57 -1.57 -1.57 -1.57 -1.57 -1.57 -1.57 -1.57 -1.57 -1.57 -1.57 -1.57\n",
      "  -1.57]\n",
      " [-1.31 -1.31 -1.31 -1.31 -1.31 -1.31 -1.31 -1.31 -1.31 -1.31 -1.31 -1.31\n",
      "  -1.31 -1.31 -1.31 -1.31 -1.31 -1.31 -1.31 -1.31 -1.31 -1.31 -1.31 -1.31\n",
      "  -1.31]\n",
      " [-1.05 -1.05 -1.05 -1.05 -1.05 -1.05 -1.05 -1.05 -1.05 -1.05 -1.05 -1.05\n",
      "  -1.05 -1.05 -1.05 -1.05 -1.05 -1.05 -1.05 -1.05 -1.05 -1.05 -1.05 -1.05\n",
      "  -1.05]\n",
      " [-0.79 -0.79 -0.79 -0.79 -0.79 -0.79 -0.79 -0.79 -0.79 -0.79 -0.79 -0.79\n",
      "  -0.79 -0.79 -0.79 -0.79 -0.79 -0.79 -0.79 -0.79 -0.79 -0.79 -0.79 -0.79\n",
      "  -0.79]\n",
      " [-0.52 -0.52 -0.52 -0.52 -0.52 -0.52 -0.52 -0.52 -0.52 -0.52 -0.52 -0.52\n",
      "  -0.52 -0.52 -0.52 -0.52 -0.52 -0.52 -0.52 -0.52 -0.52 -0.52 -0.52 -0.52\n",
      "  -0.52]\n",
      " [-0.26 -0.26 -0.26 -0.26 -0.26 -0.26 -0.26 -0.26 -0.26 -0.26 -0.26 -0.26\n",
      "  -0.26 -0.26 -0.26 -0.26 -0.26 -0.26 -0.26 -0.26 -0.26 -0.26 -0.26 -0.26\n",
      "  -0.26]\n",
      " [ 0.    0.    0.    0.    0.    0.    0.    0.    0.    0.    0.    0.    0.\n",
      "   0.    0.    0.    0.    0.    0.    0.    0.    0.    0.    0.    0.  ]\n",
      " [ 0.26  0.26  0.26  0.26  0.26  0.26  0.26  0.26  0.26  0.26  0.26  0.26\n",
      "   0.26  0.26  0.26  0.26  0.26  0.26  0.26  0.26  0.26  0.26  0.26  0.26\n",
      "   0.26]\n",
      " [ 0.52  0.52  0.52  0.52  0.52  0.52  0.52  0.52  0.52  0.52  0.52  0.52\n",
      "   0.52  0.52  0.52  0.52  0.52  0.52  0.52  0.52  0.52  0.52  0.52  0.52\n",
      "   0.52]\n",
      " [ 0.79  0.79  0.79  0.79  0.79  0.79  0.79  0.79  0.79  0.79  0.79  0.79\n",
      "   0.79  0.79  0.79  0.79  0.79  0.79  0.79  0.79  0.79  0.79  0.79  0.79\n",
      "   0.79]\n",
      " [ 1.05  1.05  1.05  1.05  1.05  1.05  1.05  1.05  1.05  1.05  1.05  1.05\n",
      "   1.05  1.05  1.05  1.05  1.05  1.05  1.05  1.05  1.05  1.05  1.05  1.05\n",
      "   1.05]\n",
      " [ 1.31  1.31  1.31  1.31  1.31  1.31  1.31  1.31  1.31  1.31  1.31  1.31\n",
      "   1.31  1.31  1.31  1.31  1.31  1.31  1.31  1.31  1.31  1.31  1.31  1.31\n",
      "   1.31]\n",
      " [ 1.57  1.57  1.57  1.57  1.57  1.57  1.57  1.57  1.57  1.57  1.57  1.57\n",
      "   1.57  1.57  1.57  1.57  1.57  1.57  1.57  1.57  1.57  1.57  1.57  1.57\n",
      "   1.57]\n",
      " [ 1.83  1.83  1.83  1.83  1.83  1.83  1.83  1.83  1.83  1.83  1.83  1.83\n",
      "   1.83  1.83  1.83  1.83  1.83  1.83  1.83  1.83  1.83  1.83  1.83  1.83\n",
      "   1.83]\n",
      " [ 2.09  2.09  2.09  2.09  2.09  2.09  2.09  2.09  2.09  2.09  2.09  2.09\n",
      "   2.09  2.09  2.09  2.09  2.09  2.09  2.09  2.09  2.09  2.09  2.09  2.09\n",
      "   2.09]\n",
      " [ 2.36  2.36  2.36  2.36  2.36  2.36  2.36  2.36  2.36  2.36  2.36  2.36\n",
      "   2.36  2.36  2.36  2.36  2.36  2.36  2.36  2.36  2.36  2.36  2.36  2.36\n",
      "   2.36]\n",
      " [ 2.62  2.62  2.62  2.62  2.62  2.62  2.62  2.62  2.62  2.62  2.62  2.62\n",
      "   2.62  2.62  2.62  2.62  2.62  2.62  2.62  2.62  2.62  2.62  2.62  2.62\n",
      "   2.62]\n",
      " [ 2.88  2.88  2.88  2.88  2.88  2.88  2.88  2.88  2.88  2.88  2.88  2.88\n",
      "   2.88  2.88  2.88  2.88  2.88  2.88  2.88  2.88  2.88  2.88  2.88  2.88\n",
      "   2.88]\n",
      " [ 3.14  3.14  3.14  3.14  3.14  3.14  3.14  3.14  3.14  3.14  3.14  3.14\n",
      "   3.14  3.14  3.14  3.14  3.14  3.14  3.14  3.14  3.14  3.14  3.14  3.14\n",
      "   3.14]]\n",
      "(25, 25) (25, 25)\n"
     ]
    }
   ],
   "source": [
    "# How does meshgrid work?\n",
    "print(np.around(X,2), np.around(Y,2))\n",
    "print(X.shape, Y.shape)"
   ]
  },
  {
   "cell_type": "markdown",
   "metadata": {
    "slideshow": {
     "slide_type": "subslide"
    }
   },
   "source": [
    "Hopefully, you can see that by overlaying `X` and `Y` we can dscribe the x,y coordinates of every point on the 3D surface."
   ]
  },
  {
   "cell_type": "markdown",
   "metadata": {
    "slideshow": {
     "slide_type": "subslide"
    }
   },
   "source": [
    "Change the value of `N` to it's original value `N = 50`."
   ]
  },
  {
   "cell_type": "markdown",
   "metadata": {
    "slideshow": {
     "slide_type": "subslide"
    }
   },
   "source": [
    "We now evaluate the function $f$ at each point:"
   ]
  },
  {
   "cell_type": "code",
   "execution_count": 31,
   "metadata": {},
   "outputs": [],
   "source": [
    "f = np.sin(X)*np.cos((X*Y**2)/10)"
   ]
  },
  {
   "cell_type": "markdown",
   "metadata": {
    "slideshow": {
     "slide_type": "subslide"
    }
   },
   "source": [
    "The 3D figure is plotted using:"
   ]
  },
  {
   "cell_type": "code",
   "execution_count": 37,
   "metadata": {},
   "outputs": [
    {
     "ename": "NameError",
     "evalue": "name 'X' is not defined",
     "output_type": "error",
     "traceback": [
      "\u001b[0;31m---------------------------------------------------------------------------\u001b[0m",
      "\u001b[0;31mNameError\u001b[0m                                 Traceback (most recent call last)",
      "\u001b[0;32m<ipython-input-37-30b007cb1f49>\u001b[0m in \u001b[0;36m<module>\u001b[0;34m()\u001b[0m\n\u001b[1;32m      6\u001b[0m \u001b[0;34m\u001b[0m\u001b[0m\n\u001b[1;32m      7\u001b[0m \u001b[0;31m# Plot the function as a surface\u001b[0m\u001b[0;34m\u001b[0m\u001b[0;34m\u001b[0m\u001b[0m\n\u001b[0;32m----> 8\u001b[0;31m \u001b[0msurf\u001b[0m \u001b[0;34m=\u001b[0m \u001b[0max\u001b[0m\u001b[0;34m.\u001b[0m\u001b[0mplot_surface\u001b[0m\u001b[0;34m(\u001b[0m\u001b[0mX\u001b[0m\u001b[0;34m,\u001b[0m \u001b[0mY\u001b[0m\u001b[0;34m,\u001b[0m \u001b[0mf\u001b[0m \u001b[0;34m,\u001b[0m\u001b[0mcmap\u001b[0m\u001b[0;34m=\u001b[0m\u001b[0mcm\u001b[0m\u001b[0;34m.\u001b[0m\u001b[0mReds\u001b[0m\u001b[0;34m)\u001b[0m\u001b[0;34m\u001b[0m\u001b[0m\n\u001b[0m\u001b[1;32m      9\u001b[0m \u001b[0;34m\u001b[0m\u001b[0m\n\u001b[1;32m     10\u001b[0m \u001b[0;31m# Label the axes\u001b[0m\u001b[0;34m\u001b[0m\u001b[0;34m\u001b[0m\u001b[0m\n",
      "\u001b[0;31mNameError\u001b[0m: name 'X' is not defined"
     ]
    },
    {
     "data": {
      "image/png": "[encoded data removed]",
      "text/plain": [
       "<matplotlib.figure.Figure at 0x7fbb759a57f0>"
      ]
     },
     "metadata": {},
     "output_type": "display_data"
    }
   ],
   "source": [
    "# Create a figure\n",
    "fig = plt.figure()\n",
    "\n",
    "# Specify 3D axes\n",
    "ax = plt.axes(projection='3d')\n",
    "\n",
    "# Plot the function as a surface\n",
    "surf = ax.plot_surface(X, Y, f ,cmap=cm.Reds)\n",
    "\n",
    "# Label the axes\n",
    "ax.set_xlabel('X', fontsize=20)\n",
    "ax.set_ylabel('Y', fontsize=20)\n",
    "ax.set_zlabel('Z', fontsize=20)"
   ]
  },
  {
   "cell_type": "markdown",
   "metadata": {
    "collapsed": true,
    "slideshow": {
     "slide_type": "slide"
    }
   },
   "source": [
    "## Review Exercises\n",
    "Below are some exercises for you to practise producing plots and figures.\n",
    "<br>Some of the examples require you to generate data using methods we have studied in previous seminars.\n",
    "\n"
   ]
  },
  {
   "cell_type": "markdown",
   "metadata": {
    "collapsed": true
   },
   "source": [
    "### Review Exercise: Simple Plot\n",
    "In the cell below, write a program to:\n",
    "- Plot $y=x^{3}-x^{2}-4x+4$ for $x = -3$ to $x= 3$.\n",
    "- Use a red, dashed line.\n",
    "- On the same figure, plot a black square at every point where $y$ equals zero. \n",
    "- Set the size of the markers to 10.\n",
    "- Label the axes as 'x-axis' and 'y-axis'. \n",
    "- Add a title of your choice.  \n",
    "\n",
    "*Hint: You may have to search online for the function argunents needed for some of these manipulations.* "
   ]
  },
  {
   "cell_type": "code",
   "execution_count": 44,
   "metadata": {},
   "outputs": [
    {
     "data": {
      "text/plain": [
       "Text(0,0.5,'y-axis')"
      ]
     },
     "execution_count": 44,
     "metadata": {},
     "output_type": "execute_result"
    },
    {
     "data": {
      "image/png": "[encoded data removed]",
      "text/plain": [
       "<matplotlib.figure.Figure at 0x20f6d079668>"
      ]
     },
     "metadata": {},
     "output_type": "display_data"
    }
   ],
   "source": [
    "# Simple Plot\n",
    "x = np.linspace(-3, 3, 100)\n",
    "y = ((x - 1) * x - 4) * x + 4\n",
    "plt.plot(x, y, \"r--\")\n",
    "# x^3 - x^2 - 4x + 4 = (x - 2)(x^2 + x - 2) = (x + 2)(x - 1)(x - 2)\n",
    "x = [-2, 1, 2]\n",
    "y = [0, 0, 0]\n",
    "plt.plot(x, y, \"s\", color=\"black\", ms=10)\n",
    "plt.xlabel(\"x-axis\")\n",
    "plt.ylabel(\"y-axis\")"
   ]
  },
  {
   "cell_type": "code",
   "execution_count": null,
   "metadata": {
    "collapsed": true
   },
   "outputs": [],
   "source": [
    "# Example Solution\n",
    "x = np.linspace(-5, 5, 100)\n",
    "y = x**3 - x**2 - 4*x + 4\n",
    "\n",
    "plt.plot(x, y, 'r--')\n",
    "\n",
    "r = np.roots([1, -1, -4, 4])\n",
    "z = np.zeros(len(r))\n",
    "             \n",
    "plt.plot(r, z, 'ks', markersize=10)\n",
    "plt.xlim(x[0], x[-1]);\n",
    "\n",
    "plt.xlabel('x-axis')\n",
    "plt.ylabel('y-axis')\n",
    "\n",
    "plt.title('First Graph');"
   ]
  },
  {
   "cell_type": "markdown",
   "metadata": {
    "collapsed": true
   },
   "source": [
    "### Review Exercise: Plotting with Conditionals\n",
    "Create an array, `x` with 100 values from 0 to 20, inclusive. \n",
    "\n",
    "Compute $y=\\sin(x)$.\n",
    "\n",
    "Plot $y$ vs. $x$ with a blue line. \n",
    "\n",
    "Replace all values of $y$ that are larger than 0.5 with 0.5.\n",
    "\n",
    "Replace all values of $y$ that are smaller than $-$0.75 with $-0.75$.\n",
    "\n",
    "Plot $x$ vs. $y$ using a red line on the same graph. "
   ]
  },
  {
   "cell_type": "code",
   "execution_count": 71,
   "metadata": {},
   "outputs": [
    {
     "data": {
      "text/plain": [
       "[<matplotlib.lines.Line2D at 0x20f6e612be0>]"
      ]
     },
     "execution_count": 71,
     "metadata": {},
     "output_type": "execute_result"
    },
    {
     "data": {
      "image/png": "[encoded data removed]",
      "text/plain": [
       "<matplotlib.figure.Figure at 0x20f6e6cba90>"
      ]
     },
     "metadata": {},
     "output_type": "display_data"
    }
   ],
   "source": [
    "# Plotting with conditionals\n",
    "x = np.linspace(0, 20, 100)\n",
    "y = np.sin(x)\n",
    "plt.plot(x, y, \"-b\")\n",
    "my_min = np.vectorize(min)\n",
    "y = my_min(y, 0.5)\n",
    "my_max = np.vectorize(max)\n",
    "y = my_max(y, -0.75)\n",
    "plt.plot(x, y, \"-r\")"
   ]
  },
  {
   "cell_type": "code",
   "execution_count": null,
   "metadata": {
    "collapsed": true
   },
   "outputs": [],
   "source": [
    "# Example Solution\n",
    "x = np.linspace(0, 20, 100)\n",
    "y = np.sin(x)\n",
    "plt.plot(x, y, 'b')\n",
    "y[y > 0.5] = 0.5\n",
    "y[y < -0.75] = -0.75\n",
    "plt.plot(x, y, 'r');\n",
    "plt.xlim(x[0], x[-1])"
   ]
  },
  {
   "cell_type": "markdown",
   "metadata": {},
   "source": [
    "### Review Exercise: Bar Chart\n",
    "\n",
    "Write a Python programming to display a bar chart of the popularity of programming Languages.\n",
    "\n",
    "Set the bar colour green.\n",
    "\n",
    "Sample data: \n",
    "<br>Programming languages: Java, Python, PHP, JavaScript, C#, C++\n",
    "<br>Popularity: 22.2, 17.6, 8.8, 8, 7.7, 6.7\n",
    "\n",
    "Label the x and y axes and add a title."
   ]
  },
  {
   "cell_type": "code",
   "execution_count": 59,
   "metadata": {},
   "outputs": [
    {
     "data": {
      "text/plain": [
       "Text(0.5,1,'Popularity of\\nProgramming Languages')"
      ]
     },
     "execution_count": 59,
     "metadata": {},
     "output_type": "execute_result"
    },
    {
     "data": {
      "image/png": "[encoded data removed]",
      "text/plain": [
       "<matplotlib.figure.Figure at 0x20f6e2f4860>"
      ]
     },
     "metadata": {},
     "output_type": "display_data"
    }
   ],
   "source": [
    "# Bar Chart\n",
    "lang = [\"Java\", \"Python\", \"PHP\", \"JavaScript\", \"C#\", \"C++\"]\n",
    "popu = [  22.2,     17.6,   8.8,            8,  7.7,   6.7]\n",
    "num = [0, 1, 2, 3, 4, 5]\n",
    "plt.bar(num, popu)\n",
    "plt.xticks(num, lang)\n",
    "plt.xlabel(\"Programming Languages\")\n",
    "plt.ylabel(\"Popularity\")\n",
    "plt.title(\"Popularity of\\nProgramming Languages\")"
   ]
  },
  {
   "cell_type": "code",
   "execution_count": null,
   "metadata": {
    "collapsed": true
   },
   "outputs": [],
   "source": [
    "# Example Solution\n",
    "languages = ['Java', 'Python', 'PHP', 'JavaScript', 'C#', 'C++']\n",
    "popularity = [22.2, 17.6, 8.8, 8, 7.7, 6.7]\n",
    "\n",
    "# Create an array with the position of each bar along the x-axis\n",
    "x_pos = np.arange(len(languages))\n",
    "\n",
    "# Produce bar plot\n",
    "plt.bar(x_pos, popularity, color='green')\n",
    "\n",
    "# Replace the x ticks with the year language name\n",
    "plt.xticks(x_pos, languages)\n",
    "\n",
    "# Title and axes labels\n",
    "plt.xlabel(\"Languages\")\n",
    "plt.ylabel(\"Popularity\")\n",
    "plt.title(\"Popularity of\\n Programming Languages\" );"
   ]
  },
  {
   "cell_type": "markdown",
   "metadata": {},
   "source": [
    "### Review Exercise: Plotting Functions Interactively\n",
    "\n",
    "Consider the function we used earlier:\n",
    "\n",
    "$x(t) = A cos(\\omega t - \\phi)$\n",
    "\n",
    "The position of a mass $x$ (relative to it's start position), attached to a spring, as a function of time, depends on the angular frequency $\\omega$ and the phase $ \\phi$ of the system. \n",
    "\n",
    "1. Plot the function from from $t = 0$ to $t = 10$, when $A$ = 5 and $\\omega = \\phi = 2$. Label the axes.\n",
    "1. Create an interactive plot with sliders for $\\omega$ and $\\phi$, varying from 0 to 4.\n",
    "1. Label the axes\n",
    "1. Observe the change in the position of $x$ as a function of time $t$ as you change $\\omega$ and $\\phi$ \n",
    "\n"
   ]
  },
  {
   "cell_type": "code",
   "execution_count": 65,
   "metadata": {},
   "outputs": [
    {
     "data": {
      "application/vnd.jupyter.widget-view+json": {
       "model_id": "4e13ba99869c41a6af9a322eb66e15c9",
       "version_major": 2,
       "version_minor": 0
      },
      "text/html": [
       "<p>Failed to display Jupyter Widget of type <code>interactive</code>.</p>\n",
       "<p>\n",
       "  If you're reading this message in the Jupyter Notebook or JupyterLab Notebook, it may mean\n",
       "  that the widgets JavaScript is still loading. If this message persists, it\n",
       "  likely means that the widgets JavaScript library is either not installed or\n",
       "  not enabled. See the <a href=\"https://ipywidgets.readthedocs.io/en/stable/user_install.html\">Jupyter\n",
       "  Widgets Documentation</a> for setup instructions.\n",
       "</p>\n",
       "<p>\n",
       "  If you're reading this message in another frontend (for example, a static\n",
       "  rendering on GitHub or <a href=\"https://nbviewer.jupyter.org/\">NBViewer</a>),\n",
       "  it may mean that your frontend doesn't currently support widgets.\n",
       "</p>\n"
      ],
      "text/plain": [
       "interactive(children=(FloatSlider(value=2.0, description='omega', max=4.0), FloatSlider(value=2.0, description='phi', max=4.0), Output()), _dom_classes=('widget-interact',))"
      ]
     },
     "metadata": {},
     "output_type": "display_data"
    },
    {
     "data": {
      "text/plain": [
       "<function __main__.plot>"
      ]
     },
     "execution_count": 65,
     "metadata": {},
     "output_type": "execute_result"
    }
   ],
   "source": [
    "# Interactive Plot\n",
    "\"\"\"\n",
    "t = np.linspace(0, 10, 100)\n",
    "A = 5\n",
    "omega = 2\n",
    "phi = 2\n",
    "x = A * np.cos(omega * t - phi)\n",
    "plt.plot(t, x)\n",
    "plt.xlabel(\"$t$\")\n",
    "plt.ylabel(\"$x$\")\n",
    "\"\"\"\n",
    "def plot(omega = 2, phi = 2):\n",
    "    t = np.linspace(0, 10, 100) \n",
    "    plt.plot(t, 5 * np.cos(omega * t - phi))\n",
    "    plt.xlabel('$t$')\n",
    "    plt.ylabel('$x$')\n",
    "    plt.title(f\"$\\omega$ = {omega}, $\\phi$ = {phi}\")\n",
    "interact(plot, omega = (0, 4, 0.1), phi = (0, 4, 0.1))"
   ]
  },
  {
   "cell_type": "code",
   "execution_count": null,
   "metadata": {
    "collapsed": true
   },
   "outputs": [],
   "source": [
    "# Example Solution\n",
    "A = 5\n",
    "\n",
    "def plot(ω=2, ϕ=2):\n",
    "\n",
    "    t = np.linspace(0, 10, 200)\n",
    "    plt.xlabel('$t$')\n",
    "    plt.ylabel('$x$')\n",
    "    \n",
    "\n",
    "    x = A * np.cos(ω * t - ϕ)\n",
    "    \n",
    "    plt.plot(t, x)\n",
    "    \n",
    "    plt.xlim(t[0], t[-1]);\n",
    "\n",
    "    \n",
    "interact(plot, a=(0, 4, 0.25), b=(0, 4, 0.25));"
   ]
  },
  {
   "cell_type": "markdown",
   "metadata": {},
   "source": [
    "### Review Exercise: Plotting Functions Interactively\n",
    "\n",
    "Consider the function \n",
    "$$\n",
    "f(x) = e^{x/10} \\sin(ax)\\cos(bx)\n",
    "$$\n",
    "from $x = -4\\pi$ to $x = 4\\pi$.  \n",
    "\n",
    "1. Plot the function when $a = b = 1$. Label the axes.\n",
    "1. Create an interactive plot with sliders for $a$ and $b$, varying from 0 to 2."
   ]
  },
  {
   "cell_type": "code",
   "execution_count": 68,
   "metadata": {},
   "outputs": [
    {
     "data": {
      "application/vnd.jupyter.widget-view+json": {
       "model_id": "4eca0427c9484509a6a2571d55558dd5",
       "version_major": 2,
       "version_minor": 0
      },
      "text/html": [
       "<p>Failed to display Jupyter Widget of type <code>interactive</code>.</p>\n",
       "<p>\n",
       "  If you're reading this message in the Jupyter Notebook or JupyterLab Notebook, it may mean\n",
       "  that the widgets JavaScript is still loading. If this message persists, it\n",
       "  likely means that the widgets JavaScript library is either not installed or\n",
       "  not enabled. See the <a href=\"https://ipywidgets.readthedocs.io/en/stable/user_install.html\">Jupyter\n",
       "  Widgets Documentation</a> for setup instructions.\n",
       "</p>\n",
       "<p>\n",
       "  If you're reading this message in another frontend (for example, a static\n",
       "  rendering on GitHub or <a href=\"https://nbviewer.jupyter.org/\">NBViewer</a>),\n",
       "  it may mean that your frontend doesn't currently support widgets.\n",
       "</p>\n"
      ],
      "text/plain": [
       "interactive(children=(FloatSlider(value=1.0, description='a', max=2.0), FloatSlider(value=1.0, description='b', max=2.0), Output()), _dom_classes=('widget-interact',))"
      ]
     },
     "metadata": {},
     "output_type": "display_data"
    },
    {
     "data": {
      "text/plain": [
       "<function __main__.plot>"
      ]
     },
     "execution_count": 68,
     "metadata": {},
     "output_type": "execute_result"
    }
   ],
   "source": [
    "# Interactive plot\n",
    "def plot(a, b):\n",
    "    x = np.linspace(-4 * np.pi, 4 * np.pi, 400)\n",
    "    f = np.exp(0.1 * x) * np.sin(a * x) * np.cos(b * x)\n",
    "    plt.plot(x, f)\n",
    "    plt.xlabel(\"$x$\")\n",
    "    plt.ylabel(\"$f$\")\n",
    "    plt.title(f\"a = {a}, b = {b}\")\n",
    "interact(plot, a = (0, 2, 0.1), b = (0, 2, 0.1))"
   ]
  },
  {
   "cell_type": "code",
   "execution_count": null,
   "metadata": {
    "collapsed": true
   },
   "outputs": [],
   "source": [
    "# Example Solution\n",
    "\n",
    "def plot(a=1, b=1):\n",
    "\n",
    "    x = np.linspace(-4*np.pi, 4*np.pi, 200)\n",
    "    plt.xlabel('$x$')\n",
    "    plt.ylabel('$f$')\n",
    "    \n",
    "\n",
    "    f = np.exp(x/10) * np.sin(a * x) * np.cos(b * x)\n",
    "    \n",
    "    plt.plot(x, f)\n",
    "    \n",
    "    plt.xlim(x[0], x[-1]);\n",
    "\n",
    "    \n",
    "interact(plot, a=(0, 2, 0.25), b=(0, 2, 0.25));"
   ]
  },
  {
   "cell_type": "markdown",
   "metadata": {
    "collapsed": true
   },
   "source": [
    "### Review Exercise: Visualising 2D Arrays \n",
    "Create:\n",
    "- a Numpy 30 by 30 array\n",
    "- with randomly selected integer values for all elements\n",
    "- with an allowable range for each element of 1 to 50\n",
    "\n",
    "Represent the array using `matshow`:\n",
    "- Use a colour map of your choice\n",
    "- Set the colour scale minimum to 1\n",
    "- Set the colour scale maximum to 25\n",
    "- Display a colour scale on the plot"
   ]
  },
  {
   "cell_type": "code",
   "execution_count": 84,
   "metadata": {},
   "outputs": [
    {
     "data": {
      "text/plain": [
       "<matplotlib.colorbar.Colorbar at 0x20f6e70f908>"
      ]
     },
     "execution_count": 84,
     "metadata": {},
     "output_type": "execute_result"
    },
    {
     "data": {
      "image/png": "[encoded data removed]",
      "text/plain": [
       "<matplotlib.figure.Figure at 0x20f6e70f2b0>"
      ]
     },
     "metadata": {},
     "output_type": "display_data"
    }
   ],
   "source": [
    "# 2D Array plot\n",
    "a = np.random.randint(1, 50, (30, 30))\n",
    "norm = matplotlib.colors.Normalize(1, 50)\n",
    "plt.matshow(a, norm = norm)\n",
    "plt.colorbar(norm = norm)"
   ]
  },
  {
   "cell_type": "code",
   "execution_count": null,
   "metadata": {
    "collapsed": true
   },
   "outputs": [],
   "source": [
    "# Example Solution\n",
    "a = np.random.randint(1, 50, size=(30,30))\n",
    "\n",
    "plt.matshow(a, cmap=cm.BuPu_r, vmin=0, vmax=25)\n",
    "\n",
    "plt.colorbar();"
   ]
  },
  {
   "cell_type": "markdown",
   "metadata": {},
   "source": [
    "### Review Exercise: Animated Plot - Projectile Trajectory\n",
    "\n",
    "A projectile is launched with initial velocity $v$, at an angle of $\\theta$.\n",
    "\n",
    "If we neglect the force of drag on the projectile, it will travel in an arc. \n",
    "\n",
    "It's position in the horizontal (x) and vertical (y) direction at time $t$ can be found by.\n",
    "\n",
    "$x= vt\\cos(\\theta)$\n",
    "<br>$y= vt\\sin(\\theta) - \\frac{1}{2}gt^2$\n",
    "\n",
    "where gravity, $g=9.81$ms$^{-2}$ \n",
    "\n",
    "<img src=\"img/projectile2.png\" alt=\"Drawing\" style=\"width: 300px;\"/>\n",
    "\n",
    "In the cell below write a program to create an animation of the particle animate the motion of an ideal projectile when launched:\n",
    " - from an angle of $\\theta = \\pi/2$\n",
    " - with an initial velocity of $v=10$ms$^{-1}$ \n",
    " \n",
    "*Hint*\n",
    "1. Create a figure window\n",
    "1. Create axes within the figure window.\n",
    "1. Create a point to animate\n",
    "1. Create variables for $g$, $v$, and $\\theta$\n",
    "1. Write a function, `fun` to find x and y position as a function of time, t (function argument = t)\n",
    "1. To animate the motion of the particle create a function, `animate`. Within animate call the function, `func`. Use a timestep of i/10.\n",
    "1. Use the function `animation.FuncAnimation` to create the animation. Use 50 frames and an interval of 50ms between each frame.\n",
    "\n"
   ]
  },
  {
   "cell_type": "code",
   "execution_count": 101,
   "metadata": {},
   "outputs": [
    {
     "data": {
      "text/html": [
       "<video width=\"432\" height=\"288\" controls autoplay loop>\n",
       "  <source type=\"video/mp4\" src=\"data:video/mp4;base64,AAAAHGZ0eXBNNFYgAAACAGlzb21pc28yYXZjMQAAAAhmcmVlAABWjm1kYXQAAAKuBgX//6rcRem9\n",
       "5tlIt5Ys2CDZI+7veDI2NCAtIGNvcmUgMTUyIHIyODUxIGJhMjQ4OTkgLSBILjI2NC9NUEVHLTQg\n",
       "QVZDIGNvZGVjIC0gQ29weWxlZnQgMjAwMy0yMDE3IC0gaHR0cDovL3d3dy52aWRlb2xhbi5vcmcv\n",
       "eDI2NC5odG1sIC0gb3B0aW9uczogY2FiYWM9MSByZWY9MyBkZWJsb2NrPTE6MDowIGFuYWx5c2U9\n",
       "MHgzOjB4MTEzIG1lPWhleCBzdWJtZT03IHBzeT0xIHBzeV9yZD0xLjAwOjAuMDAgbWl4ZWRfcmVm\n",
       "PTEgbWVfcmFuZ2U9MTYgY2hyb21hX21lPTEgdHJlbGxpcz0xIDh4OGRjdD0xIGNxbT0wIGRlYWR6\n",
       "b25lPTIxLDExIGZhc3RfcHNraXA9MSBjaHJvbWFfcXBfb2Zmc2V0PS0yIHRocmVhZHM9NiBsb29r\n",
       "YWhlYWRfdGhyZWFkcz0xIHNsaWNlZF90aHJlYWRzPTAgbnI9MCBkZWNpbWF0ZT0xIGludGVybGFj\n",
       "ZWQ9MCBibHVyYXlfY29tcGF0PTAgY29uc3RyYWluZWRfaW50cmE9MCBiZnJhbWVzPTMgYl9weXJh\n",
       "bWlkPTIgYl9hZGFwdD0xIGJfYmlhcz0wIGRpcmVjdD0xIHdlaWdodGI9MSBvcGVuX2dvcD0wIHdl\n",
       "aWdodHA9MiBrZXlpbnQ9MjUwIGtleWludF9taW49MjAgc2NlbmVjdXQ9NDAgaW50cmFfcmVmcmVz\n",
       "aD0wIHJjX2xvb2thaGVhZD00MCByYz1jcmYgbWJ0cmVlPTEgY3JmPTIzLjAgcWNvbXA9MC42MCBx\n",
       "cG1pbj0wIHFwbWF4PTY5IHFwc3RlcD00IGlwX3JhdGlvPTEuNDAgYXE9MToxLjAwAIAAAAtbZYiE\n",
       "AD///vdonwKbWkN6gOSVxSXbT4H/q2dwfI/pAwAAAwAArqxz6KZIGF3rxgACdHsTziHH/gAS4Yvf\n",
       "etvVHummF0AuJOuzYsn2lnYmQUclk8GTSZbnOIMS/o9t1KJrgZVvIDrlzif0DnLrBeAbJfuVelcA\n",
       "w5tCYrQdFct3E+tT6AXutdszAGFsjK5ptJR8w53K5vJcc482cjmG96JUswjSa3g6zPVSM8WR/kJV\n",
       "NfXZ+XN/r6DuTpag73OyXGAqz18EWHA+QGOcw7zUjDOY7XAizWCXy7dOAnKnOX0H3l8KAOnXkykY\n",
       "wufh06euPEC6sj9r/7bZ2wOjSzKntl39Oqif3W32ZHkTRW3B7gmbO+jC69jo6ejcw1qFya7eIzLx\n",
       "6o99r1H/YYP7CeYI7bY/MK3sFQndPXAvnj0JRtSiAicah2L+xm1t/AlGjLGDoYY8H4MOXRF9m7SS\n",
       "LnVExMLtoMTxs8uzGQnG1t70y4n5C305pmKVZaSzKQx4AEXb74x/YdAeyze6XJFRywZijJND3Sft\n",
       "QHKeEX1DNS9Q+/CneSmLoWdb2Zn7wUtktoaVgYjNpzmtjxiQULm67sU/RfjE/oLBiZj3u5ZfLGNf\n",
       "9by4F1Yt0OJqJu3v6+4tnsR60vzENLHc+I3EQmzBZogduAKtnuSb/0Ig0yStUrir2QblV6pbP4X2\n",
       "IEj7dmyaZQksIm1sfXhhvqwICmHFhvEgIg5bGdvV8D1T7SZ/hfqQrS6Nrg8+pf2EWgcCiohKR7xI\n",
       "ntwAkCqgBuWAkObR5gywIA8PhkLD1HCdrlfft90i/tBjXwWalO9UiuBHyur4qG0t7Iph/JwMfA79\n",
       "K0Knpp0bttzlOnz1oSo08FN7WyahbeYbF3zagYE97bpch7xJ3nS95+Xegpb08GLJgxsoyr5hyThu\n",
       "zQ2iF3eWAeQQiAKYaMl/X7ODwGpfmEQ/GQ9KuyYyWRWoiiv4gFfUJpdgFuG3nR0LhDGXjBMhTzSn\n",
       "mycLa1XX57lRfXCHMqdhiZwDud8iOgtVWEJARy7CgVyr/dk3iFXtLle88f1rg3G2krUb+qXb/D9x\n",
       "WTJ0ecVQYAUQ5npFbKpP9/9re6tkIM2x+kA5fZHf6mce7v/odWa9E/9HG6SEDpzKmguQJFltYiH9\n",
       "9FRiaHh42P1pF/mzxB5So4EjZBLUq5StkIL1zfSukS2tLxNo00qOtI5SlZR0fvJdP4DRjPx0FFJ4\n",
       "ThAKRgO4AzJ2G3attmzORAACW5CTy81TizHdyacLzGfN3aydNI7/hM5XNfTP9Nx1vg4ZJ/mEJXBt\n",
       "OMsSPByr5b09fdVTEx3kxAbn0EXD5PhnquiOa4Mi1xtdDev0pLSGdQJerLxHjqclnhSnHuFU3sOS\n",
       "5nf6Jd0FKjPGiw1fi6IQk/Mp2hOTYHEJmBo4vhtlGD7M/fSOpT/Dd/5TcRd6JJXa+Y5l84WWzNnN\n",
       "Gqf4s0wHc1oDtINoAzwHe76LAUAgYcX/r9J8+hL35el7cM+hafhe9kK4AzWd9i2/yFjuyYxxRaUJ\n",
       "XAyqqkyKqCADj/XnhWaNUH/aZPYGaQopSquefewVKQ/gy8UNn67yTrIgHS+BumknTFs7f22YTUaj\n",
       "LRwfVVeliBF5uAgL8V2byGfnILEBKQAPA1/z+80amWn7/9QGYOqwr8HSBPuzIiTw35Mt8CarHbwP\n",
       "sMaErrZ4yRlpzuXJVEqofW8oHGonDtpAxN2LTg2IJXQR6CajZ8/9CIU3evag964byHHJE+xLQEEE\n",
       "MCjrCbctOTGcHVoAilIwlg6l3D89V4PFCVcsmr02WrAczfYqaB285E1B+50OqebipnOJXNkvrNfY\n",
       "hjYo35zigpPGq2EcJHReenbwikLDqXL0orACTExhp0N+TY5kFNt2oMAw6DAdL/kx+FNmjDp6oGHj\n",
       "Nl4LWzmSGtSYot/Ub5IZwKr5ZXhSASttx7AqyJwRU9IgaPxeyiV7Gecyxp6QT96efTdXB0wGl0ON\n",
       "RIe9oRoidCtMKI+0ol58mM+xCQWfNzCjrUEW3LkURBm1UGOsTnJiO0zJYYsFzQG9B0ng7vkTAV98\n",
       "YSe6UZJ5ZWbvPnhQ1Uz30MJ025i6gozbOZCUgwwe5nDlLlDhveCoWIUn8QYWFwOmo9Xuq2kM04pQ\n",
       "xDSeAtg3PP4CIV2jM7dby/IVXI8Off92CaJESFocK0en/eF2dx9SMDMqHzIJtltghwlZ/V8vTEuW\n",
       "AF7lJ3PJq+Uahd+QjhQdBiVZDs0HGv5CnP1wrS+QhkarAOyxHA98vbadP+0YYxDjK3bYK9gl+S3y\n",
       "Nm/l/re4vSvEXBbKxQryFxv48mMvBDlL13nwzTWzMiZo8jXrdfGYS9PGFIJZ2gcEgf4Ga4OyNAQc\n",
       "i21WYYY98syxi+Pb9nXLhkOHMAvetGAk59RUxsZCzPEYlnjrZT8seKLefMIxzRRZQ9sF90SnrH7o\n",
       "QfcqwiM0y+aieSgOm2rkzFYgVbkaxL7Kko5i5ftdbxzjR/yzT/kGP3llCB/Hy/uT+FBsb4DcdUVU\n",
       "xGU9eS3qeknBstBNyJXYJ9FpkWwFhD4lyGOVgUQiEHxQPvpwgSCa4oczhD3jZjD/YeN3xCrjDYJ1\n",
       "WMwQvL87yABxlXjA4y9Sw/VNQYoMQjE6jUenNjJNIy4XmxAvbHOwF9aWg6hLSWgoG1PfVeiKduEg\n",
       "x/8egSqSCxM3N+bhjjUIv8RElvBz3iWHYU6Jvv5r2NpMyYpCEIIxDUoOwHi/Yban0Qxw9SY+B7eg\n",
       "yFZ5eo6hAra65t8+cHVxHR8Ea3NjJLXP/dgDpt7xRgtRNzzi62oghP062YfnAczMr7qesHIHxX64\n",
       "3JIoD3yqMJosBJWi6ojetlb6NcGuRt40LdSgZrRHjr82AfAkD5gjoP669PQNJyPNsdqFKnhYlbpp\n",
       "7/wXC+VQQE6r1aeu25BRYQq51iNpgiuY8q4+5htZ24vMscDAlOSi4xRQgE3aZ5YbYWl9TXze5tLk\n",
       "Vs03a5OqGCMWNktQq+WgHp1yujuJJnbEz3+27eNA5DMJ5CSn/DxilUzwscLIlvf4rqpM7Avtwqw5\n",
       "Vl49zVbpGlin47GCNL2yU9I43OZ9qEALFJuVWx2pXm9kL1iOL6kG62fiqBG6yom4ZqjMAxgc4eeE\n",
       "tvB8pl5+SIUHoIauaUZh1C2iSoj0DQh4kPxGKy7LG1Kk/EL0X8X9tHK09CNOYFUViYcA8s+aPzZb\n",
       "/QpinXGJrKen+pXXTD3dymae151/+1/9r/xW6kc7oYfPafKwQ3mvBXqyiAQEjYzG/wGCxs+ltJ71\n",
       "h1XKN+50/DYZkaJiLHSqbgN7IOkhrMRjPXmKlwql2iub7mBCryAKO7zStAvKFz+6vbKXycJMoNxG\n",
       "+HSG+JKkeujrPec8g678l+lpl4HbAugv9Cl8aK32LhvRMMQt3zkRwhGwX/9V6XkGrInbOvFu2dht\n",
       "OSA4BuUhYLOuIf6vuk5tX4+Inhw/3dG8cSx8G6d4lPR6o8dKDAEYibquWfam72aTP5+MfbSS2HY0\n",
       "e7f+diGToKi1ptDhrVjx2ySwpAxXsI8BNVjwgwtmedv6YcOUKyxZ/JAFLDKR2mzryTN4COQsai/C\n",
       "qT/P9tapQW2LV82NvVOJNH1AFwI/RLA+4x/9mrTBcB5AOaWG3fKT4rmnPrWI9dIW5H3026sVB0+h\n",
       "3oN/7PZTC35xOG58L917RMZTsKHKd0l3hJJUnRZBvggnpvC+bzDNoHjUVBGY9aw4wQXsudP7pK9S\n",
       "YsqZ9OtcuzDBY9/lEP18+f6jNHCKcKFs/1lsLhf7ug2l/UWo9dLzqjowv1RWO9TO85YqGQO8TXda\n",
       "ipYYYgCwQqkM6zQ+p3BR2oA2nFCYp5g1DVeHzpiJZ8GQoORtmBk8qumie+BgGfKRhHqnAEBBAAAB\n",
       "hkGaJGxD//6plgCxxxec1/4/dYAdEXtJisbB7EnROabbZ8cTuEP6eWq05dkIG8ptfWEyewG1HzBM\n",
       "ol85w+FCEd9hYMRc2b3seteU/RUUaJpXoZ0UJjzovDlp+c+FxtwaF8yydVdt0ZN8zVs0NAN1paX1\n",
       "i/cTdp+Qq4gCZLQ46gPW6SHCkxJXHKpJtzv8ymPqzc/uqrcZL6FIIkrlsho4CSHtG2MUG761TxOd\n",
       "xok2AQIHkOpm2ECb2CROTf/fw328n2NnZZ70xOYAoZJ24xzbKBL1uOOCcG1hfXj4hIGw8/RHnvkI\n",
       "pxTd7Ypwmm4565gcigGNlMXsDTryUMd9tbjuhuK+JcdPksaOFzeAJ8y5s08hky21XCsS8S6pjmND\n",
       "7C/rMN2wS33f1fnsy9WuEYIyecX54kVMx91y5CQW4bgWzwXxXSr57rQZ67wLFArCQG+2yFK+WC6K\n",
       "GYHG9WH7MtM08cpvSzvmLQ8Q2OdapVAwAvky4lWG58HG1UYAbGSmzeB8zeypfcAo4AAAAC1BnkJ4\n",
       "hn8AluMkDwwnr/QhAqDIBa6s2oFI0zsGEL6jn2BRNeszkSkmWbegeEEAAAAeAZ5hdEK/AAALWlsU\n",
       "FSes5Xcg+/KOgKwZm6PnuIHlAAAAFwGeY2pCvwEW13L5qFxWV5E9BfqaUB1BAAAAPkGaaEmoQWiZ\n",
       "TAh///6plgAABlLm2OqO1NKIS0zJQBPCgS67rE52Rbr5lEnE5LWD5DS48MlhLNESk56mRdMxAAAA\n",
       "GEGehkURLDP/AAAGRxStVObGNY9jgvf4qQAAABQBnqV0Qr8AAAo6ZSAQV9tY198lQQAAAA4Bnqdq\n",
       "Qr8AAAMDoMqN4AAAAEVBmqxJqEFsmUwIf//+qZYAsX8tjUAZwjL0KqwFQ42LhFkOlw0iiO6RYvMg\n",
       "8EAUoQhclTqe7RUD4gIebSdkyPVzNJ4C9twAAAAbQZ7KRRUsM/8AlsVP7iSXGv9nXPOU+bCuf2IR\n",
       "AAAAFQGe6XRCvwEWc2N7iLWyLgtXQZqQjgAAAA8BnutqQr8Ajuv7oILjZbAAAABCQZrwSahBbJlM\n",
       "CH///qmWALF/LY1AGVxO2KrxtJzr6wjpcLdCYHDGlwlN60SVLtnP4HLFWIklNKZ7BOj42bAomBXx\n",
       "AAAAGUGfDkUVLDP/AJbFT+53MPNq70aKPXYx4k8AAAAVAZ8tdEK/ARbwZHcKcG13bltFSzuJAAAA\n",
       "DwGfL2pCvwCO6/ugguNlsAAAAENBmzRJqEFsmUwIf//+qZYAsX8tjUAZ5T5270pLx6ppGP5zMaSX\n",
       "Y/tQlIPgjbT0m5usvwf1QEnZEd7Unc9tWczqgN6AAAAAGUGfUkUVLDP/AJbcQD+PlZtjSB5V+qLd\n",
       "TYEAAAAPAZ9xdEK/AI66GaCCpUWwAAAAEwGfc2pCvwEW13MLUYLiaAVwW1wAAAAVQZt4SahBbJlM\n",
       "CH///qmWAAADAPCBAAAAFEGflkUVLDP/AE113h4aZ2k/iodkAAAADwGftXRCvwCOuhmggqVFsQAA\n",
       "AA8Bn7dqQr8Ajuv7oILjZbEAAAA1QZu8SahBbJlMCH///qmWALF/LY1AGfDBQ1AqUDaQxdEZ8Ni4\n",
       "IpA0H8bTb3hXId5OPO+vqCAAAAAYQZ/aRRUsM/8AlsVP7ncw83R0fMPd98IRAAAAEwGf+XRCvwEW\n",
       "8GR3CnBvDwRRTzQAAAAPAZ/7akK/AI7r+6CC42WxAAAAKkGb4EmoQWyZTAh///6plgCxfy2NQBzZ\n",
       "/0WJGxnaG1/4ss+yZFAH8JAZcQAAABlBnh5FFSwz/wCW3EA/j5WbY0geVfqi3U2AAAAADwGePXRC\n",
       "vwCOuhmggqVFsAAAABMBnj9qQr8BFtdzC1GC4mgFcFtdAAAAFUGaJEmoQWyZTAh///6plgAAAwDw\n",
       "gAAAABRBnkJFFSwz/wBNdd4eGmdpP4qHZQAAAA8BnmF0Qr8AjroZoIKlRbAAAAAPAZ5jakK/AI7r\n",
       "+6CC42WxAAAAWkGaaEmoQWyZTAh///6plgCx2nqmGADloGD7tflYTkr1+//dbEUF+q/BwS3RQKZh\n",
       "CpAZ5iIep6cUJdW2mQjc0JI/jDZkRVf1W0bPCzKEFmtXT10/W8EJ2a8zgQAAABlBnoZFFSwz/wCW\n",
       "3EA/j5WbY0geVfqi3U2BAAAADwGepXRCvwCOuhmggqVFsQAAABMBnqdqQr8BFpCerVA11/6FBRg0\n",
       "AAAAFUGarEmoQWyZTAh///6plgAAAwDwgAAAABRBnspFFSwz/wBNdd4eGmdpP4qHZQAAAA8Bnul0\n",
       "Qr8AjroZoIKlRbAAAAAPAZ7rakK/AI7r+6CC42WwAAAAVEGa8EmoQWyZTAh///6plgCx1754GcAL\n",
       "BTCH/nT9we9zEUk3gvnC0nv0bwCx/HTZ7DQWmI3weZ89i/ORAKmJD+tFtd+Ohdneep5DCL+130r0\n",
       "1IIucQAAABlBnw5FFSwz/wCW3EA/j5WbY0geVfqi3U2BAAAADwGfLXRCvwCOuhmggqVFsQAAABMB\n",
       "ny9qQr8BFpCerVA11/6FBRg0AAAAFUGbNEmoQWyZTAh///6plgAAAwDwgAAAABRBn1JFFSwz/wBN\n",
       "dd4eGmdpP4qHZQAAAA8Bn3F0Qr8AjroZoIKlRbAAAAAPAZ9zakK/AI7r+6CC42WwAAAAZkGbeEmo\n",
       "QWyZTAh///6plgCwfGyweIXRJACwZxzgTGv/8ejMp0mXfOAnE82CKCYiL4u85bXxJGDJkvhKNduE\n",
       "kbSSlZr50k6laCbByyiiN7TpyggLjj+OunEiKm72UHtX33rVP+mqwQAAABlBn5ZFFSwz/wCW3EA/\n",
       "j5WbY0geVfqi3U2AAAAADwGftXRCvwCOuhmggqVFsQAAABMBn7dqQr8BFtdzC1GC4mgFcFtdAAAA\n",
       "IEGbvEmoQWyZTAh///6plgCrGg9AF+J7YynbiKgI8AyoAAAAFEGf2kUVLDP/AE113h4aZ2k/iodl\n",
       "AAAADwGf+XRCvwCOuhmggqVFsAAAAA8Bn/tqQr8Ajuv7oILjZbEAAAAVQZvgSahBbJlMCH///qmW\n",
       "AAADAPCBAAAAFEGeHkUVLDP/AE113h4aZ2k/iodkAAAADwGePXRCvwCOuhmggqVFsAAAAA8Bnj9q\n",
       "Qr8Ajuv7oILjZbEAAABsQZokSahBbJlMCH///qmWALB8zNn/DQEwAVvrWhh/tIDIbD9+ptrPNLLR\n",
       "hklizvE7CB2qGeUXZ7gLNAJRWmVn24+PW3zqT/WHx18lDiOWOmWiS94uPChKB4EY5BVNQupEXt6M\n",
       "tPkPv8Y0ej8rAAAAGUGeQkUVLDP/AJbcQD+PlZtjSB5V+qLdTYEAAAAPAZ5hdEK/AI66GaCCpUWw\n",
       "AAAAEwGeY2pCvwEW13MLUYLiaAVwW10AAAAeQZpoSahBbJlMCH///qmWAFS5zYAb66mApogQ8Az5\n",
       "AAAAFEGehkUVLDP/AE113h4aZ2k/iodlAAAADwGepXRCvwCOuhmggqVFsQAAAA8BnqdqQr8Ajuv7\n",
       "oILjZbAAAAAVQZqsSahBbJlMCH///qmWAAADAPCAAAAAFEGeykUVLDP/AE113h4aZ2k/iodlAAAA\n",
       "DwGe6XRCvwCOuhmggqVFsAAAAA8BnutqQr8Ajuv7oILjZbAAAAAVQZrwSahBbJlMCH///qmWAAAD\n",
       "APCBAAAAFEGfDkUVLDP/AE113h4aZ2k/iodlAAAADwGfLXRCvwCOuhmggqVFsQAAAA8Bny9qQr8A\n",
       "juv7oILjZbAAAAAVQZs0SahBbJlMCH///qmWAAADAPCAAAAAFEGfUkUVLDP/AE113h4aZ2k/iodl\n",
       "AAAADwGfcXRCvwCOuhmggqVFsAAAAA8Bn3NqQr8Ajuv7oILjZbAAAABhQZt4SahBbJlMCH///qmW\n",
       "ALB8zk2WT6Y6AFh9j+fOlkrf6Yl7CdMDRYLm1sSyirrpjlNYs+0DpvNbsZozFtQLpoX6Zi69Qt8f\n",
       "LJyFX8tzmVnPyPM3dJYveY2BKo5uY+YzgQAAABhBn5ZFFSwz/wCWxU/udzDzdHR8w933whAAAAAT\n",
       "AZ+1dEK/ARbwZHcKcG8PBFFPNQAAAA8Bn7dqQr8Ajuv7oILjZbEAAAAaQZu8SahBbJlMCH///qmW\n",
       "ALDdbugCHEyYAQ8AAAAWQZ/aRRUsM/8BQq7xF8l3Y16+pOyaMQAAAA8Bn/l0Qr8AjroZoIKlRbAA\n",
       "AAAPAZ/7akK/AI7r+6CC42WxAAAAJkGb4EmoQWyZTAh///6plgCrGbsAVTBZzQuUoCsAXuOhYtWy\n",
       "oAh5AAAAF0GeHkUVLDP/AUKu8RfJFLZhYmnN7I+oAAAADwGePXRCvwCOuhmggqVFsAAAAA8Bnj9q\n",
       "Qr8Ajuv7oILjZbEAAAAVQZokSahBbJlMCH///qmWAAADAPCAAAAAFkGeQkUVLDP/AUKu8RfJd2Ne\n",
       "vqTsmjEAAAAPAZ5hdEK/AI66GaCCpUWwAAAADwGeY2pCvwCO6/ugguNlsQAAABVBmmhJqEFsmUwI\n",
       "f//+qZYAAAMA8IEAAAAWQZ6GRRUsM/8BQq7xF8l3Y16+pOyaMQAAAA8BnqV0Qr8AjroZoIKlRbEA\n",
       "AAAPAZ6nakK/AI7r+6CC42WwAAAAFUGarEmoQWyZTAh///6plgAAAwDwgAAAABZBnspFFSwz/wFC\n",
       "rvEXyXdjXr6k7JoxAAAADwGe6XRCvwCOuhmggqVFsAAAAA8BnutqQr8Ajuv7oILjZbAAAAAfQZrw\n",
       "SahBbJlMCH///qmWAFS5zYA1sRSfzTgDKgCLgQAAABZBnw5FFSwz/wFCrvEXyXdjXr6k7JoxAAAA\n",
       "DwGfLXRCvwCOuhmggqVFsQAAAA8Bny9qQr8Ajuv7oILjZbAAAAAgQZs0SahBbJlMCH///qmWALdn\n",
       "f/wleUQ8O7m0+W4Ag4AAAAAWQZ9SRRUsM/8BQq7xF8l3Y16+pOyaMQAAAA8Bn3F0Qr8AjroZoIKl\n",
       "RbAAAAAPAZ9zakK/AI7r+6CC42WwAAAAXUGbeEmoQWyZTAh///6plgCwcxXrbxZ0x0ALDINbWz1K\n",
       "HNBMuqKgNcE95dBH9GbbBAQM6Z8MT2Qdj4cJVWiTZ/AcN12N4uNVdjj2gAWhMEuFEX/GcxNwbEaC\n",
       "3p36MQAAABpBn5ZFFSwz/wFCru31+LizzKxdxkVasvOSgAAAAA8Bn7V0Qr8AjroZoIKlRbEAAAAT\n",
       "AZ+3akK/ARaQnq1QNdf+hQUYNQAAABVBm7xJqEFsmUwIf//+qZYAAAMA8IAAAAAWQZ/aRRUsM/8B\n",
       "Qq7xF8l3Y16+pOyaMQAAAA8Bn/l0Qr8AjroZoIKlRbAAAAAPAZ/7akK/AI7r+6CC42WxAAAAFUGb\n",
       "4EmoQWyZTAh///6plgAAAwDwgQAAABZBnh5FFSwz/wFCrvEXyXdjXr6k7JowAAAADwGePXRCvwCO\n",
       "uhmggqVFsAAAAA8Bnj9qQr8Ajuv7oILjZbEAAAAVQZokSahBbJlMCH///qmWAAADAPCAAAAAFkGe\n",
       "QkUVLDP/AUKu8RfJd2NevqTsmjEAAAAPAZ5hdEK/AI66GaCCpUWwAAAADwGeY2pCvwCO6/ugguNl\n",
       "sQAAABVBmmhJqEFsmUwIf//+qZYAAAMA8IEAAAAWQZ6GRRUsM/8BQq7xF8l3Y16+pOyaMQAAAA8B\n",
       "nqV0Qr8AjroZoIKlRbEAAAAPAZ6nakK/AI7r+6CC42WwAAAAT0GarEmoQWyZTAh///6plgCxdEy2\n",
       "okgBGV0F0UfvW6f1Zn8eIqpUPp9E/D+NN6k601E/q6W49DdYNrOymCtZ5G9ivTOVs1ouOlC66u4o\n",
       "DxgAAAAZQZ7KRRUsM/8BQq7s+trcxIwF9iavfcpidQAAABMBnul0Qr8BFnNje4i1sNARyIGQAAAA\n",
       "DwGe62pCvwCO6/ugguNlsAAAABVBmvBJqEFsmUwIf//+qZYAAAMA8IEAAAAWQZ8ORRUsM/8BQq7x\n",
       "F8l3Y16+pOyaMQAAAA8Bny10Qr8AjroZoIKlRbEAAAAPAZ8vakK/AI7r+6CC42WwAAAAFUGbNEmo\n",
       "QWyZTAh///6plgAAAwDwgAAAABZBn1JFFSwz/wFCrvEXyXdjXr6k7JoxAAAADwGfcXRCvwCOuhmg\n",
       "gqVFsAAAAA8Bn3NqQr8Ajuv7oILjZbAAAABPQZt4SahBbJlMCH///qmWALFz+de4YAIlH23KpJOI\n",
       "YGOX50xDIurG4Grtd8aDjqTE1mSACtKRdQP2SeJYkgOtavHsX5Xc/q1CRRzreigPGQAAABlBn5ZF\n",
       "FSwz/wFCruz62tzEjAX2Jq99ymJ0AAAAEwGftXRCvwEWc2N7iLWw0BHIgZEAAAAPAZ+3akK/AI7r\n",
       "+6CC42WxAAAAIEGbvEmoQWyZTAh///6plgCm53/8JXlEPDu5tPmMAI+AAAAAFkGf2kUVLDP/AUKu\n",
       "8RfJd2NevqTsmjEAAAAPAZ/5dEK/AI66GaCCpUWwAAAADwGf+2pCvwCO6/ugguNlsQAAAEVBm+BJ\n",
       "qEFsmUwIf//+qZYAsHLtAym/n6mHMAOMgzHeyu0eQmG7z/BmRT6vbJUsL4Fx+v2YgUHfx4e+ZN4w\n",
       "RHsF9tUwBlUAAAAZQZ4eRRUsM/8BQq7s+trcxIwF9iavfcpidAAAABMBnj10Qr8BFvBkdwpwbw8E\n",
       "UU80AAAADwGeP2pCvwCO6/ugguNlsQAAABxBmiRJqEFsmUwIf//+qZYAVvnNgBPbulimHgGVAAAA\n",
       "FkGeQkUVLDP/AUKu8RfJd2NevqTsmjEAAAAPAZ5hdEK/AI66GaCCpUWwAAAADwGeY2pCvwCO6/ug\n",
       "guNlsQAAAC1BmmhJqEFsmUwIf//+qZYAsXMT5lfoZSQO5gPAFGuS9ILkEHyS9EQc688IEfEAAAAa\n",
       "QZ6GRRUsM/8BQq7s+trcxdWf6s8Nzrsxa+MAAAATAZ6ldEK/ARbwZHcKcG8PBFFPNQAAAA8Bnqdq\n",
       "Qr8Ajuv7oILjZbAAAAAXQZqsSahBbJlMCH///qmWAFcgbFSACtgAAAAXQZ7KRRUsM/8BQq7xF8kU\n",
       "tmFiac3sj6kAAAAQAZ7pdEK/AI65sbmALv+CWAAAAA8BnutqQr8Ajuv7oILjZbAAAAA3QZrwSahB\n",
       "bJlMCH///qmWALF/MMaQBEqYUabR0kibs8hutJxTDs0RTBj9ysgoLWfxn/Sd/JgDKwAAABlBnw5F\n",
       "FSwz/wFCruz62tzEjAX2Jq99ymJ1AAAAEwGfLXRCvwEWc2N7iLWw0BHIgZEAAAAPAZ8vakK/AI7r\n",
       "+6CC42WwAAAAM0GbNEmoQWyZTAh///6plgCxfzECB//1N8AA0hebPj5nJdWC9jwunOhsQZKX7G3H\n",
       "xgCqgAAAABpBn1JFFSwz/wFCru31+LizzKxdxkVasvOSgQAAAA8Bn3F0Qr8AjroZoIKlRbAAAAAT\n",
       "AZ9zakK/ARaQnq1QNdf+hQUYNAAAABVBm3hJqEFsmUwIf//+qZYAAAMA8IEAAAAYQZ+WRRUsM/8B\n",
       "Qq7xF8mLWB/4xZXZgAm4AAAADwGftXRCvwCOuhmggqVFsQAAAA8Bn7dqQr8Ajuv7oILjZbEAAAA2\n",
       "QZu8SahBbJlMCH///qmWALF/MMaQA1JYQNpIrBwJfImjKkFfWs03NsmhNkOjvZbl8jMigPGAAAAA\n",
       "GkGf2kUVLDP/AUKu7Pra3MSMBbwUzFYoYLW5AAAAEwGf+XRCvwEWc2N7iLWw0BHIgZAAAAAPAZ/7\n",
       "akK/AI7r+6CC42WxAAAAKEGb4EmoQWyZTAh///6plgCxfzCtQAzHHSEXrLe/ek7V6USG0Q8wBlUA\n",
       "AAAcQZ4eRRUsM/8BQq7t9fi4s8ysg5NcS055GmxJKAAAAA8Bnj10Qr8AjroZoIKlRbAAAAAVAZ4/\n",
       "akK/ARaQnq1QNdbEvaDOAlOBAAAALEGaJEmoQWyZTAh///6plgCxfzCtQBDJKQYdQPmRtm1Fr2vr\n",
       "RvwDXh10wC7gAAAAG0GeQkUVLDP/AUKu7fX4uHwiJrkAbRRqmG4+KQAAAA8BnmF0Qr8AjroZoIKl\n",
       "RbAAAAAUAZ5jakK/ARbXcvmoXFZXkHDEXIEAAAAVQZpoSahBbJlMCH///qmWAAADAPCBAAAAFEGe\n",
       "hkUVLDP/AUKu7uAulxhIoQ7JAAAADgGepXRCvwAAAwOfwI3hAAAADgGep2pCvwAAAwOgyo3gAAAA\n",
       "QEGarEmoQWyZTAh///6plgCwc7XJfiPqXNgBbo9IIhPGRAupmNI7nspER3ojdNCITnGsVyIvKEsW\n",
       "tM+2B5/q8EAAAAAZQZ7KRRUsM/8BQq7s+tlijlQK0kOgzTJxQQAAABMBnul0Qr8BFnNjWYLOhbtC\n",
       "3A9kAAAADgGe62pCvwAAAwOgyo3gAAAAKUGa8EmoQWyZTAh///6plgCxfzDyEKOwJMFkAVQIFU5P\n",
       "uJz4FyrmqA3pAAAAGUGfDkUVLDP/AUKu7Pp0bROdc8i1z6Xnx1EAAAATAZ8tdEK/ARZzY1mCzoW7\n",
       "QtwPZQAAAA4Bny9qQr8AAAMDoMqN4AAAADFBmzRJqEFsmUwIf//+qZYAsJNWpkyFdpGgKfG/vXYC\n",
       "GbmOAbbQH1kvL0DJ2NP8mAXcAAAAGUGfUkUVLDP/AUKu7PrZYo5UCtJDoM0ycUEAAAATAZ9xdEK/\n",
       "ARbwPC240F1kg4lPdAAAAA4Bn3NqQr8AAAMDoMqN4AAAADJBm3hJqEFsmUwIf//+qZYAsLRLyo2I\n",
       "5GaACpJzdPrpumswSyZ+I074xfphU4eUp5LZwQAAABhBn5ZFFSwz/wFCrvEG7Fy/TKUvqJjL/cQA\n",
       "AAASAZ+1dEK/AIr4MiA+NADX6y5BAAAADgGft2pCvwAAAwOgyo3hAAAAJ0GbvEmoQWyZTAh///6p\n",
       "lgBXBn/M/6CewuALCV0nFysZ/ZpSieA6YAAAABhBn9pFFSwz/wFCrvEG7Fy/TKUvqJjL/cUAAAAS\n",
       "AZ/5dEK/AIr4MiA+NADX6y5AAAAADgGf+2pCvwAAAwOgyo3hAAAAHUGb4EmoQWyZTAh///6plgBX\n",
       "Bn/M/6Ce4qv2WBXxAAAAGEGeHkUVLDP/AUKu8QbsXL9MpS+omMv9xAAAABIBnj10Qr8AivgyID40\n",
       "ANfrLkAAAAAOAZ4/akK/AAADA6DKjeEAAAAhQZokSahBbJlMCH///qmWAFcGf8TQAKiKQw4NrZ9Y\n",
       "CBlwAAAAGEGeQkUVLDP/AUKu8QbsXL9MpS+omMv9xQAAABIBnmF0Qr8AivgyID40ANfrLkAAAAAO\n",
       "AZ5jakK/AAADA6DKjeEAAAAfQZpoSahBbJlMCH///qmWAFcGf8z/oI7l7dS/LywK+QAAABhBnoZF\n",
       "FSwz/wFCrvEG7Fy/TKUvqJjL/cUAAAASAZ6ldEK/AIr4MiA+NADX6y5BAAAADgGep2pCvwAAAwOg\n",
       "yo3gAAAAHUGarEmoQWyZTAh///6plgBXBn/M/6Ce4qv2WBXwAAAAGEGeykUVLDP/AUKu8QbsXL9M\n",
       "pS+omMv9xQAAABIBnul0Qr8AirmxrMF0IFcXBkAAAAAOAZ7rakK/AAADA6DKjeAAAAAiQZrwSahB\n",
       "bJlMCH///qmWAFb+a0SQBS4cYX4Y6ZkenxgGVQAAABxBnw5FFSwz/wFCrvEHMnhvjbG2g9xJrwDv\n",
       "u2iBAAAAEgGfLXRCvwCKubGswXQgVxcGQQAAABIBny9qQr8Aiuu5fNQyABrtbXAAAAApQZs0SahB\n",
       "bJlMCH///qmWAFb+kVqAJwrOa0vssI7umE7Km1wvxOUEwV8AAAAaQZ9SRRUsM/8BQq7xB3FkLZqq\n",
       "ZmNyLXy8QEEAAAAOAZ9xdEK/AAADA5/AjeAAAAASAZ9zakK/AIrruXzUMgAa7W1wAAAAJkGbeEmo\n",
       "QWyZTAh///6plgBXBDw5K4Bz6X1EqlMENBASTnSTCCPhAAAAGUGflkUVLDP/AUKu8QdxZC/kL4k1\n",
       "rq467iAAAAAOAZ+1dEK/AAADA5/AjeEAAAASAZ+3akK/AIrITy8OaAGwDKyBAAAAE0GbuUmoQWyZ\n",
       "TAhX//44QAAAHHAAAAyvZYiCAAS//vet34FNwEDta7pXOLTLq5Q0PVH2lKZ4tkgAAAMAA44es10a\n",
       "knua0GgABcmaB56/z/mAS8kc1PBREAActMBcMTtMMZ0O4svKDW97DN1YfZtbJES6fb7MOleEj913\n",
       "4kzIjOHnv4YgMa09AM6JERIo8dnwmND9g/r8FgAyOAxBCEVv1izuMqi12ROdzrgOkdf80YJajB1R\n",
       "iIlSy6Xdge902lEjRA37SU8ieijFtZ73H4T8baK2iv1m6GWAQZ9jPFJoW423CePumJ4AeaLtmq5A\n",
       "wyhr4ExbCJjWAugd88j9t4Jj8JWg1X+I9hlDq33CRjO5bQXEWwdzqXw+FWujbu4p9Alz9HPhdAk/\n",
       "LteQ/WIZonIzz+2rkyPGFZli9jwu7AxeqmGdhtUFMb/TiIeDDIEx1dhHi8fUAFRRdEkHpWrjbeYq\n",
       "dgaa/deLfDYYiPSC5WolYB8+Acg95ob+a912iL4vEplIZ8LcKy+VAb7YmPfA0M+Q+x/+uln3JLhD\n",
       "FM5Dz6zajPUHt3LDalAcS29gBBmV6UV2OnpiAZnaiWhUXBxxV5gmeW2ZYJR/kymCXFVx7I2mECqg\n",
       "9j41TxlLi616KHSixlm0ttY5wCkfk6askRE6wcH1IHlS+PzZc+k16y0xavMgmETL4sEXV/H01bP8\n",
       "IaWzxC5w7t+jMqpc4Y/JKoDalWXmK6gc2HQFTqtzzgzxMnzP5Chaq3hoeFtMsSn0QiZwtlWybFTv\n",
       "xJyT9XREHJSRD/d1PTSFMx3x2LFtkZWe+qZ3pC4nP/5zV/w85JMRLe+fevNcDjrWYDGdb20tuBEz\n",
       "P3n68HYZTPPK2Q0BM0U6XTJChk83Cw3Fay/IwisQHGRIlkO+1T94+eypxN8/2vNedFS2njSmgZqp\n",
       "TUt2UyzClDJWqbn9hICt7jU8TCrT93dK/IrDj675imdaOxCMYqBaU03myMUDiQwDoL/c5sHd6Jwh\n",
       "XRHh332jh36SHC90HksKkrUGudPnLYZvfvba7RaVhrK3EvhzZ6cjr0dsE0r+G7LiE6UblkQNRZW1\n",
       "YG/gItANYI9p8ADF5L4lbuR8kRcr2v0BlzifQWiyLUEvrkMHpCOs9682S+hQ4FgECchg0FYLKkBE\n",
       "7GO9TD3YB3RttoJfxQwDGfC/i2rPPeLwOM/+Cy3lozsj4v/C8ecszqQcXMefQ+p4Z0BftTtBF6Kn\n",
       "w7EqnFMYLhGQGnfAyiC/nsw1uTGPOAs8l0LPHh4hosgFQKmQ9n84xgds1fm/6WIaOOICcTFqoAGt\n",
       "r5BXXSdCV34okH1v9I5WsAxvY7hcQgQ5ZnixisVYOuMf4/Hkdh9l0sWbJYXdKBMG9ZP+0AJ8qfUS\n",
       "s0YCGVPCZv0vl4TMSdQT5lOUt9KOL06Q9MRLFnMhZSfsK6a/Rm2gfEB+AxB2fhYJV77U8UGZODxk\n",
       "DW3YX/2+8PGvHWvFzyMnKYpUNhvZ8zNqwvADkYcX9KVCsvXxakcoczTsS3K+kAjHfwQIqxjqVSuv\n",
       "KJ+odF0m5qPDhuwAfkJpb7MlQqfri/v5Vflj8gg6Pf9Uav8dUmMu+kc27kEWmW97/k7Qu981A6ZF\n",
       "088VvT7J6a7VLuZ2QNFRtvBcW4Zk2P+zAnp7cm9DzUfgDjznU5SGwuEuZv+s3XF25VADLCPlNtbW\n",
       "kRkzf3Unu+EET0hPbLUhUrSb1GxLhXyeTtBdB2PA7R43ef7dsK8lsyBXyHjAboEGpNxeSo/BJinV\n",
       "cGsluM36Jrw3XcVBEvanowT1g/jqCk2APMoV3IIkZTKgzI2igiqAtudc2KgpNXYQ1uNUHi4ab9RH\n",
       "sYK1GLmrUjETx5hOmMadPkUAkxaLmYE2N6qIoY8lGUf/7xXak+dx73qkUSGvQ14hZLNJ5ipkrtre\n",
       "YzK3DkGROmZVQKqI5ooul5vAKNRJ8AOVTHIeYFbrPbJ9fowx/OnfBUoB6H9lcAq5ZTLrLxOzULZ1\n",
       "/aSOv8ebGJXcMTCpT9gJUPNSdABDJkjz9izxsykF5GUdZyUgZPE4oNvjuxDy7pi8Rh7T3Z4jX0m5\n",
       "+IvKLHgxNu6Ft8pM87SlgNdv/5AKayKheddBN9h1rLu865+/CwHdQliwTlAsRSbG5GMxCndrQuFc\n",
       "Gx8fa6TGMvlNgTcsGR+oj1VvspWxHOTMcdfojHHpnchrNytSu05Vdy/rfS0+7FmzYh/LonUUSq53\n",
       "wz+ZFmq5vvI3iF5RKlxHeaI3P/Oz4oR3WhrileD+B8Tyt8877eyWc4jrLiDAlwwjYCfLYGem7wBW\n",
       "RYIEkdzkNmMtPE5ci96oSqTZP/7tCN3I/KifVWpNzlhCUv8f/OTlXOd+sj6Y9m5x/a7FkhClyfED\n",
       "9J02bll5sFqQebjfPGsADsjhcFgLe4VuHKBXKjX8acI1ka+VOLvSbZXtyXMQdnFG8jyvqMFUALPo\n",
       "DXgyUt5IEz0eTIrcXf4Tg/fnMKMU2P89qiSCwxVd2faH2a1wUDCobvxaHAdPFiAXURNlXhi7arFk\n",
       "UM3YnYjR9zW1X2uz/PYJArn8DQYKVGCZ+tSHN43R8kxI6PnSJXTVJzEpO+3///0nul0zVLLwCtGn\n",
       "J5VKt4hhPg1bu2fBlBCIvjGXyruCyo+gln894KcS883XKRpGO1v8tG2vekZ4aAEA/isXo+GJ6rId\n",
       "HPbyun28R+s4eq9JPbw+tUEHRR6pUh+xhzvT/NMiiDkKnBosYPPMMJVhPU7PB+gDrAzEAIh5NSYa\n",
       "sG+/h30FQQL4r55nluhpXn2BkVxxtpruZWCPHWC4qfiaw1uV/AotJgvltUMKmknGFa9cbIKB1ICv\n",
       "RtXEgQn2EV1IYrwYSz8+y0dZh86OA6zlwLV5aesXL7zEDJ+f1gebIv3RgivV+HS36al7p8rqPmb8\n",
       "CyM+QwHB/iGBEpwkchG+uZB10AA5uZyTIxM+wMqB8Y98tsb67QBSpbVW6NMOKzsmOr8ZOC0idsrZ\n",
       "y4q30COMhtTcMhOYFBUj/6tBrOLLuQQnM2JcK6iDOBMnUSuffFz4ad1SjnAK8zXN83ZrtDtLB/oy\n",
       "5jfwHQ9uo0oVryClYtPRZodVENdMaUTxo+4WtzTwtiTDo5RHERuQ9Ft/xjtJnFh85Y2uYS85kaEw\n",
       "9kio46oTqzdTv/8n/8N8/CSMeK42uX1cbfEtoz96/n9sLPp/Aiy8ZA8NS17NgK3HK41ywXObmmPU\n",
       "A9JRwQbc3N3WDAwpsB8rxnqjtgYBv0S6hA+whThU30EQSKTj2toadZaeSmp3hXITqz+PQ4sukAf0\n",
       "oxyI5Osqoa3UOXzNCUEOtEEvI8E86X46vOO0Kv9L3RG9T/IkltbfiUrXqPD/t1nP9aDeF3LETJmW\n",
       "/sC3MZyBfWgml1PKK8LvrS5mOiLhqK5HfncuqX1TUpTeiYy9ZJpxNUU7ua6FA63v9E8ABFlGhNjj\n",
       "DSBZHtrFGrDaHIjVGUk9btDkNIqQd/kz2xA+R3JcJPqksY8hTBMqL/IhHjX6o6Gabh68RnvdZOH8\n",
       "TzSe+mHNSZ/xfkeEd0pUIBH5MNoao9bEzN8WsC43XccViwdo72ljcElVO4Xm4n8ON1R2kPWsU6Gn\n",
       "+Kf2lc+dGbvoaNPak8YfqgNKr+i3Tg2dnd9kz6+OI29LCaX42kqptvr/+x8gAKjxSd5jESBohtys\n",
       "kVKvhT+k8NxstX2nLpSl8YSNmVx98VhXNATNFFBzzv/RdPH4riR/QmFCLUi6iMkIysUXpUlNaavg\n",
       "VnU4on98o2ArWSt/o+/bJmGHuvXc4tsMrp05958/O3uaPVXMe3raL64RCG64LkSA0dPtWJwNqLho\n",
       "1BQfulLzJzoOTdRJmGm6G4pSs8+PcbCwEhbjdiWrGnYRwP96DpaYqXN9tTD+wm93g9/KlBGcKJHN\n",
       "epzYlLYawN0Ct7t4AXjWXmzRABiK8Kv+SlytvYl8S5NXPz+Qp+JmsbhpzqXYFRPbTq25hBhXoc0B\n",
       "2ljOS0fChtNpZT3omczrxqNjqXNJXCTjZYZN+zPuYinVQL3ueiZbSRFRtjpdDfNC+14EO7/3RKE2\n",
       "Huj9gsYDhH753PXvLI66ztci/9qovSaOPnIyd5KsBJ09aEgmjJYOwNBJ3i9srbbxOJgRBESePb1q\n",
       "2EByo8a/7/phxdJJ7dhJLO2vmp1xeeXdiwvqlcXe52k6w+dUEAsbWql72OhzM93xCP4gJy5GEBZ4\n",
       "jK//PPmMHdPNLP7s+EzX1Qp7Nt9i7GOBogor0Ep+luD3SE/8ie2qBWJDLg7RejbN4AfxWe0thps1\n",
       "vqMP1y5UUi+4dkXaKmI5Ml5x603aacypclIWAwRNxVqwr/r12TIc3Sw8j9K7DIRw6a3/yhX2SUdv\n",
       "LLPSauDlz1ASwBoFsQAAAZ9BmiRsQ//+qZYAVwz8lZBU45VAH9W7RpujMxZiiFi4Jpau0UmonX81\n",
       "U7EwUr3Lq09JjPyv8Mioktg8rz3RcBJ/f9XjqUtkYcvDRWxCkuJ/KlxLzp0BBdATJWu2j6UPeLK4\n",
       "NmvsdHkcuAGZdShfe5HfMxSw0ynZGrb+wRqeriQLaoAv7N9U7M5JlkxLUwQ6LHmpyql0Eqr8MIRl\n",
       "bf/78UOb4/3FTR5w4AegV4qZxW6W9ttk4Y3kQyXiHvYb40J9XTb+h8ZKR3AqqJL7J0Np+sL4Ff7S\n",
       "IA6Ok/vcChJvJy2v9fUufJ1ICX1+7kg5N7HzBnGq5UkpWkifhkNm++G7ivysDe2rEfV5w915Xg9O\n",
       "2SoeV3zn+NHHax0G+07m2q0gl0OKK1tloPImkBECnvuHJSkschTD0D+HYLPR8SNPJPx9BahPR+89\n",
       "RiqFoRQPzdioC7A5g4YXpPQVxwOBjf6ZU0KG88KsY614NeMCnufhdwhPbtKZif8OU17gffMbT4uT\n",
       "hOmOl6F9hVJMCmfKqTemcjXhHtZGdaEichvuYCyCPo7WAAAALEGeQniGfwBLcZIH1R7ysNZBlwKD\n",
       "lOYEwjGfyEoUeVmyOi19iFnIrLg/aOthAAAAHgGeYXRCvwAAF0TEdCSr6K4bZ3PEJgC9leZYhw7h\n",
       "3QAAABkBnmNqQr8AishPLw4r0eZWVKXN+s1crE1wAAAANEGaaEmoQWiZTAh///6plgBXBDw5K4DN\n",
       "pcACa1bqfHJpMKd+os+1QkMoe0jSJM0bCY5hcG8AAAAcQZ6GRREsM/8AS2Kn8cf97TpEAcbLf31n\n",
       "Wx5zwQAAABoBnqV0Qr8AivgyID4Vi2DcSf7g1XZGKRDIPgAAAAsBnqdqQr8AAAMBiwAAACRBmqxJ\n",
       "qEFsmUwIf//+qZYAVv5reWVz41sFQQZY2dpjZ0ylSFkAAAAVQZ7KRRUsM/8AS2mGcAl3Sceb08Gp\n",
       "AAAAEQGe6XRCvwCKubGswWdC3aEzAAAAEgGe62pCvwCK67l81C4rK8gwIQAAADxBmvBJqEFsmUwI\n",
       "f//+qZYAV3+rgPeYckOt6VJLoWxG7jNDRXdtjVY2mjTvaKkBPmscTwS+tnFwwpUrlE0AAAAVQZ8O\n",
       "RRUsM/8AS24e1cepob7cs8GpAAAACwGfLXRCvwAAAwGLAAAAEQGfL2pCvwCKyE8vDivR5gwJAAAA\n",
       "LkGbNEmoQWyZTAh///6plgBXBDZGVAy/DdexqoFM8KDWg5d6PSjemZCzFunwKSAAAAASQZ9SRRUs\n",
       "M/8AJbFT+OQA2AooAAAAEAGfcXRCvwBFfBkQHxoAW0EAAAALAZ9zakK/AAADAYsAAAAoQZt4SahB\n",
       "bJlMCH///qmWAFd555XQx2F2vwKv//Uzjbw1VOyQ5ULVLQAAABRBn5ZFFSwz/wAltMM4BLuk62Ao\n",
       "oAAAABABn7V0Qr8ARVzY1mC6ECRgAAAAEAGft2pCvwBFddy+ahkAC2kAAAApQZu8SahBbJlMCH//\n",
       "/qmWACt/SPT7bwv8AA5ifpPPkJsQkDobPa89RqAAAAAUQZ/aRRUsM/8AJbFT+5yP+bo6IWAAAAAQ\n",
       "AZ/5dEK/AEV8GRAfGgBbQQAAAA0Bn/tqQr8AI7r+6DegAAAAIkGb4EmoQWyZTAh///6plgArfzW5\n",
       "cJcPvwADmrZBfbZIDKkAAAAVQZ4eRRUsM/8AJbTDOATdRniAOoUVAAAAEQGePXRCvwBFXNje4i1s\n",
       "NAd0AAAAEAGeP2pCvwBFddy+ahkAC2kAAAAkQZokSahBbJlMCH///qmWACt/SMaQBV4rAfb2GOmf\n",
       "KaD9SAyoAAAAFEGeQkUVLDP/ACWxU/ucj/m6OiFhAAAAEAGeYXRCvwBFfBkQHxoAW0EAAAANAZ5j\n",
       "akK/ACO6/ug3oAAAADRBmmhJqEFsmUwIf//+qZYAK381uXBdIAqJjnlsLHdy6+1Km3085AvushJ1\n",
       "whBX9ANIKDxgAAAAFkGehkUVLDP/ACa67I18WWgLdRGGCRkAAAARAZ6ldEK/AEVc2N7iLWw0B3QA\n",
       "AAARAZ6nakK/AEVkJ6tUDXX/ohcAAAA2QZqsSahBbJlMCH///qmWACt/NblwXSAKxfUmUwvxvBz2\n",
       "j4g5De6qdZPDDXsV4gkNxPchYwRcAAAAFkGeykUVLDP/ACa67I18WWgLdRGGCRkAAAARAZ7pdEK/\n",
       "AEV8GR3CnBvDwdMAAAARAZ7rakK/AEV13MLUYLiaAkcAAAAuQZrwSahBbJlMCH///qmWACt/SK1A\n",
       "E7w4ORQj6AfGEZltbEjLwpjGfoIP3GCLgQAAABdBnw5FFSwz/wAltxAP4+Vm2QHmlnKQsAAAAA0B\n",
       "ny10Qr8AI66GaDegAAAAEwGfL2pCvwBFZCerVA11sS9oVsEAAAAkQZs0SahBbJlMCH///qmWACt/\n",
       "NbyyufGtgqCDLGztMbOmVO1AAAAAF0GfUkUVLDP/ACW0wzgE3W2XqojLo0K2AAAAFAGfcXRCvwBF\n",
       "XNje4i1si4LV0K2BAAAAFAGfc2pCvwBFddzC1GC4tF9waBWxAAAAPUGbeEmoQWyZTAh///6plgAr\n",
       "v9XBIGhUn/sf2xkbye/IEm6aPvowfj3c1q8AV9Tt5KA6Oo+YCMOOpQ/jW3sAAAAXQZ+WRRUsM/8A\n",
       "JbTDOATdbZeqiMujQrYAAAATAZ+1dEK/AEV8GR3CnBuV9uEekAAAABQBn7dqQr8ARXXcwtRguLRf\n",
       "cGgVsQAAAEdBm7xJqEFsmUwIf//+qZYAK7/VwDX62MvZEZrIoHYMnRa2EJuZH1AawHYn6Ws/6UZu\n",
       "K3ONK3aHbkeAVQRFTvOneEOBM8wq+wAAABNBn9pFFSwz/wATXXYdjrzpGAJGAAAAEQGf+XRCvwAj\n",
       "rnacrk75DDAhAAAADQGf+2pCvwAjuv7oN6AAAAAuQZvgSahBbJlMCH///qmWACu888roY7C7X4FY\n",
       "AYAAaACkDRqoiesCx/bQ9fPmYQAAABVBnh5FFSwz/wATXXZGviy2BqaPBbUAAAARAZ49dEK/ACOu\n",
       "bFCR5niGPmAAAAARAZ4/akK/ACO66TiDz4dwwIEAAAAjQZokSahBbJlMCH///qmWABW/mty4S4f+\n",
       "3p9pd8BXXkm6+uwAAAAVQZ5CRRUsM/8AE112Rr4stgamjwW1AAAAEQGeYXRCvwAjrmxQkeZ4hj5h\n",
       "AAAAEQGeY2pCvwAjuuk4g8+HcMCAAAAAHkGaaEmoQWyZTAh///6plgAVv5rcuEuH/wFt09EDKgAA\n",
       "ABVBnoZFFSwz/wATXXZGviy2BqaPBbUAAAARAZ6ldEK/ACOudpyuTvkMMCAAAAARAZ6nakK/ACO6\n",
       "7lR08LZ4x80AAAAmQZqsSahBbJlMCH///qmWABW/mty4S4f+5iX3hBxBR5VMay4wi4AAAAAVQZ7K\n",
       "RRUsM/8AE112Rr4stgamjwW1AAAAEQGe6XRCvwAjrnacrk75DDAhAAAAEQGe62pCvwAjuu5UdPC2\n",
       "eMfNAAAAOEGa8EmoQWyZTAh///6plgAVv5rcuEuH/t2pgvl8BK+E7BtUG7uGIyXUTCnxZdvpxR6P\n",
       "TCa3n2LBAAAAFUGfDkUVLDP/ABNddka+LLYGpo8FtAAAABEBny10Qr8AI652nK5O+QwwIAAAABEB\n",
       "ny9qQr8AI7ruVHTwtnjHzQAAACNBmzRJqEFsmUwIf//+qZYAFb+a3llc+NbBUEGWNnaY2dOjsAAA\n",
       "ABdBn1JFFSwz/wATXXZGviy2BqYVC0M+YAAAABIBn3F0Qr8AI652nK5O9JoiJSUAAAATAZ9zakK/\n",
       "ACO67lR08LXTVuJSQQAAAClBm3hJqEFsmUwIf//+qZYAFb+a3lhQCQmixlhnjjnwWEBbMA7ODy5j\n",
       "dwAAABdBn5ZFFSwz/wATXXZGviy2BqYVC0M+YAAAABIBn7V0Qr8AI652nK5O9JoiJSQAAAATAZ+3\n",
       "akK/ACO67lR08LXTVuJSQQAAADZBm7xJqEFsmUwIf//+qZYAFd/q4Br9bGXsiM1kUDsGTotbCDDx\n",
       "jua3y3ebUXUY1AssW6S4VlMAAAAXQZ/aRRUsM/8AE112HY6+7X5i/WfDPmAAAAASAZ/5dEK/ACOu\n",
       "dpyuTvSaIiUlAAAAEgGf+2pCvwAjuwFpQ42aNFiUkAAAACVBm+BJqEFsmUwIf//+qZYAFd555Zb0\n",
       "xH0iAPUqtqQVyctWCog3AAAAFkGeHkUVLDP/ABNdd6+L16YgbVMqKFkAAAASAZ49dEK/ACOuiOmS\n",
       "W7ntAlJAAAAAEgGeP2pCvwAjuwFpQ42aNFiUkQAAAB9BmiRJqEFsmUwIf//+qZYACt/Nblwlw/+B\n",
       "LKaEijxgAAAAFkGeQkUVLDP/ABNdd6+L16YgbVMqKFkAAAASAZ5hdEK/ACOuiOmSW7ntAlJBAAAA\n",
       "EgGeY2pCvwAjuwFpQ42aNFiUkAAAACJBmmhJqEFsmUwIf//+qZYACt/Nblwlw/9vT7S74CuvJOUL\n",
       "AAAAFkGehkUVLDP/ABNdd6+L16YgbVMqKFkAAAASAZ6ldEK/ACOuiOmSW7ntAlJAAAAAEgGep2pC\n",
       "vwAjuwFpQ42aNFiUkQAAACJBmqxJqEFsmUwIf//+qZYACt/Nblwlw/9vT7S74CuvJOULAAAAFkGe\n",
       "ykUVLDP/ABNdd6+L16YgbVMqKFkAAAASAZ7pdEK/ACOuiOhJXPDMRTKhAAAAEQGe62pCvwAjuwFo\n",
       "g+r6t4lJAAAAIkGa8EmoQWyZTAh///6plgAK381vLK58a2CoIMsbO0xtD+UAAAAWQZ8ORRUsM/8A\n",
       "E113r4vXpiBtUyooWAAAABIBny10Qr8AI66I6Elc8MxFMqAAAAARAZ8vakK/ACO7AWiD6vq3iUkA\n",
       "AAA7QZs0SahBbJlMCH///qmWAArfyFlWVzbYX0RbqMAW7jNB93S6hoHtCGUY8vkaZpLtbyZgKeuT\n",
       "Cgkr/IAAAAAYQZ9SRRUsM/8AE113r4uyK7gg4keRDpWwAAAAEwGfcXRCvwAjrojoSVzwyqA6NjcA\n",
       "AAAVAZ9zakK/ACO7AWjsctO761hutSthAAAAQEGbeEmoQWyZTAh///6plgAK7/VwDX6NJDrelhLL\n",
       "UXY3bxmhfOoH7GTiQm0KcUmFbvsA3UKrNbn3wD7LgevxfkEAAAAZQZ+WRRUsM/8AE113r4vXpiEG\n",
       "skTBezgVQQAAABMBn7V0Qr8AI66I6ZJbueoyTyaEAAAAFAGft2pCvwAjuwFpQ42aM6LWlK2BAAAA\n",
       "K0GbvEmoQWyZTAh///6plgAK7/VwA3zQi4ABWvCYeW6uvRdRjUCyxbpMALAAAAAXQZ/aRRUsM/8A\n",
       "E113nAuJAZdTFF8PuaEAAAASAZ/5dEK/ACOuh6fJLdz2gVJBAAAAEQGf+2pCvwAjuwAnQfV9W8VJ\n",
       "AAAAKkGb4EmoQWyZTAh///6plgAFb+QqOgCD8b2avmClUfhjolPXoqlyzZEjnQAAABZBnh5FFSwz\n",
       "/wATXXebddkV3BBxKhWVAAAAEgGePXRCvwAjroenJK54ZiKyoAAAABMBnj9qQr8AI7sAJ3Y5ad31\n",
       "tUYXAAAAJkGaJEmoQWyZTAh///6plgAFb+a3LhLh9+AAVb1vr/b+U240RRpwAAAAFkGeQkUVLDP/\n",
       "ABNdd5t169MQNqmVGFkAAAASAZ5hdEK/ACOuh6fJLdz2gVJBAAAAEgGeY2pCvwAjuwAnocbNGixU\n",
       "kAAAAC5BmmhJqEFsmUwIf//+qZYABW/mty4S4fXAAUHprEcCaGGiBURVRcrwV8+XJi7gAAAAF0Ge\n",
       "hkUVLDP/ABNdd5t169MQNr+WkVlRAAAAEgGepXRCvwAjroenyS3c9oFSQAAAABMBnqdqQr8AI7sA\n",
       "J0H1fy+dYqSBAAAAREGarEmoQWyZTAh///6plgAFb+QqOgCd4cHL5huA8MYm0JYIydqn+9FAcEEC\n",
       "8U7203dwjbP+GJnBSjAQ+mAkwnnHL1BhAAAAFkGeykUVLDP/ABNdd5t12RXcEHEqFZUAAAASAZ7p\n",
       "dEK/ACOuh6ckrnhmIrKhAAAAEwGe62pCvwAjuwAndjlp3fW1RhcAAAAlQZrwSahBbJlMCH///qmW\n",
       "AAVv5reWVz418nc4AAYHKOf5lCavgQAAABhBnw5FFSwz/wATXXebdevTEDapceKdVsAAAAATAZ8t\n",
       "dEK/ACOuh6fJLdz1GSeWhAAAABMBny9qQr8AI7sAJ0H1fVYvtqthAAAAQ0GbNEmoQWyZTAh///6p\n",
       "lgAFd/pAjj62MvZEZrIoHYMnRa2EGJCvB4WogxbJMh1iRC42ajXGKouwK4i/Zsudvunkt7AAAAAY\n",
       "QZ9SRRUsM/8AE113m3XZFdwQcSPIh1WwAAAAEwGfcXRCvwAjroenJK54ZVAdHDcAAAAVAZ9zakK/\n",
       "ACO7ACdB9ZlSjM2gkqthAAAAKUGbeEmoQWyZTAh///6plgAFd55wjb0wqSAIiMkLI4gr2TuPNzzI\n",
       "TS9hAAAAF0GflkUVLDP/ABNdd5F0keEjBvFIWDSQAAAAEgGftXRCvwAjrocHZJbue0DSQAAAABMB\n",
       "n7dqQr8AI7r/h13ivz3QRcqBAAAAIkGbvEmoQWyZTAh///6plgACuCGG+KKQAKg8+xz7p1MBZcAA\n",
       "AAAYQZ/aRRUsM/8AE113kXL17ZMaPZIgYNJAAAAAFAGf+XRCvwAjrocHI2R692n0E3TBAAAAEgGf\n",
       "+2pCvwAjuv+HUONmjRY0kAAAAChBm+BJqEFsmUwIf//+qZYAArfzWWIAcPXU3I0icI9hfhjpmR6f\n",
       "GMqBAAAAF0GeHkUVLDP/ABNdd5Fy9emIITzcpGQXAAAAEgGePXRCvwAjrocHZJbue0DSQAAAABMB\n",
       "nj9qQr8AI7r/hyD647KDIaSBAAAAQEGaJEmoQWyZTAh///6plgACt/IVHQBCyEXrFXxlTkCbG6sR\n",
       "5gwmpp4WqFBYPSnF+xjik+7ousIgvU63eeuUzlwAAAAYQZ5CRRUsM/8AE113kXSMtjsnLnT1OUgt\n",
       "AAAAFAGeYXRCvwAjrocHI2R692n0E3TBAAAAEgGeY2pCvwAjuv+HUONmjRY0kAAAADVBmmhJqEFs\n",
       "mUwIf//+qZYAArfyFYJAFNENuKfJuAUApQhShYqG3VkTlGgzSryawcyCIKregAAAABhBnoZFFSwz\n",
       "/wATXXeRcuyK7gg4keRDtbEAAAATAZ6ldEK/ACOuhwcSVzwyqA6PNgAAABUBnqdqQr8AI7r/hzsc\n",
       "tO761huta2EAAABBQZqsSahBbJlMCHf//qmWAAK7/dIhvdUrHgurp5iZPQ8h0QRfOoIdLfSXB7IP\n",
       "7u5Ohp3i4JxY1TxK8vHitq6NAMIAAAAYQZ7KRRUsM/8AE113kXL16YgbVLjxTtbBAAAAEwGe6XRC\n",
       "vwAjrocHZJbueoyTzoUAAAATAZ7rakK/ACO6/4cg+r6rF9trYQAAAClBmu5JqEFsmUwUTD///qmW\n",
       "AAK7/VwA3zQi4CuWt4cgXxcti1iORe2AgQAAABMBnw1qQr8AI8GZpoQJLRu+tqmLAAAAKUGbEknh\n",
       "ClJlMCH//qmWAAFb+QsdlBpADOIcEc+RLLpPiDPPkJsRczQIAAAAF0GfMEU0TDP/ABNcgt83KPCK\n",
       "/OtwJaaVAAAAEgGfT3RCvwAjroa3iSueGYjSoAAAABMBn1FqQr8AI7r/N52OWnd9bVMWAAAAIEGb\n",
       "VkmoQWiZTAh///6plgABW/mty4S4f+5HwTSsOh0DAAAAFkGfdEURLDP/ABNdd4x5evTEDaplTFkA\n",
       "AAASAZ+TdEK/ACOuhreyS3c9oJJBAAAAEQGflWpCvwAjuv83kH1fVvJJAAAAREGbmkmoQWyZTAh/\n",
       "//6plgABW/kKjoAfiebcE1bv5qBYVejTgt5QW5jmJboTpAJTJsctDe8YulPGyVZG9npfgTh/CY4u\n",
       "AAAAGEGfuEUVLDP/ABNdd4x6RlrY8wKTUqKNKwAAABUBn9d0Qr8AI66Gt73bv6nl8M8BJIAAAAAR\n",
       "AZ/ZakK/ACO6/zeQfV9W8kkAAAAvQZveSahBbJlMCHf//qmWAAFb+GacADOBU+pxl+44yLkZF6Ef\n",
       "U3oK+N/jfStqBeEAAAAZQZ/8RRUsM/8AE113jHpGWx2Tru4YGLGWwAAAACUBnht0Qr8AI66Gt73c\n",
       "P63PXhpIrsHZwteeSswZREgAwmYp6yqFAAAAFAGeHWpCvwAjuv83qHGzRnRa0y2BAAAALUGaAEmo\n",
       "QWyZTBRMP//+qZYAAVv5rRJAJYnQI/Bgc7uhjZYgzBgBmeJfX8RkCAAAABUBnj9qQr8AI8GZpoQJ\n",
       "LRu+tYbrZbEAAAA3QZokSeEKUmUwIf/+qZYAAV3+ZtDe62Mo2EZrIr6Vu6mdzm3WKPPUENnvoGpz\n",
       "jUtYNfJ+iBHEnAAAABhBnkJFNEwz/wATXILfNdi5mml8mVCvlsEAAAATAZ5hdEK/ACOuhreyS3c9\n",
       "RknqhQAAABEBnmNqQr8AI7r/D8g+r6t5yQAAACdBmmhJqEFomUwIf//+qZYAAV38y6DEok208MI2\n",
       "SBtOk+aHxR2rfpIAAAAXQZ6GRREsM/8AE113if0jLY7J13cXHJEAAAAUAZ6ldEK/ACOuho/e7h/W\n",
       "56+KaYAAAAARAZ6nakK/ACO6/w/IPq+reckAAAAcQZqsSahBbJlMCH///qmWAACuCGG+K4DI3c+Y\n",
       "vgAAABdBnspFFSwz/wATXXeJ/SMtjsnXdxcckQAAABQBnul0Qr8AI66Gj97uH9bnr4ppgQAAABEB\n",
       "nutqQr8AI7r/D8g+r6t5yQAAADJBmvBJqEFsmUwId//+qZYAAK4IYci7YgEYC2tlyBWdy0QlDPzl\n",
       "mh306+z+OAbMYRQ81QAAABdBnw5FFSwz/wATXXeJ/SMtjsnXdxcckAAAABQBny10Qr8AI66Gj97u\n",
       "H9bnr4ppgAAAABEBny9qQr8AI7r/D8g+r6t5yQAAAB9BmzRJqEFsmUwId//+qZYAAK4IYci/yEjy\n",
       "Uh8iZRXgAAAAGUGfUkUVLDP/ABNdd4n9Iy2Oydd3DAxY9sAAAAAmAZ9xdEK/ACOuho/e7h/W568N\n",
       "JFdguv2IP+1xBIwKoSEggoHwHtkAAAATAZ9zakK/ACO6/w/IPq+qxfb7YQAAAB9Bm3ZJqEFsmUwU\n",
       "TDv//qmWAACt/J0F15sfF40NEyEDAAAAFQGflWpCvwAjwZmaQgSWjd9aw3W9sAAAADJBm5hJ4QpS\n",
       "ZTBSw//+qZYAAK7/VwDX62MvZEZrIoHYMnRa2EGHjHc1vlu82ouoxqgQgAAAABMBn7dqQr8AARWQ\n",
       "nmRH5HzG3ysxAAAAIEGbvEnhDomUwIf//qmWAACu888st54fsYp56lVtST7QAAAAFEGf2kUVPDP/\n",
       "AABLaUv3u3OvJt0UAAAAEAGf+XRCvwAAivgyID40W0EAAAARAZ/7akK/AACK26N3b5dowlIAAAAd\n",
       "QZvgSahBaJlMCH///qmWAABXBnxBn/QT3FV+zb8AAAAUQZ4eRREsM/8AAEtpS/e7c68m3RUAAAAQ\n",
       "AZ49dEK/AACK+DIgPjRbQAAAABEBnj9qQr8AAIrbo3dvl2jCUwAAACZBmiRJqEFsmUwId//+qZYA\n",
       "AFb+Gd01J9mK2fj8a/M1cSUsHjPrgAAAABRBnkJFFSwz/wAAS2lL97tzrybdFQAAABABnmF0Qr8A\n",
       "AIq5sazBdERhAAAAEQGeY2pCvwAAitujd2+XaMJSAAAAH0GaaEmoQWyZTAh3//6plgAAVwZ8QeVq\n",
       "N6yWDdnuNHcAAAAVQZ6GRRUsM/8AAEtphnAJd0nHm9VpAAAAIQGepXRCvwAAiwiiyiHvRecks1xl\n",
       "Vs/6poUArRPC8/YymAAAABIBnqdqQr8AAIrruXzULisr+CEAAAAeQZqqSahBbJlMFEw7//6plgAA\n",
       "Vv5OguvNj4vGhrUmAAAAEwGeyWpCvwAAitujd2+XZ5d8pTEAAAAmQZrMSeEKUmUwUsO//qmWAABX\n",
       "BnxAOBl/TNMbSvWreh3E/aK9fgkAAAATAZ7rakK/AACKyE8yI/I+Y2+lMQAAAB9BmvBJ4Q6JlMCH\n",
       "f/6plgAAV3nnkYVvDy2FedK1JOBBAAAAFEGfDkUVPDP/AAAltKX73bnXk3EUAAAAEAGfLXRCvwAA\n",
       "RXwZEB8aW0AAAAARAZ8vakK/AABFbdG7t8u0YtMAAAAdQZs0SahBaJlMCHf//qmWAAArgz4g8rUb\n",
       "1ksSDrgAAAAUQZ9SRREsM/8AACW0pfvdudeTcRQAAAAQAZ9xdEK/AABFXNjWYLo0YQAAABEBn3Nq\n",
       "Qr8AAEVt0bu3y7Ri0wAAABxBm3hJqEFsmUwIZ//+nhAAAU/gTpcXC1AYLXOZAAAAFEGflkUVLDP/\n",
       "AAAltKX00Gk5PyAYAAAAEgGftXRCvwAARYRRZRD3oxi0gAAAABEBn7dqQr8AAEVt0bu3y7Ri0wAA\n",
       "ABNBm7lJqEFsmUwIV//+OEAAABxwAAAamW1vb3YAAABsbXZoZAAAAAAAAAAAAAAAAAAAA+gAAGGo\n",
       "AAEAAAEAAAAAAAAAAAAAAAABAAAAAAAAAAAAAAAAAAAAAQAAAAAAAAAAAAAAAAAAQAAAAAAAAAAA\n",
       "AAAAAAAAAAAAAAAAAAAAAAAAAAAAAAIAABnEdHJhawAAAFx0a2hkAAAAAwAAAAAAAAAAAAAAAQAA\n",
       "AAAAAGGoAAAAAAAAAAAAAAAAAAAAAAABAAAAAAAAAAAAAAAAAAAAAQAAAAAAAAAAAAAAAAAAQAAA\n",
       "AAGwAAABIAAAAAAAJGVkdHMAAAAcZWxzdAAAAAAAAAABAABhqAAABAAAAQAAAAAZPG1kaWEAAAAg\n",
       "bWRoZAAAAAAAAAAAAAAAAAAAKAAAA+gAVcQAAAAAAC1oZGxyAAAAAAAAAAB2aWRlAAAAAAAAAAAA\n",
       "AAAAVmlkZW9IYW5kbGVyAAAAGOdtaW5mAAAAFHZtaGQAAAABAAAAAAAAAAAAAAAkZGluZgAAABxk\n",
       "cmVmAAAAAAAAAAEAAAAMdXJsIAAAAAEAABinc3RibAAAALNzdHNkAAAAAAAAAAEAAACjYXZjMQAA\n",
       "AAAAAAABAAAAAAAAAAAAAAAAAAAAAAGwASAASAAAAEgAAAAAAAAAAQAAAAAAAAAAAAAAAAAAAAAA\n",
       "AAAAAAAAAAAAAAAAAAAAABj//wAAADFhdmNDAWQAFf/hABhnZAAVrNlBsJaEAAADAAQAAAMAoDxY\n",
       "tlgBAAZo6+PLIsAAAAAcdXVpZGtoQPJfJE/FujmlG88DI/MAAAAAAAAAGHN0dHMAAAAAAAAAAQAA\n",
       "AfQAAAIAAAAAGHN0c3MAAAAAAAAAAgAAAAEAAAD7AAAPqGN0dHMAAAAAAAAB8wAAAAEAAAQAAAAA\n",
       "AQAACgAAAAABAAAEAAAAAAEAAAAAAAAAAQAAAgAAAAABAAAKAAAAAAEAAAQAAAAAAQAAAAAAAAAB\n",
       "AAACAAAAAAEAAAoAAAAAAQAABAAAAAABAAAAAAAAAAEAAAIAAAAAAQAACgAAAAABAAAEAAAAAAEA\n",
       "AAAAAAAAAQAAAgAAAAABAAAKAAAAAAEAAAQAAAAAAQAAAAAAAAABAAACAAAAAAEAAAoAAAAAAQAA\n",
       "BAAAAAABAAAAAAAAAAEAAAIAAAAAAQAACgAAAAABAAAEAAAAAAEAAAAAAAAAAQAAAgAAAAABAAAK\n",
       "AAAAAAEAAAQAAAAAAQAAAAAAAAABAAACAAAAAAEAAAoAAAAAAQAABAAAAAABAAAAAAAAAAEAAAIA\n",
       "AAAAAQAACgAAAAABAAAEAAAAAAEAAAAAAAAAAQAAAgAAAAABAAAKAAAAAAEAAAQAAAAAAQAAAAAA\n",
       "AAABAAACAAAAAAEAAAoAAAAAAQAABAAAAAABAAAAAAAAAAEAAAIAAAAAAQAACgAAAAABAAAEAAAA\n",
       "AAEAAAAAAAAAAQAAAgAAAAABAAAKAAAAAAEAAAQAAAAAAQAAAAAAAAABAAACAAAAAAEAAAoAAAAA\n",
       "AQAABAAAAAABAAAAAAAAAAEAAAIAAAAAAQAACgAAAAABAAAEAAAAAAEAAAAAAAAAAQAAAgAAAAAB\n",
       "AAAKAAAAAAEAAAQAAAAAAQAAAAAAAAABAAACAAAAAAEAAAoAAAAAAQAABAAAAAABAAAAAAAAAAEA\n",
       "AAIAAAAAAQAACgAAAAABAAAEAAAAAAEAAAAAAAAAAQAAAgAAAAABAAAKAAAAAAEAAAQAAAAAAQAA\n",
       "AAAAAAABAAACAAAAAAEAAAoAAAAAAQAABAAAAAABAAAAAAAAAAEAAAIAAAAAAQAACgAAAAABAAAE\n",
       "AAAAAAEAAAAAAAAAAQAAAgAAAAABAAAKAAAAAAEAAAQAAAAAAQAAAAAAAAABAAACAAAAAAEAAAoA\n",
       "AAAAAQAABAAAAAABAAAAAAAAAAEAAAIAAAAAAQAACgAAAAABAAAEAAAAAAEAAAAAAAAAAQAAAgAA\n",
       "AAABAAAKAAAAAAEAAAQAAAAAAQAAAAAAAAABAAACAAAAAAEAAAoAAAAAAQAABAAAAAABAAAAAAAA\n",
       "AAEAAAIAAAAAAQAACgAAAAABAAAEAAAAAAEAAAAAAAAAAQAAAgAAAAABAAAKAAAAAAEAAAQAAAAA\n",
       "AQAAAAAAAAABAAACAAAAAAEAAAoAAAAAAQAABAAAAAABAAAAAAAAAAEAAAIAAAAAAQAACgAAAAAB\n",
       "AAAEAAAAAAEAAAAAAAAAAQAAAgAAAAABAAAKAAAAAAEAAAQAAAAAAQAAAAAAAAABAAACAAAAAAEA\n",
       "AAoAAAAAAQAABAAAAAABAAAAAAAAAAEAAAIAAAAAAQAACgAAAAABAAAEAAAAAAEAAAAAAAAAAQAA\n",
       "AgAAAAABAAAKAAAAAAEAAAQAAAAAAQAAAAAAAAABAAACAAAAAAEAAAoAAAAAAQAABAAAAAABAAAA\n",
       "AAAAAAEAAAIAAAAAAQAACgAAAAABAAAEAAAAAAEAAAAAAAAAAQAAAgAAAAABAAAKAAAAAAEAAAQA\n",
       "AAAAAQAAAAAAAAABAAACAAAAAAEAAAoAAAAAAQAABAAAAAABAAAAAAAAAAEAAAIAAAAAAQAACgAA\n",
       "AAABAAAEAAAAAAEAAAAAAAAAAQAAAgAAAAABAAAKAAAAAAEAAAQAAAAAAQAAAAAAAAABAAACAAAA\n",
       "AAEAAAoAAAAAAQAABAAAAAABAAAAAAAAAAEAAAIAAAAAAQAACgAAAAABAAAEAAAAAAEAAAAAAAAA\n",
       "AQAAAgAAAAABAAAKAAAAAAEAAAQAAAAAAQAAAAAAAAABAAACAAAAAAEAAAoAAAAAAQAABAAAAAAB\n",
       "AAAAAAAAAAEAAAIAAAAAAQAACgAAAAABAAAEAAAAAAEAAAAAAAAAAQAAAgAAAAABAAAKAAAAAAEA\n",
       "AAQAAAAAAQAAAAAAAAABAAACAAAAAAEAAAoAAAAAAQAABAAAAAABAAAAAAAAAAEAAAIAAAAAAQAA\n",
       "CgAAAAABAAAEAAAAAAEAAAAAAAAAAQAAAgAAAAABAAAKAAAAAAEAAAQAAAAAAQAAAAAAAAABAAAC\n",
       "AAAAAAEAAAoAAAAAAQAABAAAAAABAAAAAAAAAAEAAAIAAAAAAQAACgAAAAABAAAEAAAAAAEAAAAA\n",
       "AAAAAQAAAgAAAAABAAAKAAAAAAEAAAQAAAAAAQAAAAAAAAABAAACAAAAAAEAAAoAAAAAAQAABAAA\n",
       "AAABAAAAAAAAAAEAAAIAAAAAAQAACgAAAAABAAAEAAAAAAEAAAAAAAAAAQAAAgAAAAABAAAKAAAA\n",
       "AAEAAAQAAAAAAQAAAAAAAAABAAACAAAAAAEAAAoAAAAAAQAABAAAAAABAAAAAAAAAAEAAAIAAAAA\n",
       "AQAACgAAAAABAAAEAAAAAAEAAAAAAAAAAQAAAgAAAAABAAAKAAAAAAEAAAQAAAAAAQAAAAAAAAAB\n",
       "AAACAAAAAAEAAAoAAAAAAQAABAAAAAABAAAAAAAAAAEAAAIAAAAAAQAACgAAAAABAAAEAAAAAAEA\n",
       "AAAAAAAAAQAAAgAAAAABAAAKAAAAAAEAAAQAAAAAAQAAAAAAAAABAAACAAAAAAIAAAQAAAAAAQAA\n",
       "CgAAAAABAAAEAAAAAAEAAAAAAAAAAQAAAgAAAAABAAAKAAAAAAEAAAQAAAAAAQAAAAAAAAABAAAC\n",
       "AAAAAAEAAAoAAAAAAQAABAAAAAABAAAAAAAAAAEAAAIAAAAAAQAACgAAAAABAAAEAAAAAAEAAAAA\n",
       "AAAAAQAAAgAAAAABAAAKAAAAAAEAAAQAAAAAAQAAAAAAAAABAAACAAAAAAEAAAoAAAAAAQAABAAA\n",
       "AAABAAAAAAAAAAEAAAIAAAAAAQAACgAAAAABAAAEAAAAAAEAAAAAAAAAAQAAAgAAAAABAAAKAAAA\n",
       "AAEAAAQAAAAAAQAAAAAAAAABAAACAAAAAAEAAAoAAAAAAQAABAAAAAABAAAAAAAAAAEAAAIAAAAA\n",
       "AQAACgAAAAABAAAEAAAAAAEAAAAAAAAAAQAAAgAAAAABAAAKAAAAAAEAAAQAAAAAAQAAAAAAAAAB\n",
       "AAACAAAAAAEAAAoAAAAAAQAABAAAAAABAAAAAAAAAAEAAAIAAAAAAQAACgAAAAABAAAEAAAAAAEA\n",
       "AAAAAAAAAQAAAgAAAAABAAAKAAAAAAEAAAQAAAAAAQAAAAAAAAABAAACAAAAAAEAAAoAAAAAAQAA\n",
       "BAAAAAABAAAAAAAAAAEAAAIAAAAAAQAACgAAAAABAAAEAAAAAAEAAAAAAAAAAQAAAgAAAAABAAAK\n",
       "AAAAAAEAAAQAAAAAAQAAAAAAAAABAAACAAAAAAEAAAoAAAAAAQAABAAAAAABAAAAAAAAAAEAAAIA\n",
       "AAAAAQAACgAAAAABAAAEAAAAAAEAAAAAAAAAAQAAAgAAAAABAAAKAAAAAAEAAAQAAAAAAQAAAAAA\n",
       "AAABAAACAAAAAAEAAAoAAAAAAQAABAAAAAABAAAAAAAAAAEAAAIAAAAAAQAACgAAAAABAAAEAAAA\n",
       "AAEAAAAAAAAAAQAAAgAAAAABAAAKAAAAAAEAAAQAAAAAAQAAAAAAAAABAAACAAAAAAEAAAoAAAAA\n",
       "AQAABAAAAAABAAAAAAAAAAEAAAIAAAAAAQAACgAAAAABAAAEAAAAAAEAAAAAAAAAAQAAAgAAAAAB\n",
       "AAAKAAAAAAEAAAQAAAAAAQAAAAAAAAABAAACAAAAAAEAAAoAAAAAAQAABAAAAAABAAAAAAAAAAEA\n",
       "AAIAAAAAAQAACgAAAAABAAAEAAAAAAEAAAAAAAAAAQAAAgAAAAABAAAKAAAAAAEAAAQAAAAAAQAA\n",
       "AAAAAAABAAACAAAAAAEAAAoAAAAAAQAABAAAAAABAAAAAAAAAAEAAAIAAAAAAQAACgAAAAABAAAE\n",
       "AAAAAAEAAAAAAAAAAQAAAgAAAAABAAAKAAAAAAEAAAQAAAAAAQAAAAAAAAABAAACAAAAAAEAAAoA\n",
       "AAAAAQAABAAAAAABAAAAAAAAAAEAAAIAAAAAAQAACgAAAAABAAAEAAAAAAEAAAAAAAAAAQAAAgAA\n",
       "AAABAAAKAAAAAAEAAAQAAAAAAQAAAAAAAAABAAACAAAAAAEAAAoAAAAAAQAABAAAAAABAAAAAAAA\n",
       "AAEAAAIAAAAAAQAACgAAAAABAAAEAAAAAAEAAAAAAAAAAQAAAgAAAAABAAAKAAAAAAEAAAQAAAAA\n",
       "AQAAAAAAAAABAAACAAAAAAEAAAoAAAAAAQAABAAAAAABAAAAAAAAAAEAAAIAAAAAAQAACgAAAAAB\n",
       "AAAEAAAAAAEAAAAAAAAAAQAAAgAAAAABAAAKAAAAAAEAAAQAAAAAAQAAAAAAAAABAAACAAAAAAEA\n",
       "AAoAAAAAAQAABAAAAAABAAAAAAAAAAEAAAIAAAAAAQAACgAAAAABAAAEAAAAAAEAAAAAAAAAAQAA\n",
       "AgAAAAABAAAGAAAAAAEAAAIAAAAAAQAACgAAAAABAAAEAAAAAAEAAAAAAAAAAQAAAgAAAAABAAAK\n",
       "AAAAAAEAAAQAAAAAAQAAAAAAAAABAAACAAAAAAEAAAoAAAAAAQAABAAAAAABAAAAAAAAAAEAAAIA\n",
       "AAAAAQAACgAAAAABAAAEAAAAAAEAAAAAAAAAAQAAAgAAAAABAAAGAAAAAAEAAAIAAAAAAQAACgAA\n",
       "AAABAAAEAAAAAAEAAAAAAAAAAQAAAgAAAAABAAAKAAAAAAEAAAQAAAAAAQAAAAAAAAABAAACAAAA\n",
       "AAEAAAoAAAAAAQAABAAAAAABAAAAAAAAAAEAAAIAAAAAAQAACgAAAAABAAAEAAAAAAEAAAAAAAAA\n",
       "AQAAAgAAAAABAAAKAAAAAAEAAAQAAAAAAQAAAAAAAAABAAACAAAAAAEAAAYAAAAAAQAAAgAAAAAB\n",
       "AAAGAAAAAAEAAAIAAAAAAQAACgAAAAABAAAEAAAAAAEAAAAAAAAAAQAAAgAAAAABAAAKAAAAAAEA\n",
       "AAQAAAAAAQAAAAAAAAABAAACAAAAAAEAAAoAAAAAAQAABAAAAAABAAAAAAAAAAEAAAIAAAAAAQAA\n",
       "CgAAAAABAAAEAAAAAAEAAAAAAAAAAQAAAgAAAAABAAAGAAAAAAEAAAIAAAAAAQAABgAAAAABAAAC\n",
       "AAAAAAEAAAoAAAAAAQAABAAAAAABAAAAAAAAAAEAAAIAAAAAAQAACgAAAAABAAAEAAAAAAEAAAAA\n",
       "AAAAAQAAAgAAAAABAAAKAAAAAAEAAAQAAAAAAQAAAAAAAAABAAACAAAAAAEAAAQAAAAAHHN0c2MA\n",
       "AAAAAAAAAQAAAAEAAAH0AAAAAQAAB+RzdHN6AAAAAAAAAAAAAAH0AAAOEQAAAYoAAAAxAAAAIgAA\n",
       "ABsAAABCAAAAHAAAABgAAAASAAAASQAAAB8AAAAZAAAAEwAAAEYAAAAdAAAAGQAAABMAAABHAAAA\n",
       "HQAAABMAAAAXAAAAGQAAABgAAAATAAAAEwAAADkAAAAcAAAAFwAAABMAAAAuAAAAHQAAABMAAAAX\n",
       "AAAAGQAAABgAAAATAAAAEwAAAF4AAAAdAAAAEwAAABcAAAAZAAAAGAAAABMAAAATAAAAWAAAAB0A\n",
       "AAATAAAAFwAAABkAAAAYAAAAEwAAABMAAABqAAAAHQAAABMAAAAXAAAAJAAAABgAAAATAAAAEwAA\n",
       "ABkAAAAYAAAAEwAAABMAAABwAAAAHQAAABMAAAAXAAAAIgAAABgAAAATAAAAEwAAABkAAAAYAAAA\n",
       "EwAAABMAAAAZAAAAGAAAABMAAAATAAAAGQAAABgAAAATAAAAEwAAAGUAAAAcAAAAFwAAABMAAAAe\n",
       "AAAAGgAAABMAAAATAAAAKgAAABsAAAATAAAAEwAAABkAAAAaAAAAEwAAABMAAAAZAAAAGgAAABMA\n",
       "AAATAAAAGQAAABoAAAATAAAAEwAAACMAAAAaAAAAEwAAABMAAAAkAAAAGgAAABMAAAATAAAAYQAA\n",
       "AB4AAAATAAAAFwAAABkAAAAaAAAAEwAAABMAAAAZAAAAGgAAABMAAAATAAAAGQAAABoAAAATAAAA\n",
       "EwAAABkAAAAaAAAAEwAAABMAAABTAAAAHQAAABcAAAATAAAAGQAAABoAAAATAAAAEwAAABkAAAAa\n",
       "AAAAEwAAABMAAABTAAAAHQAAABcAAAATAAAAJAAAABoAAAATAAAAEwAAAEkAAAAdAAAAFwAAABMA\n",
       "AAAgAAAAGgAAABMAAAATAAAAMQAAAB4AAAAXAAAAEwAAABsAAAAbAAAAFAAAABMAAAA7AAAAHQAA\n",
       "ABcAAAATAAAANwAAAB4AAAATAAAAFwAAABkAAAAcAAAAEwAAABMAAAA6AAAAHgAAABcAAAATAAAA\n",
       "LAAAACAAAAATAAAAGQAAADAAAAAfAAAAEwAAABgAAAAZAAAAGAAAABIAAAASAAAARAAAAB0AAAAX\n",
       "AAAAEgAAAC0AAAAdAAAAFwAAABIAAAA1AAAAHQAAABcAAAASAAAANgAAABwAAAAWAAAAEgAAACsA\n",
       "AAAcAAAAFgAAABIAAAAhAAAAHAAAABYAAAASAAAAJQAAABwAAAAWAAAAEgAAACMAAAAcAAAAFgAA\n",
       "ABIAAAAhAAAAHAAAABYAAAASAAAAJgAAACAAAAAWAAAAFgAAAC0AAAAeAAAAEgAAABYAAAAqAAAA\n",
       "HQAAABIAAAAWAAAAFwAADLMAAAGjAAAAMAAAACIAAAAdAAAAOAAAACAAAAAeAAAADwAAACgAAAAZ\n",
       "AAAAFQAAABYAAABAAAAAGQAAAA8AAAAVAAAAMgAAABYAAAAUAAAADwAAACwAAAAYAAAAFAAAABQA\n",
       "AAAtAAAAGAAAABQAAAARAAAAJgAAABkAAAAVAAAAFAAAACgAAAAYAAAAFAAAABEAAAA4AAAAGgAA\n",
       "ABUAAAAVAAAAOgAAABoAAAAVAAAAFQAAADIAAAAbAAAAEQAAABcAAAAoAAAAGwAAABgAAAAYAAAA\n",
       "QQAAABsAAAAXAAAAGAAAAEsAAAAXAAAAFQAAABEAAAAyAAAAGQAAABUAAAAVAAAAJwAAABkAAAAV\n",
       "AAAAFQAAACIAAAAZAAAAFQAAABUAAAAqAAAAGQAAABUAAAAVAAAAPAAAABkAAAAVAAAAFQAAACcA\n",
       "AAAbAAAAFgAAABcAAAAtAAAAGwAAABYAAAAXAAAAOgAAABsAAAAWAAAAFgAAACkAAAAaAAAAFgAA\n",
       "ABYAAAAjAAAAGgAAABYAAAAWAAAAJgAAABoAAAAWAAAAFgAAACYAAAAaAAAAFgAAABUAAAAmAAAA\n",
       "GgAAABYAAAAVAAAAPwAAABwAAAAXAAAAGQAAAEQAAAAdAAAAFwAAABgAAAAvAAAAGwAAABYAAAAV\n",
       "AAAALgAAABoAAAAWAAAAFwAAACoAAAAaAAAAFgAAABYAAAAyAAAAGwAAABYAAAAXAAAASAAAABoA\n",
       "AAAWAAAAFwAAACkAAAAcAAAAFwAAABcAAABHAAAAHAAAABcAAAAZAAAALQAAABsAAAAWAAAAFwAA\n",
       "ACYAAAAcAAAAGAAAABYAAAAsAAAAGwAAABYAAAAXAAAARAAAABwAAAAYAAAAFgAAADkAAAAcAAAA\n",
       "FwAAABkAAABFAAAAHAAAABcAAAAXAAAALQAAABcAAAAtAAAAGwAAABYAAAAXAAAAJAAAABoAAAAW\n",
       "AAAAFQAAAEgAAAAcAAAAGQAAABUAAAAzAAAAHQAAACkAAAAYAAAAMQAAABkAAAA7AAAAHAAAABcA\n",
       "AAAVAAAAKwAAABsAAAAYAAAAFQAAACAAAAAbAAAAGAAAABUAAAA2AAAAGwAAABgAAAAVAAAAIwAA\n",
       "AB0AAAAqAAAAFwAAACMAAAAZAAAANgAAABcAAAAkAAAAGAAAABQAAAAVAAAAIQAAABgAAAAUAAAA\n",
       "FQAAACoAAAAYAAAAFAAAABUAAAAjAAAAGQAAACUAAAAWAAAAIgAAABcAAAAqAAAAFwAAACMAAAAY\n",
       "AAAAFAAAABUAAAAhAAAAGAAAABQAAAAVAAAAIAAAABgAAAAWAAAAFQAAABcAAAAUc3RjbwAAAAAA\n",
       "AAABAAAALAAAAGF1ZHRhAAAAWW1ldGEAAAAAAAAAIWhkbHIAAAAAAAAAAG1kaXJhcHBsAAAAAAAA\n",
       "AAAAAAAALGlsc3QAAAAkqXRvbwAAABxkYXRhAAAAAQAAAABMYXZmNTguMi4xMDI=\n",
       "\">\n",
       "  Your browser does not support the video tag.\n",
       "</video>"
      ],
      "text/plain": [
       "<matplotlib.animation.FuncAnimation at 0x20f6ff71240>"
      ]
     },
     "execution_count": 101,
     "metadata": {},
     "output_type": "execute_result"
    },
    {
     "data": {
      "image/png": "[encoded data removed]",
      "text/plain": [
       "<matplotlib.figure.Figure at 0x20f6fc64400>"
      ]
     },
     "metadata": {},
     "output_type": "display_data"
    }
   ],
   "source": [
    "# Trajectory Plot\n",
    "rc('animation', html='html5')\n",
    "fig = plt.figure()\n",
    "ax = plt.axes(xlim = (-1, 1), ylim = (-90, 10))\n",
    "point, = ax.plot([0], [0], marker=\"o\", ms = 20)\n",
    "g = 9.81\n",
    "v = 10\n",
    "#theta = np.pi * 0.5\n",
    "def fun(t):\n",
    "    return (v - 0.5 * g * t) * t\n",
    "def animate(i):\n",
    "    point.set_data(0, fun(0.01 * i))\n",
    "    return (point,)\n",
    "anim = animation.FuncAnimation(fig, animate, frames=500, interval=50, blit=True)\n",
    "anim"
   ]
  },
  {
   "cell_type": "code",
   "execution_count": null,
   "metadata": {
    "collapsed": true
   },
   "outputs": [],
   "source": [
    "# Example Solution\n",
    "\n",
    "# Creates a figure window.\n",
    "fig = plt.figure()\n",
    "\n",
    "# Creates axes within the window\n",
    "ax = plt.axes(xlim=(0, 10), ylim=(0, 5))\n",
    "\n",
    "# Object to animate\n",
    "point, = ax.plot([1], [1], marker='o', ms=40)  # for points\n",
    "\n",
    "g = 9.81\n",
    "v = 10\n",
    "theta = np.pi/4\n",
    "\n",
    "# Position of mass as function of time\n",
    "def fun(t):\n",
    "    x = v * t * np.cos(theta)\n",
    "    y = v * t * np.sin(theta) - (0.5 * g * t**2)\n",
    "    return x, y\n",
    "\n",
    "def animate(i):   \n",
    "    x, y = fun(i/10)   \n",
    "    point.set_data(x, y)    \n",
    "    return  (point,)\n",
    "    \n",
    "# Animates the data; 50 frames, 50ms delay between frames, blit=True : only re-draw the parts that have changed.\n",
    "anim = animation.FuncAnimation(fig, animate, frames=50, interval=50, blit=True)\n",
    "\n",
    "anim"
   ]
  },
  {
   "cell_type": "markdown",
   "metadata": {
    "collapsed": true
   },
   "source": [
    "### Review Exercise: 3D plotting"
   ]
  },
  {
   "cell_type": "code",
   "execution_count": null,
   "metadata": {
    "collapsed": true
   },
   "outputs": [],
   "source": []
  },
  {
   "cell_type": "markdown",
   "metadata": {},
   "source": [
    "### Extension Exercise: Plotting System of Simultaneous Equations Interactively. \n",
    "\n"
   ]
  },
  {
   "cell_type": "code",
   "execution_count": null,
   "metadata": {
    "collapsed": true
   },
   "outputs": [],
   "source": []
  },
  {
   "cell_type": "markdown",
   "metadata": {
    "slideshow": {
     "slide_type": "slide"
    }
   },
   "source": [
    "# Summary\n",
    "\n",
    "- Matplotlib can be used to produce a wide range of styles of figures and plots of your data.\n",
    "- Simple line and scatter plots can be customised using a `formatstring`\n",
    "- Additional features such as a figure legend and axis labels can be set as arguments when creating plots.\n",
    "- We can \"vectorise\" other functions so that they accept data structure as arguments.\n",
    "- Broasdcasting is a useful tool for applying information in one numpy array to another without having to repeat or reshape the arrays to match one another.  \n",
    "- The matplotlib library can be used to quicky produce simple plots to visualise and check your solutions to mathematical problems.  \n",
    "- This includes fitting a curve or a relationship to a dataset."
   ]
  },
  {
   "cell_type": "markdown",
   "metadata": {
    "slideshow": {
     "slide_type": "slide"
    }
   },
   "source": [
    "# Homework \n",
    "\n",
    "1. __PULL__ the changes you made in-class today to your personal computer.\n",
    "1. __COMPLETE__ any unfinished Review Exercises.\n",
    "1. __PUSH__ the changes you make at home to your online repository. "
   ]
  }
 ],
 "metadata": {
  "kernelspec": {
   "display_name": "Python 3",
   "language": "python",
   "name": "python3"
  },
  "language_info": {
   "codemirror_mode": {
    "name": "ipython",
    "version": 3
   },
   "file_extension": ".py",
   "mimetype": "text/x-python",
   "name": "python",
   "nbconvert_exporter": "python",
   "pygments_lexer": "ipython3",
   "version": "3.6.3"
  }
 },
 "nbformat": 4,
 "nbformat_minor": 2
}
